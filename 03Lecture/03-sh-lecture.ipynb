{
 "cells": [
  {
   "cell_type": "code",
   "execution_count": 5,
   "id": "bdfb3b96",
   "metadata": {},
   "outputs": [
    {
     "name": "stdout",
     "output_type": "stream",
     "text": [
      "a has to be greater than b\n"
     ]
    }
   ],
   "source": [
    "# if else statement\n",
    "# where a > b print hello world\n",
    "\n",
    "a = 50\n",
    "b = 100\n",
    "\n",
    "if a > b:\n",
    "    print(\"Hello World!\")\n",
    "elif a==b:\n",
    "    print(\"a and be are equal\")\n",
    "else:\n",
    "    print(\"a has to be greater than b\")\n"
   ]
  },
  {
   "cell_type": "code",
   "execution_count": 6,
   "id": "b96ae93e",
   "metadata": {},
   "outputs": [
    {
     "name": "stdout",
     "output_type": "stream",
     "text": [
      "B\n"
     ]
    }
   ],
   "source": [
    "print(\"A\") if a > b else print(\"B\")"
   ]
  },
  {
   "cell_type": "code",
   "execution_count": 7,
   "id": "abf3c05d",
   "metadata": {},
   "outputs": [
    {
     "name": "stdout",
     "output_type": "stream",
     "text": [
      "B\n"
     ]
    }
   ],
   "source": [
    "print(\"A\") if a > b else print(\"=\") if a == b else print(\"B\")"
   ]
  },
  {
   "cell_type": "code",
   "execution_count": 8,
   "id": "9454705a",
   "metadata": {},
   "outputs": [
    {
     "name": "stdout",
     "output_type": "stream",
     "text": [
      "Hello World!\n"
     ]
    }
   ],
   "source": [
    "# if a > b and c > a then print hello world\n",
    "\n",
    "a = 200\n",
    "b = 33\n",
    "c = 500\n",
    "\n",
    "if a > b and c > a:\n",
    "    print(\"Hello World!\")\n"
   ]
  },
  {
   "cell_type": "code",
   "execution_count": 10,
   "id": "fab848d3",
   "metadata": {},
   "outputs": [],
   "source": [
    "# if a > b or c > a then print hello world\n",
    "\n",
    "a = 200\n",
    "b = 33\n",
    "c = 100\n",
    "\n",
    "if a > b and c > a:\n",
    "    print(\"Hello World!\")"
   ]
  },
  {
   "cell_type": "code",
   "execution_count": 11,
   "id": "da06ce13",
   "metadata": {},
   "outputs": [
    {
     "name": "stdout",
     "output_type": "stream",
     "text": [
      "Hello World!\n"
     ]
    }
   ],
   "source": [
    "# if a > b or c > a then print hello world\n",
    "\n",
    "a = 200\n",
    "b = 33\n",
    "c = 100\n",
    "\n",
    "if a > b or c > a:\n",
    "    print(\"Hello World!\")"
   ]
  },
  {
   "cell_type": "code",
   "execution_count": 13,
   "id": "36f55979",
   "metadata": {},
   "outputs": [],
   "source": [
    "# if b > a ignore the condition\n",
    "\n",
    "a = 33\n",
    "b = 200\n",
    "\n",
    "if b > a:\n",
    "    pass"
   ]
  },
  {
   "cell_type": "code",
   "execution_count": 17,
   "id": "bce8251e",
   "metadata": {},
   "outputs": [
    {
     "name": "stdout",
     "output_type": "stream",
     "text": [
      "The variable is above ten\n",
      "The variable is also above 20!\n"
     ]
    }
   ],
   "source": [
    "# nested if statements\n",
    "\n",
    "x = 41\n",
    "\n",
    "if x > 10:\n",
    "    print(\"The variable is above ten\")\n",
    "    if x > 20:\n",
    "        print(\"The variable is also above 20!\")\n",
    "    else:\n",
    "        print(\"The variable is not above 20!\")\n"
   ]
  },
  {
   "cell_type": "code",
   "execution_count": 18,
   "id": "9c9b429d",
   "metadata": {},
   "outputs": [
    {
     "name": "stdout",
     "output_type": "stream",
     "text": [
      "The variable is above ten\n",
      "The variable is not above 20!\n"
     ]
    }
   ],
   "source": [
    "x = 11\n",
    "\n",
    "if x > 10:\n",
    "    print(\"The variable is above ten\")\n",
    "    if x > 20:\n",
    "        print(\"The variable is also above 20!\")\n",
    "    else:\n",
    "        print(\"The variable is not above 20!\")\n"
   ]
  },
  {
   "cell_type": "code",
   "execution_count": 22,
   "id": "5893c5e6",
   "metadata": {},
   "outputs": [
    {
     "name": "stdout",
     "output_type": "stream",
     "text": [
      "The variable is ten or below\n"
     ]
    }
   ],
   "source": [
    "x = 5\n",
    "\n",
    "if x > 10:\n",
    "    print(\"The variable is above ten\")\n",
    "    if x > 20:\n",
    "        print(\"The variable is also above 20!\")\n",
    "    else:\n",
    "        print(\"The variable is not above 20!\")\n",
    "else:\n",
    "    print(\"The variable is ten or below\")\n"
   ]
  },
  {
   "cell_type": "code",
   "execution_count": 32,
   "id": "3c6d4862",
   "metadata": {},
   "outputs": [
    {
     "name": "stdout",
     "output_type": "stream",
     "text": [
      "The first player wins\n"
     ]
    }
   ],
   "source": [
    "# rock-paper-scissor game\n",
    "# if player 1 selects rock, and player 2 selects ...\n",
    "\n",
    "player_1_selection = \"rock\"\n",
    "player_2_selection = \"scissors\"\n",
    "\n",
    "if player_1_selection == \"rock\":\n",
    "    if player_2_selection == \"rock\":\n",
    "        print(\"The players draw\")\n",
    "    elif player_2_selection == \"paper\":\n",
    "        print(\"The second player wins\")\n",
    "    else:\n",
    "        print(\"The first player wins\")\n",
    "    "
   ]
  },
  {
   "cell_type": "code",
   "execution_count": 34,
   "id": "b2419732",
   "metadata": {},
   "outputs": [
    {
     "name": "stdout",
     "output_type": "stream",
     "text": [
      "The second player wins\n"
     ]
    }
   ],
   "source": [
    "# if player 1 selects paper, and player 2 selects ...\n",
    "\n",
    "player_1_selection = \"paper\"\n",
    "player_2_selection = \"scissors\"\n",
    "\n",
    "if player_1_selection == \"paper\":\n",
    "    if player_2_selection == \"paper\":\n",
    "        print(\"The players draw\")\n",
    "    elif player_2_selection == \"scissors\":\n",
    "        print(\"The second player wins\")\n",
    "    else:\n",
    "        print(\"The first player wins\")"
   ]
  },
  {
   "cell_type": "code",
   "execution_count": 36,
   "id": "e81b1e65",
   "metadata": {},
   "outputs": [
    {
     "name": "stdout",
     "output_type": "stream",
     "text": [
      "The second player wins\n"
     ]
    }
   ],
   "source": [
    "# if player 1 selects paper, and player 2 selects ...\n",
    "\n",
    "player_1_selection = \"scissors\"\n",
    "player_2_selection = \"rock\"\n",
    "\n",
    "selection = \"scissors\"\n",
    "\n",
    "if player_1_selection == selection:\n",
    "    if player_2_selection == selection:\n",
    "        print(\"The players draw\")\n",
    "    elif player_2_selection == \"rock\":\n",
    "        print(\"The second player wins\")\n",
    "    else:\n",
    "        print(\"The first player wins\")"
   ]
  },
  {
   "cell_type": "code",
   "execution_count": 1,
   "id": "c4519022",
   "metadata": {},
   "outputs": [
    {
     "name": "stdout",
     "output_type": "stream",
     "text": [
      "1\n",
      "2\n",
      "3\n",
      "4\n",
      "5\n"
     ]
    }
   ],
   "source": [
    "i = 1\n",
    "while i < 6:\n",
    "    print(i)\n",
    "    i += 1"
   ]
  },
  {
   "cell_type": "code",
   "execution_count": 2,
   "id": "3e14cef0",
   "metadata": {},
   "outputs": [
    {
     "name": "stdout",
     "output_type": "stream",
     "text": [
      "1\n",
      "2\n",
      "3\n",
      "4\n",
      "5\n"
     ]
    }
   ],
   "source": [
    "# print i while is less than 6\n",
    "\n",
    "i = 1\n",
    "while i < 6:\n",
    "    print(i)\n",
    "    i = i + 1"
   ]
  },
  {
   "cell_type": "code",
   "execution_count": 3,
   "id": "ac3215f8",
   "metadata": {},
   "outputs": [
    {
     "name": "stdout",
     "output_type": "stream",
     "text": [
      "1\n",
      "2\n",
      "3\n"
     ]
    }
   ],
   "source": [
    "# exit the loop when i is 3\n",
    "\n",
    "i = 1\n",
    "while i < 6:\n",
    "    print(i)\n",
    "    if i == 3:\n",
    "        break\n",
    "    i += 1\n"
   ]
  },
  {
   "cell_type": "code",
   "execution_count": 5,
   "id": "e0807465",
   "metadata": {},
   "outputs": [
    {
     "name": "stdout",
     "output_type": "stream",
     "text": [
      "1\n",
      "2\n",
      "4\n",
      "5\n",
      "6\n"
     ]
    }
   ],
   "source": [
    "# continue to next iteration if i is 3\n",
    "\n",
    "i = 0\n",
    "while i < 6:\n",
    "    i += 1\n",
    "    if i == 3:\n",
    "        continue\n",
    "    print(i)"
   ]
  },
  {
   "cell_type": "code",
   "execution_count": 7,
   "id": "a96c5a66",
   "metadata": {},
   "outputs": [
    {
     "name": "stdout",
     "output_type": "stream",
     "text": [
      "1\n",
      "2\n",
      "3\n",
      "4\n",
      "5\n",
      "i is no longer less than 6\n"
     ]
    }
   ],
   "source": [
    "# print a message once the condition is false\n",
    "\n",
    "i = 1\n",
    "while i < 6:\n",
    "    print(i)\n",
    "    i += 1\n",
    "else:\n",
    "    print(\"i is no longer less than 6\")\n"
   ]
  },
  {
   "cell_type": "code",
   "execution_count": 2,
   "id": "5d04c7d7",
   "metadata": {},
   "outputs": [
    {
     "name": "stdout",
     "output_type": "stream",
     "text": [
      "b\n",
      "a\n",
      "n\n",
      "a\n",
      "n\n",
      "a\n"
     ]
    }
   ],
   "source": [
    "# Loop through the word banana\n",
    "\n",
    "for x in \"banana\":\n",
    "    print(x)\n"
   ]
  },
  {
   "cell_type": "code",
   "execution_count": 4,
   "id": "a0682128",
   "metadata": {},
   "outputs": [
    {
     "name": "stdout",
     "output_type": "stream",
     "text": [
      "b\n",
      "a\n",
      "n\n"
     ]
    }
   ],
   "source": [
    "# add a break\n",
    "\n",
    "for x in \"banana\":\n",
    "    print(x)\n",
    "    if x == \"n\":\n",
    "        break"
   ]
  },
  {
   "cell_type": "code",
   "execution_count": 5,
   "id": "205e8640",
   "metadata": {},
   "outputs": [
    {
     "name": "stdout",
     "output_type": "stream",
     "text": [
      "0\n",
      "1\n",
      "2\n",
      "3\n",
      "4\n",
      "5\n"
     ]
    }
   ],
   "source": [
    "# for loop through the range function\n",
    "for x in range(6):\n",
    "\tprint(x)\n"
   ]
  },
  {
   "cell_type": "code",
   "execution_count": 6,
   "id": "ee1663a0",
   "metadata": {},
   "outputs": [
    {
     "name": "stdout",
     "output_type": "stream",
     "text": [
      "2\n",
      "3\n",
      "4\n",
      "5\n"
     ]
    }
   ],
   "source": [
    "# for loop in the range function with a start parameter\n",
    "for x in range(2, 6):\n",
    "\tprint(x)"
   ]
  },
  {
   "cell_type": "code",
   "execution_count": 8,
   "id": "477a40eb",
   "metadata": {},
   "outputs": [
    {
     "name": "stdout",
     "output_type": "stream",
     "text": [
      "2\n",
      "5\n",
      "8\n",
      "11\n",
      "14\n",
      "17\n",
      "20\n",
      "23\n",
      "26\n",
      "29\n"
     ]
    }
   ],
   "source": [
    "# for loop in the range function with a start parameter and increment\n",
    "for x in range(2, 30, 3):\n",
    "\tprint(x)"
   ]
  },
  {
   "cell_type": "code",
   "execution_count": 9,
   "id": "d3c5499c",
   "metadata": {},
   "outputs": [
    {
     "name": "stdout",
     "output_type": "stream",
     "text": [
      "0\n",
      "1\n",
      "2\n",
      "3\n",
      "4\n",
      "5\n",
      "Finally finished!\n"
     ]
    }
   ],
   "source": [
    "# else in for loop statement\n",
    "\n",
    "for x in range(6):\n",
    "    print(x)\n",
    "else:\n",
    "    print(\"Finally finished!\")\n"
   ]
  },
  {
   "cell_type": "code",
   "execution_count": 10,
   "id": "cc34450e",
   "metadata": {},
   "outputs": [
    {
     "name": "stdout",
     "output_type": "stream",
     "text": [
      "0\n",
      "1\n",
      "2\n"
     ]
    }
   ],
   "source": [
    "for x in range(6):\n",
    "    if x == 3: break\n",
    "    print(x)\n",
    "else:\n",
    "    print(\"Finally finished!\")"
   ]
  },
  {
   "cell_type": "code",
   "execution_count": 11,
   "id": "ec29a7f0",
   "metadata": {},
   "outputs": [],
   "source": [
    "# pass statement\n",
    "for x in [0, 1, 2]:\n",
    "    pass\n"
   ]
  },
  {
   "cell_type": "code",
   "execution_count": null,
   "id": "0f62c751",
   "metadata": {},
   "outputs": [],
   "source": []
  }
 ],
 "metadata": {
  "kernelspec": {
   "display_name": "Python 3",
   "language": "python",
   "name": "python3"
  },
  "language_info": {
   "codemirror_mode": {
    "name": "ipython",
    "version": 3
   },
   "file_extension": ".py",
   "mimetype": "text/x-python",
   "name": "python",
   "nbconvert_exporter": "python",
   "pygments_lexer": "ipython3",
   "version": "3.8.10"
  }
 },
 "nbformat": 4,
 "nbformat_minor": 5
}
