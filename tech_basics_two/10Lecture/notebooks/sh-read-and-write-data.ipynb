{
 "cells": [
  {
   "cell_type": "code",
   "execution_count": 6,
   "id": "68f494b3-5867-4f20-8182-cff149a05a34",
   "metadata": {},
   "outputs": [],
   "source": [
    "import pandas as pd"
   ]
  },
  {
   "cell_type": "code",
   "execution_count": 5,
   "id": "adbe6275-9c77-4905-87b4-060c6c882796",
   "metadata": {},
   "outputs": [],
   "source": [
    "# ! pip3 install pandas"
   ]
  },
  {
   "cell_type": "code",
   "execution_count": 7,
   "id": "976ef711-dba8-4558-b32b-c6b36d045bf4",
   "metadata": {},
   "outputs": [
    {
     "data": {
      "text/plain": [
       "'/Users/shaq/Documents/LU/python_tech_basics/tech_basics_two/10Lecture/notebooks'"
      ]
     },
     "execution_count": 7,
     "metadata": {},
     "output_type": "execute_result"
    }
   ],
   "source": [
    "# sharing for reference\n",
    "\n",
    "import os\n",
    "\n",
    "os.getcwd()"
   ]
  },
  {
   "cell_type": "markdown",
   "id": "71ca2d8a-421e-447c-86ed-b065baba5f4f",
   "metadata": {
    "jp-MarkdownHeadingCollapsed": true
   },
   "source": [
    "## Reading and \"Manipulating\" Data Frames"
   ]
  },
  {
   "cell_type": "code",
   "execution_count": 9,
   "id": "e124b382-3fc4-4c82-899c-ca99392b9b3f",
   "metadata": {},
   "outputs": [],
   "source": [
    "# we are reading the csv file located in our data folder\n",
    "# the .. goes back a level\n",
    "\n",
    "sample_data = pd.read_csv(\"../data/sample_data_cleaned.csv\")"
   ]
  },
  {
   "cell_type": "code",
   "execution_count": 15,
   "id": "aa6841c2-0c32-4bd1-b488-12b65d5089a6",
   "metadata": {},
   "outputs": [
    {
     "data": {
      "text/html": [
       "<div>\n",
       "<style scoped>\n",
       "    .dataframe tbody tr th:only-of-type {\n",
       "        vertical-align: middle;\n",
       "    }\n",
       "\n",
       "    .dataframe tbody tr th {\n",
       "        vertical-align: top;\n",
       "    }\n",
       "\n",
       "    .dataframe thead th {\n",
       "        text-align: right;\n",
       "    }\n",
       "</style>\n",
       "<table border=\"1\" class=\"dataframe\">\n",
       "  <thead>\n",
       "    <tr style=\"text-align: right;\">\n",
       "      <th></th>\n",
       "      <th>First Name</th>\n",
       "      <th>Last Name</th>\n",
       "      <th>Gender</th>\n",
       "      <th>Country</th>\n",
       "      <th>Age</th>\n",
       "      <th>Date</th>\n",
       "      <th>Id</th>\n",
       "    </tr>\n",
       "  </thead>\n",
       "  <tbody>\n",
       "    <tr>\n",
       "      <th>0</th>\n",
       "      <td>Dulce</td>\n",
       "      <td>Abril</td>\n",
       "      <td>Female</td>\n",
       "      <td>United States</td>\n",
       "      <td>32</td>\n",
       "      <td>15/10/2017</td>\n",
       "      <td>1562</td>\n",
       "    </tr>\n",
       "    <tr>\n",
       "      <th>1</th>\n",
       "      <td>Mara</td>\n",
       "      <td>Hashimoto</td>\n",
       "      <td>Female</td>\n",
       "      <td>Great Britain</td>\n",
       "      <td>25</td>\n",
       "      <td>16/08/2016</td>\n",
       "      <td>1582</td>\n",
       "    </tr>\n",
       "    <tr>\n",
       "      <th>2</th>\n",
       "      <td>Philip</td>\n",
       "      <td>Gent</td>\n",
       "      <td>Male</td>\n",
       "      <td>France</td>\n",
       "      <td>36</td>\n",
       "      <td>21/05/2015</td>\n",
       "      <td>2587</td>\n",
       "    </tr>\n",
       "    <tr>\n",
       "      <th>3</th>\n",
       "      <td>Kathleen</td>\n",
       "      <td>Hanner</td>\n",
       "      <td>Female</td>\n",
       "      <td>United States</td>\n",
       "      <td>25</td>\n",
       "      <td>15/10/2017</td>\n",
       "      <td>3549</td>\n",
       "    </tr>\n",
       "    <tr>\n",
       "      <th>4</th>\n",
       "      <td>Nereida</td>\n",
       "      <td>Magwood</td>\n",
       "      <td>Female</td>\n",
       "      <td>United States</td>\n",
       "      <td>58</td>\n",
       "      <td>16/08/2016</td>\n",
       "      <td>2468</td>\n",
       "    </tr>\n",
       "  </tbody>\n",
       "</table>\n",
       "</div>"
      ],
      "text/plain": [
       "  First Name  Last Name  Gender        Country  Age        Date    Id\n",
       "0      Dulce      Abril  Female  United States   32  15/10/2017  1562\n",
       "1       Mara  Hashimoto  Female  Great Britain   25  16/08/2016  1582\n",
       "2     Philip       Gent    Male         France   36  21/05/2015  2587\n",
       "3   Kathleen     Hanner  Female  United States   25  15/10/2017  3549\n",
       "4    Nereida    Magwood  Female  United States   58  16/08/2016  2468"
      ]
     },
     "execution_count": 15,
     "metadata": {},
     "output_type": "execute_result"
    }
   ],
   "source": [
    "# previews the first five rows\n",
    "\n",
    "sample_data.head()"
   ]
  },
  {
   "cell_type": "code",
   "execution_count": 12,
   "id": "3420ffcc-e83d-4f73-bb8c-7ca1427acc2c",
   "metadata": {},
   "outputs": [
    {
     "data": {
      "text/plain": [
       "pandas.core.frame.DataFrame"
      ]
     },
     "execution_count": 12,
     "metadata": {},
     "output_type": "execute_result"
    }
   ],
   "source": [
    "# checking the type of variable\n",
    "\n",
    "type(sample_data)"
   ]
  },
  {
   "cell_type": "code",
   "execution_count": 16,
   "id": "5fc1d16a-1b6d-442e-b6b7-e74edc5e5030",
   "metadata": {},
   "outputs": [
    {
     "data": {
      "text/plain": [
       "(50, 7)"
      ]
     },
     "execution_count": 16,
     "metadata": {},
     "output_type": "execute_result"
    }
   ],
   "source": [
    "# check the size of the data\n",
    "sample_data.shape\n",
    "\n",
    "# 50 \"customers\" and 7 columns"
   ]
  },
  {
   "cell_type": "code",
   "execution_count": 17,
   "id": "11419c85-c15d-4327-93ec-d235a8e9b569",
   "metadata": {},
   "outputs": [
    {
     "name": "stdout",
     "output_type": "stream",
     "text": [
      "<class 'pandas.core.frame.DataFrame'>\n",
      "RangeIndex: 50 entries, 0 to 49\n",
      "Data columns (total 7 columns):\n",
      " #   Column      Non-Null Count  Dtype \n",
      "---  ------      --------------  ----- \n",
      " 0   First Name  50 non-null     object\n",
      " 1   Last Name   50 non-null     object\n",
      " 2   Gender      50 non-null     object\n",
      " 3   Country     50 non-null     object\n",
      " 4   Age         50 non-null     int64 \n",
      " 5   Date        50 non-null     object\n",
      " 6   Id          50 non-null     int64 \n",
      "dtypes: int64(2), object(5)\n",
      "memory usage: 2.9+ KB\n"
     ]
    }
   ],
   "source": [
    "# check the structure\n",
    "sample_data.info()"
   ]
  },
  {
   "cell_type": "code",
   "execution_count": 27,
   "id": "de411e16-3620-4861-9946-1e15d07c21c2",
   "metadata": {},
   "outputs": [
    {
     "data": {
      "image/png": "[encoded data removed]",
      "text/plain": [
       "<Figure size 640x480 with 1 Axes>"
      ]
     },
     "metadata": {},
     "output_type": "display_data"
    }
   ],
   "source": [
    "sample_data.Country.value_counts(normalize=True).plot(kind=\"bar\");"
   ]
  },
  {
   "cell_type": "code",
   "execution_count": 22,
   "id": "9d89f5fb-a234-4102-a967-25711e16ff44",
   "metadata": {},
   "outputs": [
    {
     "data": {
      "text/plain": [
       "Country\n",
       "United States    24\n",
       "Great Britain    14\n",
       "France           12\n",
       "Name: count, dtype: int64"
      ]
     },
     "execution_count": 22,
     "metadata": {},
     "output_type": "execute_result"
    }
   ],
   "source": [
    "# country distribution\n",
    "# you can use the value counts function to identify the number of customers from different countroes\n",
    "sample_data.Country.value_counts()"
   ]
  },
  {
   "cell_type": "code",
   "execution_count": 29,
   "id": "274b3cd6-46b3-425c-b01c-8d4adfa5573a",
   "metadata": {},
   "outputs": [
    {
     "data": {
      "text/plain": [
       "Gender\n",
       "Female    38\n",
       "Male      12\n",
       "Name: count, dtype: int64"
      ]
     },
     "execution_count": 29,
     "metadata": {},
     "output_type": "execute_result"
    }
   ],
   "source": [
    "# question: what is the gender distribution\n",
    "sample_data.Gender.value_counts()"
   ]
  },
  {
   "cell_type": "code",
   "execution_count": 31,
   "id": "06b55998-10c9-4cb7-a24d-6964e1e7e3c6",
   "metadata": {},
   "outputs": [
    {
     "data": {
      "text/plain": [
       "33.26"
      ]
     },
     "execution_count": 31,
     "metadata": {},
     "output_type": "execute_result"
    }
   ],
   "source": [
    "# average age of the customer \n",
    "\n",
    "sample_data.Age.mean()"
   ]
  },
  {
   "cell_type": "code",
   "execution_count": 32,
   "id": "e12e9335-8d63-4936-8349-916219c82fb5",
   "metadata": {},
   "outputs": [
    {
     "data": {
      "text/html": [
       "<div>\n",
       "<style scoped>\n",
       "    .dataframe tbody tr th:only-of-type {\n",
       "        vertical-align: middle;\n",
       "    }\n",
       "\n",
       "    .dataframe tbody tr th {\n",
       "        vertical-align: top;\n",
       "    }\n",
       "\n",
       "    .dataframe thead th {\n",
       "        text-align: right;\n",
       "    }\n",
       "</style>\n",
       "<table border=\"1\" class=\"dataframe\">\n",
       "  <thead>\n",
       "    <tr style=\"text-align: right;\">\n",
       "      <th></th>\n",
       "      <th>Age</th>\n",
       "      <th>Id</th>\n",
       "    </tr>\n",
       "  </thead>\n",
       "  <tbody>\n",
       "    <tr>\n",
       "      <th>count</th>\n",
       "      <td>50.000000</td>\n",
       "      <td>50.000000</td>\n",
       "    </tr>\n",
       "    <tr>\n",
       "      <th>mean</th>\n",
       "      <td>33.260000</td>\n",
       "      <td>4717.720000</td>\n",
       "    </tr>\n",
       "    <tr>\n",
       "      <th>std</th>\n",
       "      <td>8.434163</td>\n",
       "      <td>2391.188783</td>\n",
       "    </tr>\n",
       "    <tr>\n",
       "      <th>min</th>\n",
       "      <td>21.000000</td>\n",
       "      <td>1258.000000</td>\n",
       "    </tr>\n",
       "    <tr>\n",
       "      <th>25%</th>\n",
       "      <td>26.250000</td>\n",
       "      <td>2603.750000</td>\n",
       "    </tr>\n",
       "    <tr>\n",
       "      <th>50%</th>\n",
       "      <td>32.000000</td>\n",
       "      <td>3574.000000</td>\n",
       "    </tr>\n",
       "    <tr>\n",
       "      <th>75%</th>\n",
       "      <td>37.750000</td>\n",
       "      <td>6536.250000</td>\n",
       "    </tr>\n",
       "    <tr>\n",
       "      <th>max</th>\n",
       "      <td>58.000000</td>\n",
       "      <td>9654.000000</td>\n",
       "    </tr>\n",
       "  </tbody>\n",
       "</table>\n",
       "</div>"
      ],
      "text/plain": [
       "             Age           Id\n",
       "count  50.000000    50.000000\n",
       "mean   33.260000  4717.720000\n",
       "std     8.434163  2391.188783\n",
       "min    21.000000  1258.000000\n",
       "25%    26.250000  2603.750000\n",
       "50%    32.000000  3574.000000\n",
       "75%    37.750000  6536.250000\n",
       "max    58.000000  9654.000000"
      ]
     },
     "execution_count": 32,
     "metadata": {},
     "output_type": "execute_result"
    }
   ],
   "source": [
    "# summary statistics for the numerical columns\n",
    "\n",
    "sample_data.describe()"
   ]
  },
  {
   "cell_type": "code",
   "execution_count": 37,
   "id": "344aeff0-3a21-4b21-81a3-676e82b47d4d",
   "metadata": {},
   "outputs": [
    {
     "data": {
      "text/html": [
       "<div>\n",
       "<style scoped>\n",
       "    .dataframe tbody tr th:only-of-type {\n",
       "        vertical-align: middle;\n",
       "    }\n",
       "\n",
       "    .dataframe tbody tr th {\n",
       "        vertical-align: top;\n",
       "    }\n",
       "\n",
       "    .dataframe thead th {\n",
       "        text-align: right;\n",
       "    }\n",
       "</style>\n",
       "<table border=\"1\" class=\"dataframe\">\n",
       "  <thead>\n",
       "    <tr style=\"text-align: right;\">\n",
       "      <th></th>\n",
       "      <th>First Name</th>\n",
       "      <th>Last Name</th>\n",
       "      <th>Gender</th>\n",
       "      <th>Country</th>\n",
       "      <th>Age</th>\n",
       "      <th>Date</th>\n",
       "      <th>Id</th>\n",
       "    </tr>\n",
       "  </thead>\n",
       "  <tbody>\n",
       "    <tr>\n",
       "      <th>4</th>\n",
       "      <td>Nereida</td>\n",
       "      <td>Magwood</td>\n",
       "      <td>Female</td>\n",
       "      <td>United States</td>\n",
       "      <td>58</td>\n",
       "      <td>16/08/2016</td>\n",
       "      <td>2468</td>\n",
       "    </tr>\n",
       "    <tr>\n",
       "      <th>6</th>\n",
       "      <td>Etta</td>\n",
       "      <td>Hurn</td>\n",
       "      <td>Female</td>\n",
       "      <td>Great Britain</td>\n",
       "      <td>56</td>\n",
       "      <td>15/10/2017</td>\n",
       "      <td>3598</td>\n",
       "    </tr>\n",
       "    <tr>\n",
       "      <th>21</th>\n",
       "      <td>Holly</td>\n",
       "      <td>Eudy</td>\n",
       "      <td>Female</td>\n",
       "      <td>United States</td>\n",
       "      <td>52</td>\n",
       "      <td>16/08/2016</td>\n",
       "      <td>8561</td>\n",
       "    </tr>\n",
       "  </tbody>\n",
       "</table>\n",
       "</div>"
      ],
      "text/plain": [
       "   First Name Last Name  Gender        Country  Age        Date    Id\n",
       "4     Nereida   Magwood  Female  United States   58  16/08/2016  2468\n",
       "6        Etta      Hurn  Female  Great Britain   56  15/10/2017  3598\n",
       "21      Holly      Eudy  Female  United States   52  16/08/2016  8561"
      ]
     },
     "execution_count": 37,
     "metadata": {},
     "output_type": "execute_result"
    }
   ],
   "source": [
    "# identify customers older than 50\n",
    "\n",
    "sample_data[sample_data.Age > 50]"
   ]
  },
  {
   "cell_type": "code",
   "execution_count": 39,
   "id": "4175e511-a5e7-489b-aadf-f1679512a1ab",
   "metadata": {},
   "outputs": [
    {
     "data": {
      "text/plain": [
       "3"
      ]
     },
     "execution_count": 39,
     "metadata": {},
     "output_type": "execute_result"
    }
   ],
   "source": [
    "# number of customers older than 50\n",
    "# option 1 - use the shape and select the number of rows\n",
    "sample_data[sample_data.Age > 50].shape[0]"
   ]
  },
  {
   "cell_type": "code",
   "execution_count": 40,
   "id": "d7dc586c-2769-4962-ad9c-0254eece0e02",
   "metadata": {},
   "outputs": [
    {
     "data": {
      "text/plain": [
       "3"
      ]
     },
     "execution_count": 40,
     "metadata": {},
     "output_type": "execute_result"
    }
   ],
   "source": [
    "# option 2 - use the len function\n",
    "len(sample_data[sample_data.Age > 50])"
   ]
  },
  {
   "cell_type": "code",
   "execution_count": 44,
   "id": "66aa3634-69eb-4dcd-a747-86dcbe7ba847",
   "metadata": {},
   "outputs": [
    {
     "data": {
      "text/plain": [
       "['Nereida', 'Etta', 'Holly']"
      ]
     },
     "execution_count": 44,
     "metadata": {},
     "output_type": "execute_result"
    }
   ],
   "source": [
    "# identify the first names of the customers older than 50\n",
    "\n",
    "users_over_50 = list(sample_data[sample_data.Age > 50][\"First Name\"])\n",
    "users_over_50"
   ]
  },
  {
   "cell_type": "code",
   "execution_count": 49,
   "id": "617715bf-6db5-49c2-b166-d12b52689783",
   "metadata": {},
   "outputs": [
    {
     "data": {
      "text/html": [
       "<div>\n",
       "<style scoped>\n",
       "    .dataframe tbody tr th:only-of-type {\n",
       "        vertical-align: middle;\n",
       "    }\n",
       "\n",
       "    .dataframe tbody tr th {\n",
       "        vertical-align: top;\n",
       "    }\n",
       "\n",
       "    .dataframe thead th {\n",
       "        text-align: right;\n",
       "    }\n",
       "</style>\n",
       "<table border=\"1\" class=\"dataframe\">\n",
       "  <thead>\n",
       "    <tr style=\"text-align: right;\">\n",
       "      <th></th>\n",
       "      <th>First Name</th>\n",
       "      <th>Last Name</th>\n",
       "      <th>Gender</th>\n",
       "      <th>Country</th>\n",
       "      <th>Age</th>\n",
       "      <th>Date</th>\n",
       "      <th>Id</th>\n",
       "    </tr>\n",
       "  </thead>\n",
       "  <tbody>\n",
       "    <tr>\n",
       "      <th>24</th>\n",
       "      <td>Lester</td>\n",
       "      <td>Prothro</td>\n",
       "      <td>Male</td>\n",
       "      <td>France</td>\n",
       "      <td>21</td>\n",
       "      <td>15/10/2017</td>\n",
       "      <td>6574</td>\n",
       "    </tr>\n",
       "  </tbody>\n",
       "</table>\n",
       "</div>"
      ],
      "text/plain": [
       "   First Name Last Name Gender Country  Age        Date    Id\n",
       "24     Lester   Prothro   Male  France   21  15/10/2017  6574"
      ]
     },
     "execution_count": 49,
     "metadata": {},
     "output_type": "execute_result"
    }
   ],
   "source": [
    "# identify the youngest customer \n",
    "\n",
    "sample_data[sample_data.Age == sample_data.Age.min()]"
   ]
  },
  {
   "cell_type": "code",
   "execution_count": 50,
   "id": "0101ff6f-40e8-4fef-8c02-4264f766b7ff",
   "metadata": {},
   "outputs": [
    {
     "data": {
      "text/plain": [
       "24    6574\n",
       "Name: Id, dtype: int64"
      ]
     },
     "execution_count": 50,
     "metadata": {},
     "output_type": "execute_result"
    }
   ],
   "source": [
    "# identify the Id of the youngest customer \n",
    "\n",
    "# option 1\n",
    "sample_data[sample_data.Age == sample_data.Age.min()].Id"
   ]
  },
  {
   "cell_type": "code",
   "execution_count": 54,
   "id": "6388852d-3730-4423-a729-bf74fb54676f",
   "metadata": {},
   "outputs": [
    {
     "data": {
      "text/plain": [
       "6574"
      ]
     },
     "execution_count": 54,
     "metadata": {},
     "output_type": "execute_result"
    }
   ],
   "source": [
    "# you need to format the output as a list and then index the list to get the value\n",
    "\n",
    "youngest_customer_id = list(sample_data[sample_data.Age == sample_data.Age.min()].Id)[0]\n",
    "youngest_customer_id\n"
   ]
  },
  {
   "cell_type": "code",
   "execution_count": 57,
   "id": "d12be48a-2906-44e3-9c78-0c40b11eb643",
   "metadata": {},
   "outputs": [
    {
     "data": {
      "text/plain": [
       "6574"
      ]
     },
     "execution_count": 57,
     "metadata": {},
     "output_type": "execute_result"
    }
   ],
   "source": [
    "# option 2 - use brackets to select the Id column\n",
    "youngest_customer_id = list(sample_data[sample_data.Age == sample_data.Age.min()][\"Id\"])[0]\n",
    "youngest_customer_id"
   ]
  },
  {
   "cell_type": "markdown",
   "id": "33322e82-2a7d-4657-8e3f-7feac8067a72",
   "metadata": {},
   "source": [
    "## Writing Data"
   ]
  },
  {
   "cell_type": "code",
   "execution_count": 58,
   "id": "05b8e55d-f5d4-4dd3-84ed-673d3ec9cf5d",
   "metadata": {},
   "outputs": [],
   "source": [
    "# create a dictionary\n",
    "\n",
    "user_data = {\n",
    "    \"name\": \"Sarah\",\n",
    "    \"user_id\": \"shaq\"\n",
    "}"
   ]
  },
  {
   "cell_type": "code",
   "execution_count": 59,
   "id": "db0e2d39-c3cf-4d18-bacb-b5d4993a5007",
   "metadata": {},
   "outputs": [
    {
     "data": {
      "text/plain": [
       "dict"
      ]
     },
     "execution_count": 59,
     "metadata": {},
     "output_type": "execute_result"
    }
   ],
   "source": [
    "# check the type of the variable\n",
    "\n",
    "type(user_data)"
   ]
  },
  {
   "cell_type": "code",
   "execution_count": 61,
   "id": "d0287a68-8c0f-4d0e-8564-ddd8c2371e2f",
   "metadata": {},
   "outputs": [
    {
     "data": {
      "text/plain": [
       "{'name': 'Sarah', 'user_id': 'shaq'}"
      ]
     },
     "execution_count": 61,
     "metadata": {},
     "output_type": "execute_result"
    }
   ],
   "source": [
    "# for reference, what does the variable user_data contain\n",
    "\n",
    "user_data"
   ]
  },
  {
   "cell_type": "code",
   "execution_count": 63,
   "id": "c7661978-3465-480c-bc41-e296e2f81336",
   "metadata": {},
   "outputs": [],
   "source": [
    "# convert the dictionary into a data frame\n",
    "\n",
    "user_data_transformed = pd.DataFrame([user_data])"
   ]
  },
  {
   "cell_type": "code",
   "execution_count": 64,
   "id": "52bb1edb-f6e3-4685-b3ad-9adbb211317a",
   "metadata": {},
   "outputs": [
    {
     "data": {
      "text/html": [
       "<div>\n",
       "<style scoped>\n",
       "    .dataframe tbody tr th:only-of-type {\n",
       "        vertical-align: middle;\n",
       "    }\n",
       "\n",
       "    .dataframe tbody tr th {\n",
       "        vertical-align: top;\n",
       "    }\n",
       "\n",
       "    .dataframe thead th {\n",
       "        text-align: right;\n",
       "    }\n",
       "</style>\n",
       "<table border=\"1\" class=\"dataframe\">\n",
       "  <thead>\n",
       "    <tr style=\"text-align: right;\">\n",
       "      <th></th>\n",
       "      <th>name</th>\n",
       "      <th>user_id</th>\n",
       "    </tr>\n",
       "  </thead>\n",
       "  <tbody>\n",
       "    <tr>\n",
       "      <th>0</th>\n",
       "      <td>Sarah</td>\n",
       "      <td>shaq</td>\n",
       "    </tr>\n",
       "  </tbody>\n",
       "</table>\n",
       "</div>"
      ],
      "text/plain": [
       "    name user_id\n",
       "0  Sarah    shaq"
      ]
     },
     "execution_count": 64,
     "metadata": {},
     "output_type": "execute_result"
    }
   ],
   "source": [
    "# for reference, what does the variable user_data_transformed contain\n",
    "\n",
    "user_data_transformed"
   ]
  },
  {
   "cell_type": "code",
   "execution_count": 66,
   "id": "50e4f32c-9a17-4c94-b8c9-140d72a1a8a3",
   "metadata": {},
   "outputs": [
    {
     "data": {
      "text/plain": [
       "pandas.core.frame.DataFrame"
      ]
     },
     "execution_count": 66,
     "metadata": {},
     "output_type": "execute_result"
    }
   ],
   "source": [
    "type(user_data_transformed)"
   ]
  },
  {
   "cell_type": "code",
   "execution_count": 68,
   "id": "07cabd99-d393-49bf-9fa5-07f34ccb048c",
   "metadata": {},
   "outputs": [],
   "source": [
    "# we add the file path where we want to store the data and index = False to avoid creating an inde column\n",
    "\n",
    "user_data_transformed.to_csv(\"../data/user_data.csv\", index=False)"
   ]
  },
  {
   "cell_type": "code",
   "execution_count": 69,
   "id": "4f01af01-0616-4b8d-8864-9a4ddd043f31",
   "metadata": {},
   "outputs": [
    {
     "data": {
      "text/html": [
       "<div>\n",
       "<style scoped>\n",
       "    .dataframe tbody tr th:only-of-type {\n",
       "        vertical-align: middle;\n",
       "    }\n",
       "\n",
       "    .dataframe tbody tr th {\n",
       "        vertical-align: top;\n",
       "    }\n",
       "\n",
       "    .dataframe thead th {\n",
       "        text-align: right;\n",
       "    }\n",
       "</style>\n",
       "<table border=\"1\" class=\"dataframe\">\n",
       "  <thead>\n",
       "    <tr style=\"text-align: right;\">\n",
       "      <th></th>\n",
       "      <th>name</th>\n",
       "      <th>user_id</th>\n",
       "    </tr>\n",
       "  </thead>\n",
       "  <tbody>\n",
       "    <tr>\n",
       "      <th>0</th>\n",
       "      <td>Sarah</td>\n",
       "      <td>shaq</td>\n",
       "    </tr>\n",
       "  </tbody>\n",
       "</table>\n",
       "</div>"
      ],
      "text/plain": [
       "    name user_id\n",
       "0  Sarah    shaq"
      ]
     },
     "execution_count": 69,
     "metadata": {},
     "output_type": "execute_result"
    }
   ],
   "source": [
    "# check by reading the data\n",
    "check = pd.read_csv(\"../data/user_data.csv\")\n",
    "check"
   ]
  },
  {
   "cell_type": "code",
   "execution_count": 71,
   "id": "7c1bb91b-30f8-46ea-ab03-aa4ee9bf5de0",
   "metadata": {},
   "outputs": [
    {
     "data": {
      "text/html": [
       "<div>\n",
       "<style scoped>\n",
       "    .dataframe tbody tr th:only-of-type {\n",
       "        vertical-align: middle;\n",
       "    }\n",
       "\n",
       "    .dataframe tbody tr th {\n",
       "        vertical-align: top;\n",
       "    }\n",
       "\n",
       "    .dataframe thead th {\n",
       "        text-align: right;\n",
       "    }\n",
       "</style>\n",
       "<table border=\"1\" class=\"dataframe\">\n",
       "  <thead>\n",
       "    <tr style=\"text-align: right;\">\n",
       "      <th></th>\n",
       "      <th>name</th>\n",
       "      <th>user_id</th>\n",
       "    </tr>\n",
       "  </thead>\n",
       "  <tbody>\n",
       "    <tr>\n",
       "      <th>0</th>\n",
       "      <td>Bob</td>\n",
       "      <td>bm</td>\n",
       "    </tr>\n",
       "  </tbody>\n",
       "</table>\n",
       "</div>"
      ],
      "text/plain": [
       "  name user_id\n",
       "0  Bob      bm"
      ]
     },
     "execution_count": 71,
     "metadata": {},
     "output_type": "execute_result"
    }
   ],
   "source": [
    "user_data_2 = {\n",
    "    \"name\": \"Bob\",\n",
    "    \"user_id\": \"bm\"\n",
    "}\n",
    "\n",
    "user_data2_transformed = pd.DataFrame([user_data_2])\n",
    "user_data2_transformed"
   ]
  },
  {
   "cell_type": "code",
   "execution_count": 72,
   "id": "ab811305-1b92-47d0-856d-6b7b6d24193c",
   "metadata": {},
   "outputs": [],
   "source": [
    "# THIS CODE WILL OVERWRITE MY CURRENT FILE\n",
    "\n",
    "user_data2_transformed.to_csv(\"../data/user_data.csv\", index=False)"
   ]
  },
  {
   "cell_type": "code",
   "execution_count": 73,
   "id": "00c0d226-b64f-4f4e-8529-cd703bebed37",
   "metadata": {},
   "outputs": [
    {
     "data": {
      "text/html": [
       "<div>\n",
       "<style scoped>\n",
       "    .dataframe tbody tr th:only-of-type {\n",
       "        vertical-align: middle;\n",
       "    }\n",
       "\n",
       "    .dataframe tbody tr th {\n",
       "        vertical-align: top;\n",
       "    }\n",
       "\n",
       "    .dataframe thead th {\n",
       "        text-align: right;\n",
       "    }\n",
       "</style>\n",
       "<table border=\"1\" class=\"dataframe\">\n",
       "  <thead>\n",
       "    <tr style=\"text-align: right;\">\n",
       "      <th></th>\n",
       "      <th>name</th>\n",
       "      <th>user_id</th>\n",
       "    </tr>\n",
       "  </thead>\n",
       "  <tbody>\n",
       "    <tr>\n",
       "      <th>0</th>\n",
       "      <td>Bob</td>\n",
       "      <td>bm</td>\n",
       "    </tr>\n",
       "  </tbody>\n",
       "</table>\n",
       "</div>"
      ],
      "text/plain": [
       "  name user_id\n",
       "0  Bob      bm"
      ]
     },
     "execution_count": 73,
     "metadata": {},
     "output_type": "execute_result"
    }
   ],
   "source": [
    "# check by reading the data\n",
    "check = pd.read_csv(\"../data/user_data.csv\")\n",
    "check"
   ]
  },
  {
   "cell_type": "code",
   "execution_count": 78,
   "id": "af09d396-bea5-4794-9e2b-c5e1be80b720",
   "metadata": {},
   "outputs": [],
   "source": [
    "user_data_transformed.to_csv(\"../data/user_data.csv\", index=False)"
   ]
  },
  {
   "cell_type": "code",
   "execution_count": 79,
   "id": "82bd60ad-96de-4cb6-9c5a-646a80aab521",
   "metadata": {},
   "outputs": [
    {
     "data": {
      "text/html": [
       "<div>\n",
       "<style scoped>\n",
       "    .dataframe tbody tr th:only-of-type {\n",
       "        vertical-align: middle;\n",
       "    }\n",
       "\n",
       "    .dataframe tbody tr th {\n",
       "        vertical-align: top;\n",
       "    }\n",
       "\n",
       "    .dataframe thead th {\n",
       "        text-align: right;\n",
       "    }\n",
       "</style>\n",
       "<table border=\"1\" class=\"dataframe\">\n",
       "  <thead>\n",
       "    <tr style=\"text-align: right;\">\n",
       "      <th></th>\n",
       "      <th>name</th>\n",
       "      <th>user_id</th>\n",
       "    </tr>\n",
       "  </thead>\n",
       "  <tbody>\n",
       "    <tr>\n",
       "      <th>0</th>\n",
       "      <td>Sarah</td>\n",
       "      <td>shaq</td>\n",
       "    </tr>\n",
       "  </tbody>\n",
       "</table>\n",
       "</div>"
      ],
      "text/plain": [
       "    name user_id\n",
       "0  Sarah    shaq"
      ]
     },
     "execution_count": 79,
     "metadata": {},
     "output_type": "execute_result"
    }
   ],
   "source": [
    "# check by reading the data\n",
    "check = pd.read_csv(\"../data/user_data.csv\")\n",
    "check"
   ]
  },
  {
   "cell_type": "code",
   "execution_count": 80,
   "id": "9be41a15-7c4d-4c58-8d0e-5f3116f6b62b",
   "metadata": {},
   "outputs": [],
   "source": [
    "user_data2_transformed.to_csv(\"../data/user_data.csv\", index=False, mode=\"a\", header=False)"
   ]
  },
  {
   "cell_type": "code",
   "execution_count": 81,
   "id": "b1bd665b-0770-4e7a-91b3-6b5def573bd6",
   "metadata": {},
   "outputs": [
    {
     "data": {
      "text/html": [
       "<div>\n",
       "<style scoped>\n",
       "    .dataframe tbody tr th:only-of-type {\n",
       "        vertical-align: middle;\n",
       "    }\n",
       "\n",
       "    .dataframe tbody tr th {\n",
       "        vertical-align: top;\n",
       "    }\n",
       "\n",
       "    .dataframe thead th {\n",
       "        text-align: right;\n",
       "    }\n",
       "</style>\n",
       "<table border=\"1\" class=\"dataframe\">\n",
       "  <thead>\n",
       "    <tr style=\"text-align: right;\">\n",
       "      <th></th>\n",
       "      <th>name</th>\n",
       "      <th>user_id</th>\n",
       "    </tr>\n",
       "  </thead>\n",
       "  <tbody>\n",
       "    <tr>\n",
       "      <th>0</th>\n",
       "      <td>Sarah</td>\n",
       "      <td>shaq</td>\n",
       "    </tr>\n",
       "    <tr>\n",
       "      <th>1</th>\n",
       "      <td>Bob</td>\n",
       "      <td>bm</td>\n",
       "    </tr>\n",
       "  </tbody>\n",
       "</table>\n",
       "</div>"
      ],
      "text/plain": [
       "    name user_id\n",
       "0  Sarah    shaq\n",
       "1    Bob      bm"
      ]
     },
     "execution_count": 81,
     "metadata": {},
     "output_type": "execute_result"
    }
   ],
   "source": [
    "# check by reading the data\n",
    "check = pd.read_csv(\"../data/user_data.csv\")\n",
    "check"
   ]
  },
  {
   "cell_type": "code",
   "execution_count": 82,
   "id": "eae3e943-824a-426d-a784-98b2d60282ad",
   "metadata": {},
   "outputs": [
    {
     "data": {
      "text/html": [
       "<div>\n",
       "<style scoped>\n",
       "    .dataframe tbody tr th:only-of-type {\n",
       "        vertical-align: middle;\n",
       "    }\n",
       "\n",
       "    .dataframe tbody tr th {\n",
       "        vertical-align: top;\n",
       "    }\n",
       "\n",
       "    .dataframe thead th {\n",
       "        text-align: right;\n",
       "    }\n",
       "</style>\n",
       "<table border=\"1\" class=\"dataframe\">\n",
       "  <thead>\n",
       "    <tr style=\"text-align: right;\">\n",
       "      <th></th>\n",
       "      <th>name</th>\n",
       "      <th>user_id</th>\n",
       "    </tr>\n",
       "  </thead>\n",
       "  <tbody>\n",
       "    <tr>\n",
       "      <th>0</th>\n",
       "      <td>Bob</td>\n",
       "      <td>bm</td>\n",
       "    </tr>\n",
       "  </tbody>\n",
       "</table>\n",
       "</div>"
      ],
      "text/plain": [
       "  name user_id\n",
       "0  Bob      bm"
      ]
     },
     "execution_count": 82,
     "metadata": {},
     "output_type": "execute_result"
    }
   ],
   "source": [
    "# to append a user\n",
    "user_data_2 = {\n",
    "    \"name\": \"Bob\",\n",
    "    \"user_id\": \"bm\"\n",
    "}\n",
    "\n",
    "user_data2_transformed = pd.DataFrame([user_data_2])\n",
    "user_data2_transformed"
   ]
  },
  {
   "cell_type": "code",
   "execution_count": null,
   "id": "9f896724-c616-4287-88d3-7d546c526d9d",
   "metadata": {},
   "outputs": [],
   "source": [
    "# write this to your csv file\n",
    "# dont forget to add mode=\"a\" and header=False\n",
    "\n",
    "user_data2_transformed.to_csv(\"../data/user_data.csv\", index=False, mode=\"a\", header=False)"
   ]
  },
  {
   "cell_type": "code",
   "execution_count": 83,
   "id": "beb060e1-8997-4679-bd79-5dda22796c2e",
   "metadata": {},
   "outputs": [
    {
     "data": {
      "text/html": [
       "<div>\n",
       "<style scoped>\n",
       "    .dataframe tbody tr th:only-of-type {\n",
       "        vertical-align: middle;\n",
       "    }\n",
       "\n",
       "    .dataframe tbody tr th {\n",
       "        vertical-align: top;\n",
       "    }\n",
       "\n",
       "    .dataframe thead th {\n",
       "        text-align: right;\n",
       "    }\n",
       "</style>\n",
       "<table border=\"1\" class=\"dataframe\">\n",
       "  <thead>\n",
       "    <tr style=\"text-align: right;\">\n",
       "      <th></th>\n",
       "      <th>name</th>\n",
       "      <th>user_id</th>\n",
       "    </tr>\n",
       "  </thead>\n",
       "  <tbody>\n",
       "    <tr>\n",
       "      <th>0</th>\n",
       "      <td>Sarah</td>\n",
       "      <td>shaq</td>\n",
       "    </tr>\n",
       "    <tr>\n",
       "      <th>1</th>\n",
       "      <td>Bob</td>\n",
       "      <td>bm</td>\n",
       "    </tr>\n",
       "  </tbody>\n",
       "</table>\n",
       "</div>"
      ],
      "text/plain": [
       "    name user_id\n",
       "0  Sarah    shaq\n",
       "1    Bob      bm"
      ]
     },
     "execution_count": 83,
     "metadata": {},
     "output_type": "execute_result"
    }
   ],
   "source": [
    "# check by reading the data\n",
    "check = pd.read_csv(\"../data/user_data.csv\")\n",
    "check"
   ]
  },
  {
   "cell_type": "code",
   "execution_count": 84,
   "id": "405080f5-a0e4-43d4-8e44-5828582bc42b",
   "metadata": {},
   "outputs": [],
   "source": [
    "# to append a user\n",
    "user_data_2 = {\n",
    "    \"name\": \"Jim\",\n",
    "    \"user_id\": \"jm\"\n",
    "}\n",
    "\n",
    "user_data2_transformed = pd.DataFrame([user_data_2])\n",
    "user_data2_transformed.to_csv(\"../data/user_data.csv\", index=False, mode=\"a\", header=False)"
   ]
  },
  {
   "cell_type": "code",
   "execution_count": 85,
   "id": "d8c71b41-480d-4f18-92c0-af7523b02983",
   "metadata": {},
   "outputs": [
    {
     "data": {
      "text/html": [
       "<div>\n",
       "<style scoped>\n",
       "    .dataframe tbody tr th:only-of-type {\n",
       "        vertical-align: middle;\n",
       "    }\n",
       "\n",
       "    .dataframe tbody tr th {\n",
       "        vertical-align: top;\n",
       "    }\n",
       "\n",
       "    .dataframe thead th {\n",
       "        text-align: right;\n",
       "    }\n",
       "</style>\n",
       "<table border=\"1\" class=\"dataframe\">\n",
       "  <thead>\n",
       "    <tr style=\"text-align: right;\">\n",
       "      <th></th>\n",
       "      <th>name</th>\n",
       "      <th>user_id</th>\n",
       "    </tr>\n",
       "  </thead>\n",
       "  <tbody>\n",
       "    <tr>\n",
       "      <th>0</th>\n",
       "      <td>Sarah</td>\n",
       "      <td>shaq</td>\n",
       "    </tr>\n",
       "    <tr>\n",
       "      <th>1</th>\n",
       "      <td>Bob</td>\n",
       "      <td>bm</td>\n",
       "    </tr>\n",
       "    <tr>\n",
       "      <th>2</th>\n",
       "      <td>Jim</td>\n",
       "      <td>jm</td>\n",
       "    </tr>\n",
       "  </tbody>\n",
       "</table>\n",
       "</div>"
      ],
      "text/plain": [
       "    name user_id\n",
       "0  Sarah    shaq\n",
       "1    Bob      bm\n",
       "2    Jim      jm"
      ]
     },
     "execution_count": 85,
     "metadata": {},
     "output_type": "execute_result"
    }
   ],
   "source": [
    "# check by reading the data\n",
    "check = pd.read_csv(\"../data/user_data.csv\")\n",
    "check"
   ]
  },
  {
   "cell_type": "code",
   "execution_count": null,
   "id": "86bdc482-2d83-42b6-bcec-736afe496d98",
   "metadata": {},
   "outputs": [],
   "source": []
  }
 ],
 "metadata": {
  "kernelspec": {
   "display_name": "Python 3 (ipykernel)",
   "language": "python",
   "name": "python3"
  },
  "language_info": {
   "codemirror_mode": {
    "name": "ipython",
    "version": 3
   },
   "file_extension": ".py",
   "mimetype": "text/x-python",
   "name": "python",
   "nbconvert_exporter": "python",
   "pygments_lexer": "ipython3",
   "version": "3.11.3"
  }
 },
 "nbformat": 4,
 "nbformat_minor": 5
}
