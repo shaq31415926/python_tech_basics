{
 "cells": [
  {
   "cell_type": "code",
   "execution_count": 1,
   "id": "0898d662",
   "metadata": {},
   "outputs": [
    {
     "name": "stdout",
     "output_type": "stream",
     "text": [
      "apple\n",
      "banana\n",
      "cherry\n"
     ]
    }
   ],
   "source": [
    "# looping through a list\n",
    "\n",
    "fruits = [\"apple\", \"banana\", \"cherry\"]\n",
    "for x in fruits:\n",
    "    print(x)\n"
   ]
  },
  {
   "cell_type": "code",
   "execution_count": 5,
   "id": "6bcef918",
   "metadata": {},
   "outputs": [
    {
     "name": "stdout",
     "output_type": "stream",
     "text": [
      "10\n",
      "20\n",
      "30\n",
      "50\n",
      "70\n"
     ]
    }
   ],
   "source": [
    "# multiplying numbers in a list\n",
    "\n",
    "my_list = [1, 2, 3, 5, 7]\n",
    "for x in my_list:\n",
    "    print(x * 10)"
   ]
  },
  {
   "cell_type": "code",
   "execution_count": 6,
   "id": "cdcb760c",
   "metadata": {},
   "outputs": [
    {
     "data": {
      "text/plain": [
       "[10, 20, 30, 50, 70]"
      ]
     },
     "execution_count": 6,
     "metadata": {},
     "output_type": "execute_result"
    }
   ],
   "source": [
    "[10 * i for i in my_list]"
   ]
  },
  {
   "cell_type": "code",
   "execution_count": 1,
   "id": "cad66424",
   "metadata": {},
   "outputs": [],
   "source": [
    "import string\n"
   ]
  },
  {
   "cell_type": "code",
   "execution_count": 2,
   "id": "4a585901",
   "metadata": {},
   "outputs": [
    {
     "name": "stdout",
     "output_type": "stream",
     "text": [
      "abcdefghijklmnopqrstuvwxyzABCDEFGHIJKLMNOPQRSTUVWXYZ\n",
      "abcdefghijklmnopqrstuvwxyz\n",
      "ABCDEFGHIJKLMNOPQRSTUVWXYZ\n",
      "0123456789\n",
      "0123456789abcdefABCDEF\n",
      " \t\n",
      "\r",
      "\u000b",
      "\f",
      "\n",
      "!\"#$%&'()*+,-./:;<=>?@[\\]^_`{|}~\n"
     ]
    }
   ],
   "source": [
    "# the string module methods\n",
    "\n",
    "print(string.ascii_letters)\n",
    "print(string.ascii_lowercase)\n",
    "print(string.ascii_uppercase)\n",
    "print(string.digits)\n",
    "print(string.hexdigits)\n",
    "print(string.whitespace)  # ' \\t\\n\\r\\x0b\\x0c'\n",
    "print(string.punctuation)"
   ]
  },
  {
   "cell_type": "code",
   "execution_count": 3,
   "id": "e59f0e5c",
   "metadata": {},
   "outputs": [
    {
     "name": "stdout",
     "output_type": "stream",
     "text": [
      "['a', 'b', 'c', 'd', 'e', 'f', 'g', 'h', 'i', 'j', 'k', 'l', 'm', 'n', 'o', 'p', 'q', 'r', 's', 't', 'u', 'v', 'w', 'x', 'y', 'z', 'A', 'B', 'C', 'D', 'E', 'F', 'G', 'H', 'I', 'J', 'K', 'L', 'M', 'N', 'O', 'P', 'Q', 'R', 'S', 'T', 'U', 'V', 'W', 'X', 'Y', 'Z', '0', '1', '2', '3', '4', '5', '6', '7', '8', '9', '!', '@', '#', '$', '%', '^', '&', '*', '(', ')']\n"
     ]
    }
   ],
   "source": [
    "characters = list(string.ascii_letters + string.digits + \"!@#$%^&*()\")\n",
    "print(characters)"
   ]
  },
  {
   "cell_type": "code",
   "execution_count": 11,
   "id": "c7a7c989",
   "metadata": {},
   "outputs": [],
   "source": [
    "import random \n",
    "\n",
    "random.shuffle(characters)"
   ]
  },
  {
   "cell_type": "code",
   "execution_count": 12,
   "id": "82e8bea3",
   "metadata": {},
   "outputs": [
    {
     "name": "stdout",
     "output_type": "stream",
     "text": [
      "['1', '%', 'e', 'y', ')', 'i', 'X', '@', 'B', '2', '9', 'C', 'F', 'M', 'n', 'G', 'h', 'T', 'N', '#', 's', 'l', 'P', '(', '6', 'c', 'a', 'q', '0', 'x', 'Z', 'u', 'E', 'j', 'H', '3', '4', 'm', 't', 'S', 'A', 'z', '8', 'O', 'U', '5', 'V', 'Y', '^', 'r', 'W', 'D', 'w', 'K', 'p', 'L', 'f', 'k', '*', 'R', 'I', 'g', 'Q', 'o', '$', '7', 'b', '!', '&', 'J', 'v', 'd']\n"
     ]
    }
   ],
   "source": [
    "print(characters)"
   ]
  },
  {
   "cell_type": "code",
   "execution_count": 3,
   "id": "fcbf19a0",
   "metadata": {},
   "outputs": [
    {
     "name": "stdout",
     "output_type": "stream",
     "text": [
      "my name is Bob\n"
     ]
    }
   ],
   "source": [
    "def my_function(fname):\n",
    "  print(f\"my name is {fname}\")\n",
    "\n",
    "my_function(\"Bob\")\n"
   ]
  },
  {
   "cell_type": "code",
   "execution_count": 4,
   "id": "79121a03",
   "metadata": {},
   "outputs": [
    {
     "name": "stdout",
     "output_type": "stream",
     "text": [
      "The youngest child is Linus\n"
     ]
    }
   ],
   "source": [
    "def my_function(*kids):\n",
    "  print(\"The youngest child is \" + kids[2])\n",
    "\n",
    "my_function(\"Emil\", \"Tobias\", \"Linus\")\n"
   ]
  },
  {
   "cell_type": "code",
   "execution_count": null,
   "id": "78f46281",
   "metadata": {},
   "outputs": [],
   "source": []
  }
 ],
 "metadata": {
  "kernelspec": {
   "display_name": "Python 3",
   "language": "python",
   "name": "python3"
  },
  "language_info": {
   "codemirror_mode": {
    "name": "ipython",
    "version": 3
   },
   "file_extension": ".py",
   "mimetype": "text/x-python",
   "name": "python",
   "nbconvert_exporter": "python",
   "pygments_lexer": "ipython3",
   "version": "3.8.10"
  }
 },
 "nbformat": 4,
 "nbformat_minor": 5
}
