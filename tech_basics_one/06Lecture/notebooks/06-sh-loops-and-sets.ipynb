{
 "cells": [
  {
   "cell_type": "markdown",
   "id": "210e4b8d",
   "metadata": {},
   "source": [
    "# For Loops"
   ]
  },
  {
   "cell_type": "code",
   "execution_count": 21,
   "id": "5d04c7d7",
   "metadata": {},
   "outputs": [
    {
     "name": "stdout",
     "output_type": "stream",
     "text": [
      "b\n",
      "a\n",
      "n\n",
      "a\n",
      "n\n",
      "a\n"
     ]
    }
   ],
   "source": [
    "# Loop through the word banana\n",
    "\n",
    "for l in \"banana\":\n",
    "    print(l)\n"
   ]
  },
  {
   "cell_type": "code",
   "execution_count": 4,
   "id": "a0682128",
   "metadata": {},
   "outputs": [
    {
     "name": "stdout",
     "output_type": "stream",
     "text": [
      "b\n",
      "a\n",
      "n\n"
     ]
    }
   ],
   "source": [
    "# add a break\n",
    "\n",
    "for x in \"banana\":\n",
    "    print(x)\n",
    "    if x == \"n\":\n",
    "        break"
   ]
  },
  {
   "cell_type": "code",
   "execution_count": 5,
   "id": "0f41e92b",
   "metadata": {},
   "outputs": [
    {
     "name": "stdout",
     "output_type": "stream",
     "text": [
      "b\n",
      "a\n",
      "n\n",
      "a\n",
      "n\n"
     ]
    }
   ],
   "source": [
    "# code to exit on the second appearance of the letter\n",
    "\n",
    "letters = []\n",
    "\n",
    "for x in \"banana\":\n",
    "    print(x)\n",
    "    letters.append(x)\n",
    "    if x == \"n\" and letters.count(x) == 2:\n",
    "        break"
   ]
  },
  {
   "cell_type": "code",
   "execution_count": 5,
   "id": "205e8640",
   "metadata": {},
   "outputs": [
    {
     "name": "stdout",
     "output_type": "stream",
     "text": [
      "0\n",
      "1\n",
      "2\n",
      "3\n",
      "4\n",
      "5\n"
     ]
    }
   ],
   "source": [
    "# for loop through the range function\n",
    "for x in range(6):\n",
    "\tprint(x)\n"
   ]
  },
  {
   "cell_type": "code",
   "execution_count": 22,
   "id": "890932fc",
   "metadata": {},
   "outputs": [
    {
     "data": {
      "text/plain": [
       "range(0, 6)"
      ]
     },
     "execution_count": 22,
     "metadata": {},
     "output_type": "execute_result"
    }
   ],
   "source": [
    "range(6)"
   ]
  },
  {
   "cell_type": "code",
   "execution_count": 6,
   "id": "ee1663a0",
   "metadata": {},
   "outputs": [
    {
     "name": "stdout",
     "output_type": "stream",
     "text": [
      "2\n",
      "3\n",
      "4\n",
      "5\n"
     ]
    }
   ],
   "source": [
    "# for loop in the range function with a start parameter\n",
    "for x in range(2, 6):\n",
    "\tprint(x)"
   ]
  },
  {
   "cell_type": "code",
   "execution_count": 8,
   "id": "477a40eb",
   "metadata": {},
   "outputs": [
    {
     "name": "stdout",
     "output_type": "stream",
     "text": [
      "2\n",
      "5\n",
      "8\n",
      "11\n",
      "14\n",
      "17\n",
      "20\n",
      "23\n",
      "26\n",
      "29\n"
     ]
    }
   ],
   "source": [
    "# for loop in the range function with a start parameter and increment\n",
    "for x in range(2, 30, 3):\n",
    "\tprint(x)"
   ]
  },
  {
   "cell_type": "code",
   "execution_count": 23,
   "id": "d3c5499c",
   "metadata": {},
   "outputs": [
    {
     "name": "stdout",
     "output_type": "stream",
     "text": [
      "0\n",
      "1\n",
      "2\n",
      "3\n",
      "4\n",
      "5\n",
      "Finally finished!\n"
     ]
    }
   ],
   "source": [
    "# else in for loop statement\n",
    "\n",
    "for num in range(6):\n",
    "    print(num)\n",
    "else:\n",
    "    print(\"Finally finished!\")\n"
   ]
  },
  {
   "cell_type": "code",
   "execution_count": 24,
   "id": "cc34450e",
   "metadata": {},
   "outputs": [
    {
     "name": "stdout",
     "output_type": "stream",
     "text": [
      "0\n",
      "1\n",
      "2\n"
     ]
    }
   ],
   "source": [
    "# code that exists the for loop when reaches a condition \n",
    "\n",
    "for x in range(6):\n",
    "    if x == 3: \n",
    "        break\n",
    "    print(x)\n",
    "else:\n",
    "    print(\"Finally finished!\")"
   ]
  },
  {
   "cell_type": "code",
   "execution_count": 25,
   "id": "aee0a329",
   "metadata": {},
   "outputs": [
    {
     "name": "stdout",
     "output_type": "stream",
     "text": [
      "0\n",
      "1\n",
      "2\n",
      "4\n",
      "5\n",
      "8\n",
      "9\n",
      "10\n",
      "11\n",
      "Finally Finished\n"
     ]
    }
   ],
   "source": [
    "# code that skips over numbers speciffied in a list\n",
    "\n",
    "for number in range(12):\n",
    "    if number in [3, 6, 7]:\n",
    "        continue\n",
    "    print(number)\n",
    "else:\n",
    "    print(\"Finally Finished\")"
   ]
  },
  {
   "cell_type": "code",
   "execution_count": 26,
   "id": "5feee0c6",
   "metadata": {},
   "outputs": [
    {
     "name": "stdout",
     "output_type": "stream",
     "text": [
      "apple\n",
      "banana\n",
      "cherry\n"
     ]
    }
   ],
   "source": [
    "fruits = [\"apple\", \"banana\", \"cherry\"]\n",
    "\n",
    "for x in fruits:\n",
    "    print(x)\n"
   ]
  },
  {
   "cell_type": "code",
   "execution_count": 34,
   "id": "41817589",
   "metadata": {},
   "outputs": [],
   "source": [
    "for x in [0, 1, 2]:\n",
    "      pass\n"
   ]
  },
  {
   "cell_type": "code",
   "execution_count": 37,
   "id": "b99ac449",
   "metadata": {},
   "outputs": [
    {
     "name": "stdout",
     "output_type": "stream",
     "text": [
      "\n",
      "\n",
      "red\n",
      "------\n",
      "red apple\n",
      "red banana\n",
      "red cherry\n",
      "\n",
      "\n",
      "big\n",
      "------\n",
      "big apple\n",
      "big banana\n",
      "big cherry\n",
      "\n",
      "\n",
      "tasty\n",
      "------\n",
      "tasty apple\n",
      "tasty banana\n",
      "tasty cherry\n"
     ]
    }
   ],
   "source": [
    "adj = [\"red\", \"big\", \"tasty\"]\n",
    "fruits = [\"apple\", \"banana\", \"cherry\"]\n",
    "\n",
    "for a in adj:\n",
    "    print(\"\\n\")\n",
    "    print(a)\n",
    "    print(\"------\")\n",
    "  \n",
    "    for f in fruits:\n",
    "        print(a, f)\n"
   ]
  },
  {
   "cell_type": "code",
   "execution_count": 38,
   "id": "a47e680f",
   "metadata": {},
   "outputs": [
    {
     "name": "stdout",
     "output_type": "stream",
     "text": [
      "10\n",
      "20\n",
      "30\n",
      "40\n",
      "50\n"
     ]
    }
   ],
   "source": [
    "my_list = [1, 2, 3, 4, 5]\n",
    "\n",
    "for n in my_list:\n",
    "    print(n * 10)\n"
   ]
  },
  {
   "cell_type": "markdown",
   "id": "a52d1cf1",
   "metadata": {},
   "source": [
    "## Sets"
   ]
  },
  {
   "cell_type": "code",
   "execution_count": 43,
   "id": "b79d8322",
   "metadata": {},
   "outputs": [
    {
     "data": {
      "text/plain": [
       "set"
      ]
     },
     "execution_count": 43,
     "metadata": {},
     "output_type": "execute_result"
    }
   ],
   "source": [
    "set_example = {\"e1\", \"e2\", \"e1\"}\n",
    "type(set_example)"
   ]
  },
  {
   "cell_type": "code",
   "execution_count": 44,
   "id": "e0297247",
   "metadata": {},
   "outputs": [
    {
     "data": {
      "text/plain": [
       "{'e1', 'e2'}"
      ]
     },
     "execution_count": 44,
     "metadata": {},
     "output_type": "execute_result"
    }
   ],
   "source": [
    "set_example"
   ]
  },
  {
   "cell_type": "code",
   "execution_count": 46,
   "id": "18deeec1",
   "metadata": {},
   "outputs": [
    {
     "ename": "TypeError",
     "evalue": "unsupported operand type(s) for +: 'set' and 'set'",
     "output_type": "error",
     "traceback": [
      "\u001b[0;31m---------------------------------------------------------------------------\u001b[0m",
      "\u001b[0;31mTypeError\u001b[0m                                 Traceback (most recent call last)",
      "Cell \u001b[0;32mIn[46], line 4\u001b[0m\n\u001b[1;32m      1\u001b[0m set_1 \u001b[38;5;241m=\u001b[39m {\u001b[38;5;241m1\u001b[39m, \u001b[38;5;241m2\u001b[39m, \u001b[38;5;241m3\u001b[39m}\n\u001b[1;32m      2\u001b[0m set_2 \u001b[38;5;241m=\u001b[39m {\u001b[38;5;241m4\u001b[39m, \u001b[38;5;241m5\u001b[39m, \u001b[38;5;241m6\u001b[39m}\n\u001b[0;32m----> 4\u001b[0m \u001b[43mset_1\u001b[49m\u001b[43m \u001b[49m\u001b[38;5;241;43m+\u001b[39;49m\u001b[43m \u001b[49m\u001b[43mset_2\u001b[49m\n",
      "\u001b[0;31mTypeError\u001b[0m: unsupported operand type(s) for +: 'set' and 'set'"
     ]
    }
   ],
   "source": [
    "# hmm, can't do arithemetic operations with sets\n",
    "\n",
    "set_1 = {1, 2, 3}\n",
    "set_2 = {4, 5, 6}\n",
    "\n",
    "set_1 + set_2"
   ]
  },
  {
   "cell_type": "code",
   "execution_count": 41,
   "id": "e5c4ec9e",
   "metadata": {},
   "outputs": [
    {
     "data": {
      "text/plain": [
       "list"
      ]
     },
     "execution_count": 41,
     "metadata": {},
     "output_type": "execute_result"
    }
   ],
   "source": [
    "list_example = [\"e1\", \"e2\", \"e1\"]\n",
    "type(list_example)"
   ]
  },
  {
   "cell_type": "code",
   "execution_count": 48,
   "id": "c9d68403",
   "metadata": {},
   "outputs": [
    {
     "data": {
      "text/plain": [
       "set"
      ]
     },
     "execution_count": 48,
     "metadata": {},
     "output_type": "execute_result"
    }
   ],
   "source": [
    "set(list_example)"
   ]
  },
  {
   "cell_type": "code",
   "execution_count": 49,
   "id": "8fa44cbd",
   "metadata": {},
   "outputs": [
    {
     "data": {
      "text/plain": [
       "['e1', 'e2']"
      ]
     },
     "execution_count": 49,
     "metadata": {},
     "output_type": "execute_result"
    }
   ],
   "source": [
    "list(set_example)"
   ]
  },
  {
   "cell_type": "code",
   "execution_count": 45,
   "id": "73b583d5",
   "metadata": {},
   "outputs": [
    {
     "data": {
      "text/plain": [
       "'e1'"
      ]
     },
     "execution_count": 45,
     "metadata": {},
     "output_type": "execute_result"
    }
   ],
   "source": [
    "list_example[0]"
   ]
  },
  {
   "cell_type": "code",
   "execution_count": 42,
   "id": "e5985ee3",
   "metadata": {},
   "outputs": [
    {
     "data": {
      "text/plain": [
       "['e1', 'e2', 'e1']"
      ]
     },
     "execution_count": 42,
     "metadata": {},
     "output_type": "execute_result"
    }
   ],
   "source": [
    "list_example"
   ]
  },
  {
   "cell_type": "code",
   "execution_count": 50,
   "id": "002cf276",
   "metadata": {},
   "outputs": [
    {
     "data": {
      "text/plain": [
       "{'apple', 'banana', 'cherry'}"
      ]
     },
     "execution_count": 50,
     "metadata": {},
     "output_type": "execute_result"
    }
   ],
   "source": [
    "# creating a set\n",
    "\n",
    "thisset = {\"apple\", \"apple\", \"banana\", \"cherry\"}\n",
    "thisset"
   ]
  },
  {
   "cell_type": "code",
   "execution_count": 8,
   "id": "36926db0",
   "metadata": {},
   "outputs": [
    {
     "data": {
      "text/plain": [
       "set"
      ]
     },
     "execution_count": 8,
     "metadata": {},
     "output_type": "execute_result"
    }
   ],
   "source": [
    "type(thisset)"
   ]
  },
  {
   "cell_type": "code",
   "execution_count": 51,
   "id": "4f1e9124",
   "metadata": {},
   "outputs": [
    {
     "name": "stdout",
     "output_type": "stream",
     "text": [
      "apple\n",
      "banana\n",
      "cherry\n"
     ]
    }
   ],
   "source": [
    "for item in thisset:\n",
    "    print(item) "
   ]
  },
  {
   "cell_type": "code",
   "execution_count": 54,
   "id": "6e8acda2",
   "metadata": {},
   "outputs": [
    {
     "name": "stdout",
     "output_type": "stream",
     "text": [
      "False\n"
     ]
    }
   ],
   "source": [
    "# Check if \"banana\" is present in the set:\n",
    "print(\"mango\" in thisset)\n"
   ]
  },
  {
   "cell_type": "code",
   "execution_count": 55,
   "id": "5917a245",
   "metadata": {},
   "outputs": [
    {
     "name": "stdout",
     "output_type": "stream",
     "text": [
      "{1, 2, 3, 'c', 'b', 'a'}\n",
      "6\n"
     ]
    }
   ],
   "source": [
    "# joining two sets\n",
    "\n",
    "set1 = {\"a\", \"b\" , \"c\"}\n",
    "set2 = {1, 2, 3}\n",
    "\n",
    "set3 = set1.union(set2)\n",
    "print(set3)\n",
    "print(len(set3))"
   ]
  },
  {
   "cell_type": "code",
   "execution_count": 56,
   "id": "aff05ad0",
   "metadata": {},
   "outputs": [
    {
     "data": {
      "text/plain": [
       "{'apple'}"
      ]
     },
     "execution_count": 56,
     "metadata": {},
     "output_type": "execute_result"
    }
   ],
   "source": [
    "# the common elements in both sets\n",
    "\n",
    "fruit = {\"apple\", \"banana\", \"cherry\"}\n",
    "companies = {\"google\", \"microsoft\", \"apple\"}\n",
    "\n",
    "interesction = companies.intersection(fruits)\n",
    "interesction\n"
   ]
  },
  {
   "cell_type": "code",
   "execution_count": 58,
   "id": "aea8d9a9",
   "metadata": {},
   "outputs": [
    {
     "data": {
      "text/plain": [
       "{'banana', 'cherry', 'google', 'microsoft'}"
      ]
     },
     "execution_count": 58,
     "metadata": {},
     "output_type": "execute_result"
    }
   ],
   "source": [
    "# the differences in both sets\n",
    "\n",
    "fruit = {\"apple\", \"banana\", \"cherry\"}\n",
    "companies = {\"google\", \"microsoft\", \"apple\"}\n",
    "\n",
    "differences = companies.symmetric_difference(fruits)\n",
    "differences"
   ]
  },
  {
   "cell_type": "code",
   "execution_count": null,
   "id": "5ffec36f",
   "metadata": {},
   "outputs": [],
   "source": []
  }
 ],
 "metadata": {
  "kernelspec": {
   "display_name": "Python 3 (ipykernel)",
   "language": "python",
   "name": "python3"
  },
  "language_info": {
   "codemirror_mode": {
    "name": "ipython",
    "version": 3
   },
   "file_extension": ".py",
   "mimetype": "text/x-python",
   "name": "python",
   "nbconvert_exporter": "python",
   "pygments_lexer": "ipython3",
   "version": "3.11.3"
  }
 },
 "nbformat": 4,
 "nbformat_minor": 5
}
