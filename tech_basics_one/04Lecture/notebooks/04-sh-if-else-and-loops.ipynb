{
 "cells": [
  {
   "cell_type": "code",
   "execution_count": 1,
   "id": "bdfb3b96",
   "metadata": {},
   "outputs": [
    {
     "name": "stdout",
     "output_type": "stream",
     "text": [
      "a and be are equal\n"
     ]
    }
   ],
   "source": [
    "# if else statement\n",
    "# where a > b print hello world\n",
    "\n",
    "a = 100\n",
    "b = 100\n",
    "\n",
    "if a > b:\n",
    "    print(\"Hello World!\")\n",
    "# two equals tests for equality\n",
    "elif a==b:\n",
    "    print(\"a and be are equal\")\n",
    "else:\n",
    "    print(\"a has to be greater than b\")\n"
   ]
  },
  {
   "cell_type": "code",
   "execution_count": 2,
   "id": "b96ae93e",
   "metadata": {},
   "outputs": [
    {
     "name": "stdout",
     "output_type": "stream",
     "text": [
      "B\n"
     ]
    }
   ],
   "source": [
    "print(\"A\") if a > b else print(\"B\")"
   ]
  },
  {
   "cell_type": "code",
   "execution_count": 3,
   "id": "abf3c05d",
   "metadata": {},
   "outputs": [
    {
     "name": "stdout",
     "output_type": "stream",
     "text": [
      "=\n"
     ]
    }
   ],
   "source": [
    "print(\"A\") if a > b else print(\"=\") if a == b else print(\"B\")"
   ]
  },
  {
   "cell_type": "code",
   "execution_count": 4,
   "id": "9454705a",
   "metadata": {},
   "outputs": [
    {
     "name": "stdout",
     "output_type": "stream",
     "text": [
      "Hello World!\n"
     ]
    }
   ],
   "source": [
    "# if a > b and c > a then print hello world\n",
    "\n",
    "a = 200\n",
    "b = 33\n",
    "c = 10000\n",
    "\n",
    "if a > b and c > a:\n",
    "    print(\"Hello World!\")\n",
    "else:\n",
    "    print(\"one of the conditions is not satisfied\")"
   ]
  },
  {
   "cell_type": "code",
   "execution_count": 5,
   "id": "fab848d3",
   "metadata": {},
   "outputs": [
    {
     "name": "stdout",
     "output_type": "stream",
     "text": [
      "None of the conditions are satisfied\n"
     ]
    }
   ],
   "source": [
    "# if a > b or c > a then print hello world\n",
    "\n",
    "a = 200\n",
    "b = 2000\n",
    "c = 10\n",
    "\n",
    "if a > b or c > a:\n",
    "    print(\"Hello World!\")\n",
    "else:\n",
    "    print(\"None of the conditions are satisfied\")"
   ]
  },
  {
   "cell_type": "code",
   "execution_count": 6,
   "id": "36f55979",
   "metadata": {},
   "outputs": [],
   "source": [
    "# if b > a ignore the condition\n",
    "\n",
    "a = 33\n",
    "b = 200\n",
    "\n",
    "if b > a:\n",
    "    pass\n",
    "else:\n",
    "    print(\"a is less than b\")"
   ]
  },
  {
   "cell_type": "code",
   "execution_count": 7,
   "id": "bce8251e",
   "metadata": {},
   "outputs": [
    {
     "name": "stdout",
     "output_type": "stream",
     "text": [
      "The variable is ten or less\n"
     ]
    }
   ],
   "source": [
    "# nested if statements\n",
    "\n",
    "x = 10\n",
    "\n",
    "if x > 10:\n",
    "    print(\"The variable is above ten\")\n",
    "    if x > 20:\n",
    "        print(\"The variable is also above 20!\")\n",
    "    else:\n",
    "        print(\"The variable is not above 20!\")\n",
    "else:\n",
    "    print(\"The variable is ten or less\")\n"
   ]
  },
  {
   "cell_type": "code",
   "execution_count": 8,
   "id": "3c6d4862",
   "metadata": {},
   "outputs": [
    {
     "name": "stdout",
     "output_type": "stream",
     "text": [
      "The second player wins - paper covers rock\n",
      "Player 2 wins\n"
     ]
    }
   ],
   "source": [
    "# rock-paper-scissor game\n",
    "# if player 1 selects rock, and player 2 selects ...\n",
    "\n",
    "# Reference: https://bigbangtheory.fandom.com/wiki/Rock,_Paper,_Scissors,_Lizard,_Spock\n",
    "\n",
    "player_1_selection = \"rock\"\n",
    "player_2_selection = \"paper\"\n",
    "\n",
    "if player_1_selection == \"rock\":\n",
    "    if player_2_selection == \"rock\":\n",
    "        print(\"The players draw\")\n",
    "    elif player_2_selection == \"paper\":\n",
    "        print(\"The second player wins - paper covers rock\")\n",
    "    elif player_2_selection == \"scissors\":\n",
    "        print(\"The first player wins - rock beats scissors\")\n",
    "    elif player_2_selection == \"lizard\":\n",
    "        print(\"The first player wins - rock crushes lizard\")\n",
    "    elif player_2_selection == \"spock\":\n",
    "        print(\"The second player wins - spock vaporises rock\")\n",
    "    else:\n",
    "        print(\"option not recognised\")\n",
    "\n",
    "        \n",
    "if player_2_selection in [\"paper\", \"spock\"]:\n",
    "    print(\"Player 2 wins\")\n",
    "elif player_2_selection == player_1_selection:\n",
    "    print(\"The players should play again\")\n",
    "else: \n",
    "    print(\"Player 1 wins\")"
   ]
  },
  {
   "cell_type": "code",
   "execution_count": 9,
   "id": "b2419732",
   "metadata": {},
   "outputs": [
    {
     "name": "stdout",
     "output_type": "stream",
     "text": [
      "The first player wins - rock covers paper\n",
      "Player 1 wins\n"
     ]
    }
   ],
   "source": [
    "# if player 1 selects paper, and player 2 selects ...\n",
    "\n",
    "player_1_selection = \"paper\"\n",
    "player_2_selection = \"rock\"\n",
    "\n",
    "if player_1_selection == \"paper\":\n",
    "    if player_2_selection == \"paper\":\n",
    "        print(\"The players draw\")\n",
    "    elif player_2_selection == \"scissors\":\n",
    "        print(\"The second player wins - scissors cuts paper\")\n",
    "    elif player_2_selection == \"rock\":\n",
    "        print(\"The first player wins - rock covers paper\")\n",
    "    elif player_2_selection == \"lizard\":\n",
    "        print(\"The second player wins - lizard eats paper\")\n",
    "    elif player_2_selection == \"spock\":\n",
    "        print(\"The first player wins - paper disproves spock\")\n",
    "    else:\n",
    "        print(\"option not recognised\")\n",
    "\n",
    "if player_2_selection in [\"scissors\", \"lizard\"]:\n",
    "    print(\"Player 2 wins\")\n",
    "elif player_2_selection == player_1_selection:\n",
    "    print(\"The players should play again\")\n",
    "else: \n",
    "    print(\"Player 1 wins\")"
   ]
  },
  {
   "cell_type": "code",
   "execution_count": 10,
   "id": "a425fdf5",
   "metadata": {},
   "outputs": [
    {
     "name": "stdout",
     "output_type": "stream",
     "text": [
      "The second player wins - spock smashes scissors\n",
      "Player 2 wins\n"
     ]
    }
   ],
   "source": [
    "# if player 1 selects paper, and player 2 selects ...\n",
    "\n",
    "player_1_selection = \"scissors\"\n",
    "player_2_selection = \"spock\"\n",
    "\n",
    "if player_1_selection == \"scissors\":\n",
    "    if player_2_selection == \"scissors\":\n",
    "        print(\"The players draw\")\n",
    "    elif player_2_selection == \"paper\":\n",
    "        print(\"The first player wins - scissors cuts paper\")\n",
    "    elif player_2_selection == \"rock\":\n",
    "        print(\"The second player wins - rock crushes scissors\")\n",
    "    elif player_2_selection == \"lizard\":\n",
    "        print(\"The first player wins - scissors decapitates lizard\")\n",
    "    elif player_2_selection == \"spock\":\n",
    "        print(\"The second player wins - spock smashes scissors\")\n",
    "    else:\n",
    "        print(\"option not recognised\")\n",
    "        \n",
    "if player_2_selection in [\"spock\", \"rock\"]:\n",
    "    print(\"Player 2 wins\")\n",
    "elif player_2_selection == player_1_selection:\n",
    "    print(\"The players should play again\")\n",
    "else: \n",
    "    print(\"Player 1 wins\")"
   ]
  },
  {
   "cell_type": "code",
   "execution_count": 11,
   "id": "bfc485f4",
   "metadata": {},
   "outputs": [
    {
     "name": "stdout",
     "output_type": "stream",
     "text": [
      "The first player wins - lizard poisons spock\n",
      "Player 1 wins\n"
     ]
    }
   ],
   "source": [
    "# if player 1 selects paper, and player 2 selects ...\n",
    "\n",
    "player_1_selection = \"lizard\"\n",
    "player_2_selection = \"spock\"\n",
    "\n",
    "if player_1_selection == \"lizard\":\n",
    "    if player_2_selection == \"lizard\":\n",
    "        print(\"The players draw\")\n",
    "    elif player_2_selection == \"paper\":\n",
    "        print(\"The first player wins - lizard eats paper\")\n",
    "    elif player_2_selection == \"rock\":\n",
    "        print(\"The second player wins - rock crushes lizard\")\n",
    "    elif player_2_selection == \"scissors\":\n",
    "        print(\"The second player wins - scissors decapitates lizard\")\n",
    "    elif player_2_selection == \"spock\":\n",
    "        print(\"The first player wins - lizard poisons spock\")\n",
    "    else:\n",
    "        print(\"option not recognised\")\n",
    "\n",
    "if player_2_selection in [\"scissors\", \"rock\"]:\n",
    "    print(\"Player 2 wins\")\n",
    "elif player_2_selection == player_1_selection:\n",
    "    print(\"The players should play again\")\n",
    "else: \n",
    "    print(\"Player 1 wins\")"
   ]
  },
  {
   "cell_type": "code",
   "execution_count": 12,
   "id": "43a22860",
   "metadata": {},
   "outputs": [
    {
     "name": "stdout",
     "output_type": "stream",
     "text": [
      "The players draw\n",
      "The players should play again\n"
     ]
    }
   ],
   "source": [
    "# if player 1 selects paper, and player 2 selects ...\n",
    "\n",
    "player_1_selection = \"spock\"\n",
    "player_2_selection = \"spock\"\n",
    "\n",
    "if player_1_selection == \"spock\":\n",
    "    if player_2_selection == \"spock\":\n",
    "        print(\"The players draw\")\n",
    "    elif player_2_selection == \"paper\":\n",
    "        print(\"The second player wins - paper disproves spock\")\n",
    "    elif player_2_selection == \"rock\":\n",
    "        print(\"The first player wins - spock vaporizes rock\")\n",
    "    elif player_2_selection == \"lizard\":\n",
    "        print(\"The second player wins - lizard poisons spock\")\n",
    "    elif player_2_selection == \"scissors\":\n",
    "        print(\"The first player wins - lizard poisons spock\")\n",
    "    else:\n",
    "        print(\"option not recognised\")     \n",
    "        \n",
    "if player_2_selection in [\"paper\", \"lizard\"]:\n",
    "    print(\"Player 2 wins\")\n",
    "elif player_2_selection == player_1_selection:\n",
    "    print(\"The players should play again\")\n",
    "else: \n",
    "    print(\"Player 1 wins\")"
   ]
  },
  {
   "cell_type": "code",
   "execution_count": 13,
   "id": "4df5a476",
   "metadata": {},
   "outputs": [
    {
     "name": "stdout",
     "output_type": "stream",
     "text": [
      "please select rock, paper, scissor, lizard, spock:lizard\n",
      "please select rock, paper, scissor, lizard, spock:spock\n",
      "The first player wins - lizard poisons spock\n"
     ]
    }
   ],
   "source": [
    "player_1_selection = input(\"please select rock, paper, scissor, lizard, spock:\")\n",
    "player_2_selection = input(\"please select rock, paper, scissor, lizard, spock:\")\n",
    "\n",
    "if player_1_selection == \"rock\":\n",
    "    if player_2_selection == \"rock\":\n",
    "        print(\"The players draw\")\n",
    "    elif player_2_selection == \"paper\":\n",
    "        print(\"The second player wins - paper covers rock\")\n",
    "    elif player_2_selection == \"scissors\":\n",
    "        print(\"The first player wins - rock beats scissors\")\n",
    "    elif player_2_selection == \"lizard\":\n",
    "        print(\"The first player wins - rock crushes lizard\")\n",
    "    elif player_2_selection == \"spock\":\n",
    "        print(\"The second player wins - spock vaporises rock\")\n",
    "    else:\n",
    "        print(\"option not recognised\")\n",
    "\n",
    "if player_1_selection == \"paper\":\n",
    "    if player_2_selection == \"paper\":\n",
    "        print(\"The players draw\")\n",
    "    elif player_2_selection == \"scissors\":\n",
    "        print(\"The second player wins - scissors cuts paper\")\n",
    "    elif player_2_selection == \"rock\":\n",
    "        print(\"The first player wins - rock covers paper\")\n",
    "    elif player_2_selection == \"lizard\":\n",
    "        print(\"The second player wins - lizard eats paper\")\n",
    "    elif player_2_selection == \"spock\":\n",
    "        print(\"The first player wins - paper disproves spock\")\n",
    "    else:\n",
    "        print(\"option not recognised\")\n",
    "        \n",
    "if player_1_selection == \"scissors\":\n",
    "    if player_2_selection == \"scissors\":\n",
    "        print(\"The players draw\")\n",
    "    elif player_2_selection == \"paper\":\n",
    "        print(\"The first player wins - scissors cuts paper\")\n",
    "    elif player_2_selection == \"rock\":\n",
    "        print(\"The second player wins - rock crushes scissors\")\n",
    "    elif player_2_selection == \"lizard\":\n",
    "        print(\"The first player wins - scissors decapitates lizard\")\n",
    "    elif player_2_selection == \"spock\":\n",
    "        print(\"The second player wins - spock smashes scissors\")\n",
    "    else:\n",
    "        print(\"option not recognised\")\n",
    "        \n",
    "if player_1_selection == \"lizard\":\n",
    "    if player_2_selection == \"lizard\":\n",
    "        print(\"The players draw\")\n",
    "    elif player_2_selection == \"paper\":\n",
    "        print(\"The first player wins - lizard eats paper\")\n",
    "    elif player_2_selection == \"rock\":\n",
    "        print(\"The second player wins - rock crushes lizard\")\n",
    "    elif player_2_selection == \"scissors\":\n",
    "        print(\"The second player wins - scissors decapitates lizard\")\n",
    "    elif player_2_selection == \"spock\":\n",
    "        print(\"The first player wins - lizard poisons spock\")\n",
    "    else:\n",
    "        print(\"option not recognised\")\n",
    "        \n",
    "if player_1_selection == \"spock\":\n",
    "    if player_2_selection == \"spock\":\n",
    "        print(\"The players draw\")\n",
    "    elif player_2_selection == \"paper\":\n",
    "        print(\"The second player wins - paper disproves spock\")\n",
    "    elif player_2_selection == \"rock\":\n",
    "        print(\"The first player wins - spock vaporizes rock\")\n",
    "    elif player_2_selection == \"lizard\":\n",
    "        print(\"The second player wins - lizard poisons spock\")\n",
    "    elif player_2_selection == \"scissors\":\n",
    "        print(\"The first player wins - lizard poisons spock\")\n",
    "    else:\n",
    "        print(\"option not recognised\")     \n"
   ]
  },
  {
   "cell_type": "code",
   "execution_count": 14,
   "id": "c4519022",
   "metadata": {},
   "outputs": [
    {
     "name": "stdout",
     "output_type": "stream",
     "text": [
      "1\n",
      "2\n",
      "3\n",
      "4\n",
      "5\n"
     ]
    }
   ],
   "source": [
    "i = 1\n",
    "while i < 6:\n",
    "    print(i)\n",
    "    i += 1"
   ]
  },
  {
   "cell_type": "code",
   "execution_count": 15,
   "id": "3e14cef0",
   "metadata": {},
   "outputs": [
    {
     "name": "stdout",
     "output_type": "stream",
     "text": [
      "1\n",
      "2\n",
      "3\n",
      "4\n",
      "5\n"
     ]
    }
   ],
   "source": [
    "# print i while is less than 6\n",
    "\n",
    "i = 1\n",
    "while i < 6:\n",
    "    print(i)\n",
    "    i = i + 1"
   ]
  },
  {
   "cell_type": "code",
   "execution_count": 16,
   "id": "ac3215f8",
   "metadata": {},
   "outputs": [
    {
     "name": "stdout",
     "output_type": "stream",
     "text": [
      "1\n",
      "2\n",
      "3\n"
     ]
    }
   ],
   "source": [
    "# exit the loop when i is 3\n",
    "\n",
    "i = 1\n",
    "while i < 6:\n",
    "    print(i)\n",
    "    if i == 3:\n",
    "        break\n",
    "    i += 1\n"
   ]
  },
  {
   "cell_type": "code",
   "execution_count": 17,
   "id": "e0807465",
   "metadata": {},
   "outputs": [
    {
     "name": "stdout",
     "output_type": "stream",
     "text": [
      "1\n",
      "2\n",
      "4\n",
      "5\n",
      "6\n"
     ]
    }
   ],
   "source": [
    "# continue to next iteration if i is 3\n",
    "\n",
    "i = 0\n",
    "while i < 6:\n",
    "    i += 1\n",
    "    if i == 3:\n",
    "        continue\n",
    "    print(i)"
   ]
  },
  {
   "cell_type": "code",
   "execution_count": 18,
   "id": "a96c5a66",
   "metadata": {},
   "outputs": [
    {
     "name": "stdout",
     "output_type": "stream",
     "text": [
      "1\n",
      "2\n",
      "3\n",
      "4\n",
      "5\n",
      "i is no longer less than 6\n"
     ]
    }
   ],
   "source": [
    "# print a message once the condition is false\n",
    "\n",
    "i = 1\n",
    "while i < 6:\n",
    "    print(i)\n",
    "    i += 1\n",
    "else:\n",
    "    print(\"i is no longer less than 6\")\n"
   ]
  }
 ],
 "metadata": {
  "kernelspec": {
   "display_name": "Python 3 (ipykernel)",
   "language": "python",
   "name": "python3"
  },
  "language_info": {
   "codemirror_mode": {
    "name": "ipython",
    "version": 3
   },
   "file_extension": ".py",
   "mimetype": "text/x-python",
   "name": "python",
   "nbconvert_exporter": "python",
   "pygments_lexer": "ipython3",
   "version": "3.11.3"
  }
 },
 "nbformat": 4,
 "nbformat_minor": 5
}
