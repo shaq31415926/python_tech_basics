{
 "cells": [
  {
   "cell_type": "code",
   "execution_count": 9,
   "id": "865b29cd",
   "metadata": {},
   "outputs": [],
   "source": [
    "# create dictionary\n",
    "\n",
    "cars = {\n",
    "  \"brand\": [\"Ford\", \"XX\", \"YY\"],\n",
    "  \"model\": \"Mustang\",\n",
    "  \"year\": 1964\n",
    "\n",
    "}"
   ]
  },
  {
   "cell_type": "code",
   "execution_count": 10,
   "id": "4c6c9f4c",
   "metadata": {},
   "outputs": [
    {
     "data": {
      "text/plain": [
       "{'brand': ['Ford', 'XX', 'YY'], 'model': 'Mustang', 'year': 1964}"
      ]
     },
     "execution_count": 10,
     "metadata": {},
     "output_type": "execute_result"
    }
   ],
   "source": [
    "# print the variable thisdict\n",
    "cars"
   ]
  },
  {
   "cell_type": "code",
   "execution_count": 4,
   "id": "1d15aa92",
   "metadata": {},
   "outputs": [
    {
     "data": {
      "text/plain": [
       "dict"
      ]
     },
     "execution_count": 4,
     "metadata": {},
     "output_type": "execute_result"
    }
   ],
   "source": [
    "# check the type\n",
    "\n",
    "type(cars)"
   ]
  },
  {
   "cell_type": "code",
   "execution_count": 5,
   "id": "cec9a647",
   "metadata": {},
   "outputs": [
    {
     "data": {
      "text/plain": [
       "set"
      ]
     },
     "execution_count": 5,
     "metadata": {},
     "output_type": "execute_result"
    }
   ],
   "source": [
    "# creating a car set\n",
    "\n",
    "cars_s = {\n",
    "  \"brand\", \"model\", 145\n",
    "}\n",
    "\n",
    "type(cars_s)"
   ]
  },
  {
   "cell_type": "code",
   "execution_count": 6,
   "id": "f89b3fdb",
   "metadata": {},
   "outputs": [
    {
     "data": {
      "text/plain": [
       "{145, 'brand', 'model'}"
      ]
     },
     "execution_count": 6,
     "metadata": {},
     "output_type": "execute_result"
    }
   ],
   "source": [
    "cars_s"
   ]
  },
  {
   "cell_type": "code",
   "execution_count": 7,
   "id": "89ee07fb",
   "metadata": {},
   "outputs": [
    {
     "data": {
      "text/plain": [
       "list"
      ]
     },
     "execution_count": 7,
     "metadata": {},
     "output_type": "execute_result"
    }
   ],
   "source": [
    "# creating a cars list\n",
    "\n",
    "cars_l = [\"brand\", \"model\", 145, 145]\n",
    "\n",
    "type(cars_l)"
   ]
  },
  {
   "cell_type": "code",
   "execution_count": 8,
   "id": "e6efc6a9",
   "metadata": {},
   "outputs": [
    {
     "data": {
      "text/plain": [
       "['brand', 'model', 145, 145]"
      ]
     },
     "execution_count": 8,
     "metadata": {},
     "output_type": "execute_result"
    }
   ],
   "source": [
    "cars_l"
   ]
  },
  {
   "cell_type": "code",
   "execution_count": 14,
   "id": "72f9299e",
   "metadata": {},
   "outputs": [
    {
     "data": {
      "text/plain": [
       "3"
      ]
     },
     "execution_count": 14,
     "metadata": {},
     "output_type": "execute_result"
    }
   ],
   "source": [
    "# check the length of the number of key-value pairs\n",
    "\n",
    "len(cars)\n"
   ]
  },
  {
   "cell_type": "code",
   "execution_count": 18,
   "id": "b2a0de19",
   "metadata": {},
   "outputs": [
    {
     "data": {
      "text/plain": [
       "3"
      ]
     },
     "execution_count": 18,
     "metadata": {},
     "output_type": "execute_result"
    }
   ],
   "source": [
    "len(cars.values())"
   ]
  },
  {
   "cell_type": "code",
   "execution_count": 11,
   "id": "64ac0b32",
   "metadata": {},
   "outputs": [
    {
     "name": "stdout",
     "output_type": "stream",
     "text": [
      "Yes, the key exists in your dictionary\n"
     ]
    }
   ],
   "source": [
    "# check a key exists\n",
    "\n",
    "if \"model\" in cars:\n",
    "    print(\"Yes, the key exists in your dictionary\")\n",
    "else:\n",
    "    print(\"No, please add this key\")\n"
   ]
  },
  {
   "cell_type": "code",
   "execution_count": 19,
   "id": "f7b27a58",
   "metadata": {},
   "outputs": [
    {
     "data": {
      "text/plain": [
       "'Mustang'"
      ]
     },
     "execution_count": 19,
     "metadata": {},
     "output_type": "execute_result"
    }
   ],
   "source": [
    "# code to get the value of a key\n",
    "\n",
    "cars[\"model\"]"
   ]
  },
  {
   "cell_type": "code",
   "execution_count": 20,
   "id": "495fdc05",
   "metadata": {},
   "outputs": [
    {
     "data": {
      "text/plain": [
       "'Mustang'"
      ]
     },
     "execution_count": 20,
     "metadata": {},
     "output_type": "execute_result"
    }
   ],
   "source": [
    "# code to get the value of a key\n",
    "\n",
    "cars.get(\"model\")"
   ]
  },
  {
   "cell_type": "code",
   "execution_count": 6,
   "id": "bd4a2485",
   "metadata": {},
   "outputs": [
    {
     "data": {
      "text/plain": [
       "{'footballs': 100, 'bats': 40, 'gloves': 80}"
      ]
     },
     "execution_count": 6,
     "metadata": {},
     "output_type": "execute_result"
    }
   ],
   "source": [
    "# convert two lists into a dictionary\n",
    "\n",
    "items = [\"footballs\", \"bats\", \"gloves\"]\n",
    "price = [100, 40, 80]\n",
    "\n",
    "items_w_price_dict = dict(zip(items, price))\n",
    "items_w_price_dict"
   ]
  },
  {
   "cell_type": "code",
   "execution_count": 13,
   "id": "ccc2ccf1",
   "metadata": {},
   "outputs": [
    {
     "data": {
      "text/plain": [
       "dict"
      ]
     },
     "execution_count": 13,
     "metadata": {},
     "output_type": "execute_result"
    }
   ],
   "source": [
    "type(items_w_price_dict)"
   ]
  },
  {
   "cell_type": "code",
   "execution_count": null,
   "id": "277f7302",
   "metadata": {},
   "outputs": [],
   "source": []
  }
 ],
 "metadata": {
  "kernelspec": {
   "display_name": "Python 3 (ipykernel)",
   "language": "python",
   "name": "python3"
  },
  "language_info": {
   "codemirror_mode": {
    "name": "ipython",
    "version": 3
   },
   "file_extension": ".py",
   "mimetype": "text/x-python",
   "name": "python",
   "nbconvert_exporter": "python",
   "pygments_lexer": "ipython3",
   "version": "3.11.3"
  }
 },
 "nbformat": 4,
 "nbformat_minor": 5
}
