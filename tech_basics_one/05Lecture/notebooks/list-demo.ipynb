{
 "cells": [
  {
   "cell_type": "code",
   "execution_count": 1,
   "id": "9f03154e",
   "metadata": {},
   "outputs": [],
   "source": [
    "artists = [\"The Beatles\", \"Spice Girls\", \"Backstreet Boys\"]"
   ]
  },
  {
   "cell_type": "code",
   "execution_count": 2,
   "id": "70140a6a",
   "metadata": {},
   "outputs": [
    {
     "data": {
      "text/plain": [
       "list"
      ]
     },
     "execution_count": 2,
     "metadata": {},
     "output_type": "execute_result"
    }
   ],
   "source": [
    "type(artists)"
   ]
  },
  {
   "cell_type": "code",
   "execution_count": 3,
   "id": "ff67ae50",
   "metadata": {},
   "outputs": [
    {
     "data": {
      "text/plain": [
       "['The Beatles', 'Spice Girls', 'Backstreet Boys']"
      ]
     },
     "execution_count": 3,
     "metadata": {},
     "output_type": "execute_result"
    }
   ],
   "source": [
    "artists"
   ]
  },
  {
   "cell_type": "code",
   "execution_count": 4,
   "id": "b268f08e",
   "metadata": {},
   "outputs": [
    {
     "data": {
      "text/plain": [
       "'The Beatles'"
      ]
     },
     "execution_count": 4,
     "metadata": {},
     "output_type": "execute_result"
    }
   ],
   "source": [
    "artists[0]"
   ]
  },
  {
   "cell_type": "code",
   "execution_count": 5,
   "id": "99303013",
   "metadata": {},
   "outputs": [],
   "source": [
    "number_awards = [100, 58, 90]"
   ]
  },
  {
   "cell_type": "code",
   "execution_count": 6,
   "id": "b77dd9bf",
   "metadata": {},
   "outputs": [],
   "source": [
    "artists_w_awards = [\"The Beatles\", number_awards]"
   ]
  },
  {
   "cell_type": "code",
   "execution_count": 7,
   "id": "b8146454",
   "metadata": {},
   "outputs": [
    {
     "data": {
      "text/plain": [
       "['The Beatles', [100, 58, 90]]"
      ]
     },
     "execution_count": 7,
     "metadata": {},
     "output_type": "execute_result"
    }
   ],
   "source": [
    "artists_w_awards"
   ]
  },
  {
   "cell_type": "code",
   "execution_count": 13,
   "id": "a8017da8",
   "metadata": {},
   "outputs": [
    {
     "data": {
      "text/plain": [
       "58"
      ]
     },
     "execution_count": 13,
     "metadata": {},
     "output_type": "execute_result"
    }
   ],
   "source": [
    "artists_w_awards[1][1]"
   ]
  },
  {
   "cell_type": "code",
   "execution_count": 14,
   "id": "7ce3d025",
   "metadata": {},
   "outputs": [],
   "source": [
    "artists.append(\"Madonna\")"
   ]
  },
  {
   "cell_type": "code",
   "execution_count": 15,
   "id": "0c13599f",
   "metadata": {},
   "outputs": [
    {
     "data": {
      "text/plain": [
       "['The Beatles', 'Spice Girls', 'Backstreet Boys', 'Madonna']"
      ]
     },
     "execution_count": 15,
     "metadata": {},
     "output_type": "execute_result"
    }
   ],
   "source": [
    "artists"
   ]
  },
  {
   "cell_type": "code",
   "execution_count": 16,
   "id": "23610536",
   "metadata": {},
   "outputs": [],
   "source": [
    "artists.append(number_awards)"
   ]
  },
  {
   "cell_type": "code",
   "execution_count": 18,
   "id": "71004f31",
   "metadata": {},
   "outputs": [
    {
     "data": {
      "text/plain": [
       "['The Beatles', 'Spice Girls', 'Backstreet Boys', 'Madonna', 100, 58, 90]"
      ]
     },
     "execution_count": 18,
     "metadata": {},
     "output_type": "execute_result"
    }
   ],
   "source": [
    "artists"
   ]
  },
  {
   "cell_type": "code",
   "execution_count": 1,
   "id": "08075550",
   "metadata": {},
   "outputs": [],
   "source": [
    "fruit = ['apple', 'banana', 'pear', 'apple']"
   ]
  },
  {
   "cell_type": "code",
   "execution_count": 2,
   "id": "4a296461",
   "metadata": {},
   "outputs": [
    {
     "data": {
      "text/plain": [
       "['apple', 'banana', 'pear', 'apple']"
      ]
     },
     "execution_count": 2,
     "metadata": {},
     "output_type": "execute_result"
    }
   ],
   "source": [
    "fruit"
   ]
  },
  {
   "cell_type": "code",
   "execution_count": 3,
   "id": "9e3c7b74",
   "metadata": {},
   "outputs": [
    {
     "data": {
      "text/plain": [
       "list"
      ]
     },
     "execution_count": 3,
     "metadata": {},
     "output_type": "execute_result"
    }
   ],
   "source": [
    "type(fruit)"
   ]
  },
  {
   "cell_type": "code",
   "execution_count": 4,
   "id": "98343536",
   "metadata": {},
   "outputs": [
    {
     "data": {
      "text/plain": [
       "'apple'"
      ]
     },
     "execution_count": 4,
     "metadata": {},
     "output_type": "execute_result"
    }
   ],
   "source": [
    "fruit[0]"
   ]
  },
  {
   "cell_type": "code",
   "execution_count": 7,
   "id": "7e5cc92f",
   "metadata": {},
   "outputs": [
    {
     "data": {
      "text/plain": [
       "'apple'"
      ]
     },
     "execution_count": 7,
     "metadata": {},
     "output_type": "execute_result"
    }
   ],
   "source": [
    "fruit[-1]"
   ]
  },
  {
   "cell_type": "code",
   "execution_count": 8,
   "id": "1dfbb19a",
   "metadata": {},
   "outputs": [],
   "source": [
    "fruit.append(\"grapes\")"
   ]
  },
  {
   "cell_type": "code",
   "execution_count": 9,
   "id": "863a13d1",
   "metadata": {},
   "outputs": [
    {
     "data": {
      "text/plain": [
       "['apple', 'banana', 'pear', 'apple', 'grapes']"
      ]
     },
     "execution_count": 9,
     "metadata": {},
     "output_type": "execute_result"
    }
   ],
   "source": [
    "fruit"
   ]
  },
  {
   "cell_type": "code",
   "execution_count": 10,
   "id": "5def0ddf",
   "metadata": {},
   "outputs": [],
   "source": [
    "fruit.insert(2, \"strawberries\")"
   ]
  },
  {
   "cell_type": "code",
   "execution_count": 11,
   "id": "908a22f4",
   "metadata": {},
   "outputs": [
    {
     "data": {
      "text/plain": [
       "['apple', 'banana', 'strawberries', 'pear', 'apple', 'grapes']"
      ]
     },
     "execution_count": 11,
     "metadata": {},
     "output_type": "execute_result"
    }
   ],
   "source": [
    "fruit"
   ]
  },
  {
   "cell_type": "code",
   "execution_count": 16,
   "id": "37c17805",
   "metadata": {},
   "outputs": [],
   "source": [
    "more_fruit = [\"kiwi\", \"apple\"]\n",
    "\n",
    "fruit.extend(more_fruit)"
   ]
  },
  {
   "cell_type": "code",
   "execution_count": 14,
   "id": "2ffa888c",
   "metadata": {},
   "outputs": [],
   "source": [
    "fruit.append(more_fruit)"
   ]
  },
  {
   "cell_type": "code",
   "execution_count": 17,
   "id": "cf0f60ee",
   "metadata": {},
   "outputs": [
    {
     "data": {
      "text/plain": [
       "['apple',\n",
       " 'banana',\n",
       " 'strawberries',\n",
       " 'pear',\n",
       " 'apple',\n",
       " 'grapes',\n",
       " ['kiwi', 'apple'],\n",
       " 'kiwi',\n",
       " 'apple']"
      ]
     },
     "execution_count": 17,
     "metadata": {},
     "output_type": "execute_result"
    }
   ],
   "source": [
    "fruit"
   ]
  },
  {
   "cell_type": "code",
   "execution_count": 18,
   "id": "09409e4f",
   "metadata": {},
   "outputs": [
    {
     "data": {
      "text/plain": [
       "12"
      ]
     },
     "execution_count": 18,
     "metadata": {},
     "output_type": "execute_result"
    }
   ],
   "source": [
    "# number of characters in your string\n",
    "\n",
    "len(\"strawberries\")"
   ]
  },
  {
   "cell_type": "code",
   "execution_count": 19,
   "id": "07a4a3a7",
   "metadata": {},
   "outputs": [
    {
     "data": {
      "text/plain": [
       "9"
      ]
     },
     "execution_count": 19,
     "metadata": {},
     "output_type": "execute_result"
    }
   ],
   "source": [
    "# number of elements in your list\n",
    "\n",
    "len(fruit)"
   ]
  },
  {
   "cell_type": "code",
   "execution_count": 20,
   "id": "eb087d07",
   "metadata": {},
   "outputs": [],
   "source": [
    "fruit.remove(\"apple\")"
   ]
  },
  {
   "cell_type": "code",
   "execution_count": 21,
   "id": "a8e8affb",
   "metadata": {},
   "outputs": [
    {
     "data": {
      "text/plain": [
       "['banana',\n",
       " 'strawberries',\n",
       " 'pear',\n",
       " 'apple',\n",
       " 'grapes',\n",
       " ['kiwi', 'apple'],\n",
       " 'kiwi',\n",
       " 'apple']"
      ]
     },
     "execution_count": 21,
     "metadata": {},
     "output_type": "execute_result"
    }
   ],
   "source": [
    "fruit"
   ]
  },
  {
   "cell_type": "code",
   "execution_count": 22,
   "id": "ab45bcce",
   "metadata": {},
   "outputs": [
    {
     "data": {
      "text/plain": [
       "'banana'"
      ]
     },
     "execution_count": 22,
     "metadata": {},
     "output_type": "execute_result"
    }
   ],
   "source": [
    "fruit.pop(0)"
   ]
  },
  {
   "cell_type": "code",
   "execution_count": 23,
   "id": "b031eb76",
   "metadata": {},
   "outputs": [
    {
     "data": {
      "text/plain": [
       "['strawberries', 'pear', 'apple', 'grapes', ['kiwi', 'apple'], 'kiwi', 'apple']"
      ]
     },
     "execution_count": 23,
     "metadata": {},
     "output_type": "execute_result"
    }
   ],
   "source": [
    "fruit"
   ]
  },
  {
   "cell_type": "code",
   "execution_count": 24,
   "id": "88a7a1ff",
   "metadata": {},
   "outputs": [],
   "source": [
    "fruit.clear()"
   ]
  },
  {
   "cell_type": "code",
   "execution_count": 44,
   "id": "28920e91",
   "metadata": {},
   "outputs": [
    {
     "data": {
      "text/plain": [
       "[]"
      ]
     },
     "execution_count": 44,
     "metadata": {},
     "output_type": "execute_result"
    }
   ],
   "source": [
    "fruit"
   ]
  },
  {
   "cell_type": "code",
   "execution_count": 25,
   "id": "306c003b",
   "metadata": {},
   "outputs": [],
   "source": [
    "del fruit"
   ]
  },
  {
   "cell_type": "code",
   "execution_count": 26,
   "id": "96814a56",
   "metadata": {},
   "outputs": [
    {
     "ename": "NameError",
     "evalue": "name 'fruit' is not defined",
     "output_type": "error",
     "traceback": [
      "\u001b[0;31m---------------------------------------------------------------------------\u001b[0m",
      "\u001b[0;31mNameError\u001b[0m                                 Traceback (most recent call last)",
      "Cell \u001b[0;32mIn[26], line 1\u001b[0m\n\u001b[0;32m----> 1\u001b[0m \u001b[43mfruit\u001b[49m\n",
      "\u001b[0;31mNameError\u001b[0m: name 'fruit' is not defined"
     ]
    }
   ],
   "source": [
    "fruit"
   ]
  },
  {
   "cell_type": "code",
   "execution_count": 48,
   "id": "b467730e",
   "metadata": {},
   "outputs": [
    {
     "data": {
      "text/plain": [
       "6"
      ]
     },
     "execution_count": 48,
     "metadata": {},
     "output_type": "execute_result"
    }
   ],
   "source": [
    "number = \"124565\"\n",
    "len(number)"
   ]
  },
  {
   "cell_type": "code",
   "execution_count": 49,
   "id": "def29f83",
   "metadata": {},
   "outputs": [
    {
     "data": {
      "text/plain": [
       "['apple', 'banana']"
      ]
     },
     "execution_count": 49,
     "metadata": {},
     "output_type": "execute_result"
    }
   ],
   "source": [
    "fruit = list((\"apple\", \"banana\"))\n",
    "\n",
    "fruit\n"
   ]
  },
  {
   "cell_type": "code",
   "execution_count": 50,
   "id": "3582930c",
   "metadata": {},
   "outputs": [
    {
     "data": {
      "text/plain": [
       "list"
      ]
     },
     "execution_count": 50,
     "metadata": {},
     "output_type": "execute_result"
    }
   ],
   "source": [
    "type(fruit)"
   ]
  },
  {
   "cell_type": "code",
   "execution_count": 51,
   "id": "2ebfaff1",
   "metadata": {},
   "outputs": [],
   "source": [
    "list_1 = [1, 2, 3]\n",
    "list_2 = [4, 5, 6]"
   ]
  },
  {
   "cell_type": "code",
   "execution_count": 52,
   "id": "81f011dc",
   "metadata": {},
   "outputs": [],
   "source": [
    "# this will created a nested list \n",
    "list_1.append(list_2)"
   ]
  },
  {
   "cell_type": "code",
   "execution_count": 53,
   "id": "ed1eb10d",
   "metadata": {},
   "outputs": [
    {
     "data": {
      "text/plain": [
       "[1, 2, 3, [4, 5, 6]]"
      ]
     },
     "execution_count": 53,
     "metadata": {},
     "output_type": "execute_result"
    }
   ],
   "source": [
    "list_1"
   ]
  },
  {
   "cell_type": "code",
   "execution_count": 54,
   "id": "3e621864",
   "metadata": {},
   "outputs": [],
   "source": [
    "# this will add the elements to the list\n",
    "\n",
    "list_1.extend(list_2)"
   ]
  },
  {
   "cell_type": "code",
   "execution_count": 55,
   "id": "df49c029",
   "metadata": {},
   "outputs": [
    {
     "data": {
      "text/plain": [
       "[1, 2, 3, [4, 5, 6], 4, 5, 6]"
      ]
     },
     "execution_count": 55,
     "metadata": {},
     "output_type": "execute_result"
    }
   ],
   "source": [
    "list_1"
   ]
  },
  {
   "cell_type": "code",
   "execution_count": 56,
   "id": "9caa38e9",
   "metadata": {},
   "outputs": [],
   "source": [
    "list_1[1] = 737373"
   ]
  },
  {
   "cell_type": "code",
   "execution_count": 57,
   "id": "936429ac",
   "metadata": {},
   "outputs": [
    {
     "data": {
      "text/plain": [
       "[1, 737373, 3, [4, 5, 6], 4, 5, 6]"
      ]
     },
     "execution_count": 57,
     "metadata": {},
     "output_type": "execute_result"
    }
   ],
   "source": [
    "list_1"
   ]
  },
  {
   "cell_type": "code",
   "execution_count": 59,
   "id": "a4c4cdc0",
   "metadata": {},
   "outputs": [
    {
     "data": {
      "text/plain": [
       "['banana', 'apple']"
      ]
     },
     "execution_count": 59,
     "metadata": {},
     "output_type": "execute_result"
    }
   ],
   "source": [
    "fruit[::-1]"
   ]
  },
  {
   "cell_type": "code",
   "execution_count": 58,
   "id": "339bfc3e",
   "metadata": {},
   "outputs": [
    {
     "data": {
      "text/plain": [
       "['apple', 'banana']"
      ]
     },
     "execution_count": 58,
     "metadata": {},
     "output_type": "execute_result"
    }
   ],
   "source": [
    "fruit"
   ]
  },
  {
   "cell_type": "code",
   "execution_count": 31,
   "id": "705f0dcc",
   "metadata": {},
   "outputs": [
    {
     "data": {
      "text/plain": [
       "['hello', ' ', 'class']"
      ]
     },
     "execution_count": 31,
     "metadata": {},
     "output_type": "execute_result"
    }
   ],
   "source": [
    "my_list = [\"hello\", \" \", \"class\"]\n",
    "my_list"
   ]
  },
  {
   "cell_type": "code",
   "execution_count": 32,
   "id": "90fd6047",
   "metadata": {},
   "outputs": [
    {
     "data": {
      "text/plain": [
       "'hello class'"
      ]
     },
     "execution_count": 32,
     "metadata": {},
     "output_type": "execute_result"
    }
   ],
   "source": [
    "\"\".join(my_list)"
   ]
  },
  {
   "cell_type": "code",
   "execution_count": 41,
   "id": "38bc4e3f",
   "metadata": {},
   "outputs": [
    {
     "data": {
      "text/plain": [
       "'hello :D we :D are :D learning :D python'"
      ]
     },
     "execution_count": 41,
     "metadata": {},
     "output_type": "execute_result"
    }
   ],
   "source": [
    "my_list = [\"hello\", \"we\", \"are\", \"learning\", \"python\"]\n",
    "\" :D \".join(my_list)"
   ]
  },
  {
   "cell_type": "code",
   "execution_count": 48,
   "id": "aa31fc9e",
   "metadata": {},
   "outputs": [
    {
     "data": {
      "text/plain": [
       "[10, 20, 30, 40, 50]"
      ]
     },
     "execution_count": 48,
     "metadata": {},
     "output_type": "execute_result"
    }
   ],
   "source": [
    "# multiplies every item in list by 10\n",
    "num_list = [1, 2, 3, 4, 5]\n",
    "\n",
    "new_list = [10 *  j for j in num_list]\n",
    "new_list"
   ]
  },
  {
   "cell_type": "code",
   "execution_count": 74,
   "id": "83d2c01e",
   "metadata": {},
   "outputs": [
    {
     "data": {
      "text/plain": [
       "list"
      ]
     },
     "execution_count": 74,
     "metadata": {},
     "output_type": "execute_result"
    }
   ],
   "source": [
    "type(new_list)"
   ]
  },
  {
   "cell_type": "code",
   "execution_count": null,
   "id": "ab503f59",
   "metadata": {},
   "outputs": [],
   "source": []
  }
 ],
 "metadata": {
  "kernelspec": {
   "display_name": "Python 3 (ipykernel)",
   "language": "python",
   "name": "python3"
  },
  "language_info": {
   "codemirror_mode": {
    "name": "ipython",
    "version": 3
   },
   "file_extension": ".py",
   "mimetype": "text/x-python",
   "name": "python",
   "nbconvert_exporter": "python",
   "pygments_lexer": "ipython3",
   "version": "3.11.3"
  }
 },
 "nbformat": 4,
 "nbformat_minor": 5
}
