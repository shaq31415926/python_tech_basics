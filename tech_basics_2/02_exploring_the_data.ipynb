{
 "cells": [
  {
   "cell_type": "code",
   "execution_count": null,
   "metadata": {
    "colab": {
     "base_uri": "https://localhost:8080/"
    },
    "id": "LOl_KEwoyIWx",
    "outputId": "c361f5b5-c4e7-4875-820a-bb2265c1b00c"
   },
   "outputs": [
    {
     "name": "stdout",
     "output_type": "stream",
     "text": [
      "Mounted at /content/drive\n"
     ]
    }
   ],
   "source": [
    "# connect to google drive\n",
    "# follow the instructions\n",
    "\n",
    "from google.colab import drive\n",
    "drive.mount('/content/drive')"
   ]
  },
  {
   "cell_type": "code",
   "execution_count": null,
   "metadata": {
    "colab": {
     "base_uri": "https://localhost:8080/"
    },
    "id": "DBLX4_J4zn2T",
    "outputId": "4cf65d1c-70d7-4f7f-fe57-fd406a1bf89d"
   },
   "outputs": [
    {
     "name": "stdout",
     "output_type": "stream",
     "text": [
      "/content/drive/MyDrive/StartSteps/notebooks\n"
     ]
    }
   ],
   "source": [
    "# set file path, incase any issues \n",
    "\n",
    "%cd /content/drive/MyDrive/StartSteps/notebooks"
   ]
  },
  {
   "cell_type": "markdown",
   "metadata": {
    "id": "jv9VdIcG6QAN"
   },
   "source": [
    "**Goals**:\n",
    "* Explore the data\n",
    "* Visualize the data\n",
    "* Activity: What conclusions can we make from the data?\n",
    "\n",
    "\n",
    "\n",
    "Please try not to get overwhelmed by the code. It's there to help us slice and dice the data.\n"
   ]
  },
  {
   "cell_type": "code",
   "execution_count": null,
   "metadata": {
    "id": "z_PDakWbO3KE"
   },
   "outputs": [],
   "source": [
    "import pandas as pd\n",
    "import matplotlib.pyplot as plt\n",
    "import seaborn as sns"
   ]
  },
  {
   "cell_type": "code",
   "execution_count": null,
   "metadata": {
    "id": "dicpPSdiyI5i"
   },
   "outputs": [],
   "source": [
    "# import the libraries needed\n",
    "\n",
    "import pandas as pd\n",
    "import matplotlib.pyplot as plt\n",
    "import seaborn as sns\n"
   ]
  },
  {
   "cell_type": "code",
   "execution_count": null,
   "metadata": {
    "id": "MdOPZTqmyQGD"
   },
   "outputs": [],
   "source": [
    "# read the .pkl file\n",
    "\n",
    "online_retail_history = pd.read_pickle(\"../data/online_history_cleaned.pkl\")\n"
   ]
  },
  {
   "cell_type": "code",
   "execution_count": null,
   "metadata": {
    "id": "n7nKqC6RPK_J"
   },
   "outputs": [],
   "source": [
    "online_retail_history = pd.read_pickle(\"../data/online_history_cleaned.pkl\")"
   ]
  },
  {
   "cell_type": "code",
   "execution_count": null,
   "metadata": {
    "colab": {
     "base_uri": "https://localhost:8080/",
     "height": 204
    },
    "id": "ndHiE-cIylF1",
    "outputId": "79fecc93-b954-47ca-ddb3-601966758ed0"
   },
   "outputs": [
    {
     "data": {
      "text/html": [
       "<div>\n",
       "<style scoped>\n",
       "    .dataframe tbody tr th:only-of-type {\n",
       "        vertical-align: middle;\n",
       "    }\n",
       "\n",
       "    .dataframe tbody tr th {\n",
       "        vertical-align: top;\n",
       "    }\n",
       "\n",
       "    .dataframe thead th {\n",
       "        text-align: right;\n",
       "    }\n",
       "</style>\n",
       "<table border=\"1\" class=\"dataframe\">\n",
       "  <thead>\n",
       "    <tr style=\"text-align: right;\">\n",
       "      <th></th>\n",
       "      <th>Invoice</th>\n",
       "      <th>StockCode</th>\n",
       "      <th>Quantity</th>\n",
       "      <th>InvoiceDate</th>\n",
       "      <th>Price</th>\n",
       "      <th>CustomerID</th>\n",
       "      <th>Country</th>\n",
       "      <th>Description</th>\n",
       "    </tr>\n",
       "  </thead>\n",
       "  <tbody>\n",
       "    <tr>\n",
       "      <th>0</th>\n",
       "      <td>536365</td>\n",
       "      <td>85123A</td>\n",
       "      <td>6</td>\n",
       "      <td>2010-12-01 08:26:00</td>\n",
       "      <td>2.55</td>\n",
       "      <td>u1785</td>\n",
       "      <td>United Kingdom</td>\n",
       "      <td>CREAM HANGING HEART T-LIGHT HOLDER</td>\n",
       "    </tr>\n",
       "    <tr>\n",
       "      <th>1</th>\n",
       "      <td>536365</td>\n",
       "      <td>71053</td>\n",
       "      <td>6</td>\n",
       "      <td>2010-12-01 08:26:00</td>\n",
       "      <td>3.39</td>\n",
       "      <td>u1785</td>\n",
       "      <td>United Kingdom</td>\n",
       "      <td>WHITE MOROCCAN METAL LANTERN</td>\n",
       "    </tr>\n",
       "    <tr>\n",
       "      <th>2</th>\n",
       "      <td>536365</td>\n",
       "      <td>84406B</td>\n",
       "      <td>8</td>\n",
       "      <td>2010-12-01 08:26:00</td>\n",
       "      <td>2.75</td>\n",
       "      <td>u1785</td>\n",
       "      <td>United Kingdom</td>\n",
       "      <td>CREAM CUPID HEARTS COAT HANGER</td>\n",
       "    </tr>\n",
       "    <tr>\n",
       "      <th>3</th>\n",
       "      <td>536365</td>\n",
       "      <td>84029G</td>\n",
       "      <td>6</td>\n",
       "      <td>2010-12-01 08:26:00</td>\n",
       "      <td>3.39</td>\n",
       "      <td>u1785</td>\n",
       "      <td>United Kingdom</td>\n",
       "      <td>KNITTED UNION FLAG HOT WATER BOTTLE</td>\n",
       "    </tr>\n",
       "    <tr>\n",
       "      <th>4</th>\n",
       "      <td>536365</td>\n",
       "      <td>84029E</td>\n",
       "      <td>6</td>\n",
       "      <td>2010-12-01 08:26:00</td>\n",
       "      <td>3.39</td>\n",
       "      <td>u1785</td>\n",
       "      <td>United Kingdom</td>\n",
       "      <td>RED WOOLLY HOTTIE WHITE HEART.</td>\n",
       "    </tr>\n",
       "  </tbody>\n",
       "</table>\n",
       "</div>"
      ],
      "text/plain": [
       "  Invoice StockCode  ...         Country                          Description\n",
       "0  536365    85123A  ...  United Kingdom   CREAM HANGING HEART T-LIGHT HOLDER\n",
       "1  536365     71053  ...  United Kingdom         WHITE MOROCCAN METAL LANTERN\n",
       "2  536365    84406B  ...  United Kingdom       CREAM CUPID HEARTS COAT HANGER\n",
       "3  536365    84029G  ...  United Kingdom  KNITTED UNION FLAG HOT WATER BOTTLE\n",
       "4  536365    84029E  ...  United Kingdom       RED WOOLLY HOTTIE WHITE HEART.\n",
       "\n",
       "[5 rows x 8 columns]"
      ]
     },
     "execution_count": 19,
     "metadata": {
      "tags": []
     },
     "output_type": "execute_result"
    }
   ],
   "source": [
    "# preview the data\n",
    "\n",
    "online_retail_history.head()"
   ]
  },
  {
   "cell_type": "code",
   "execution_count": null,
   "metadata": {
    "colab": {
     "base_uri": "https://localhost:8080/"
    },
    "id": "18_dFtrT0Gdr",
    "outputId": "244add6b-63bf-4cb8-b7ff-7e8b221ee796"
   },
   "outputs": [
    {
     "data": {
      "text/plain": [
       "(397925, 8)"
      ]
     },
     "execution_count": 20,
     "metadata": {
      "tags": []
     },
     "output_type": "execute_result"
    }
   ],
   "source": [
    "# check shape of the data\n",
    "\n",
    "online_retail_history.shape\n",
    "\n",
    "# is this the same as the file we saved?"
   ]
  },
  {
   "cell_type": "code",
   "execution_count": null,
   "metadata": {
    "colab": {
     "base_uri": "https://localhost:8080/"
    },
    "id": "YKMc9f05QiJk",
    "outputId": "e882e688-a13c-4522-cbb4-b64b1956c3b1"
   },
   "outputs": [
    {
     "name": "stdout",
     "output_type": "stream",
     "text": [
      "Number of customers: 4339\n"
     ]
    }
   ],
   "source": [
    "print(\"Number of customers:\", len(online_retail_history.CustomerID.unique()))\n"
   ]
  },
  {
   "cell_type": "code",
   "execution_count": null,
   "metadata": {
    "colab": {
     "base_uri": "https://localhost:8080/"
    },
    "id": "200-7kOLRIVV",
    "outputId": "572f2343-71c5-43e3-f558-278adf13fa85"
   },
   "outputs": [
    {
     "data": {
      "text/plain": [
       "['CREAM HANGING HEART T-LIGHT HOLDER']"
      ]
     },
     "execution_count": 26,
     "metadata": {
      "tags": []
     },
     "output_type": "execute_result"
    }
   ],
   "source": [
    "# mostt popular item description\n",
    "\n",
    "list(online_retail_history[online_retail_history.StockCode == '85123A'].Description.unique())"
   ]
  },
  {
   "cell_type": "code",
   "execution_count": null,
   "metadata": {
    "colab": {
     "base_uri": "https://localhost:8080/"
    },
    "id": "dz_7kCTuRkIo",
    "outputId": "5b5333a9-617d-4e60-aed6-b38a34e9dab7"
   },
   "outputs": [
    {
     "name": "stdout",
     "output_type": "stream",
     "text": [
      "\n",
      " The most expensive purchase (pounds): 8142.75\n"
     ]
    }
   ],
   "source": [
    "print(\"\\n The most expensive stock (pounds):\", online_retail_history.Price.max())"
   ]
  },
  {
   "cell_type": "code",
   "execution_count": null,
   "metadata": {
    "colab": {
     "base_uri": "https://localhost:8080/"
    },
    "id": "8ZSk-zwfRv5Q",
    "outputId": "8679e7ea-0d61-40b3-e2d3-3ed5f50089d6"
   },
   "outputs": [
    {
     "name": "stdout",
     "output_type": "stream",
     "text": [
      "\n",
      " The least expensive stock (pounds): 0.0\n"
     ]
    }
   ],
   "source": [
    "print(\"\\n The least expensive stock (pounds):\", online_retail_history.Price.min())"
   ]
  },
  {
   "cell_type": "markdown",
   "metadata": {
    "id": "QlkMSHOR9AKn"
   },
   "source": [
    "### Exploring the data"
   ]
  },
  {
   "cell_type": "code",
   "execution_count": null,
   "metadata": {
    "colab": {
     "base_uri": "https://localhost:8080/"
    },
    "id": "spVyApGJcve_",
    "outputId": "a99098c7-57b8-45a2-b844-9dcd1acf0cc8"
   },
   "outputs": [
    {
     "name": "stdout",
     "output_type": "stream",
     "text": [
      "# of unique invoices: 18536\n",
      "# of unique Stock codes: 3665\n",
      "# of Customers: 4339\n",
      "# of Geographical Locations: 37\n",
      "\n",
      " The most expensive product Price: 8142.75\n",
      "The average price of a Product: 3.12\n",
      "# of Products sold: 5181697\n"
     ]
    }
   ],
   "source": [
    "# Let's start with some basic exploratory data analysis\n",
    "\n",
    "print(\"# of unique invoices:\", len(online_retail_history.Invoice.unique()))\n",
    "print(\"# of unique Stock codes:\", len(online_retail_history.StockCode.unique()))\n",
    "print(\"# of Customers:\", len(online_retail_history.CustomerID.unique()))\n",
    "print(\"# of Geographical Locations:\", len(online_retail_history.Country.unique()))\n",
    "\n",
    "print(\"\\n The most expensive product Price:\", online_retail_history.Price.max())\n",
    "print(\"The average price of a Product:\", round(online_retail_history.Price.mean(), 2))\n",
    "print(\"# of Products sold:\", online_retail_history.Quantity.sum())\n"
   ]
  },
  {
   "cell_type": "code",
   "execution_count": null,
   "metadata": {
    "colab": {
     "base_uri": "https://localhost:8080/",
     "height": 297
    },
    "id": "Fhmi8L3psKLw",
    "outputId": "a0083425-c01b-4edc-915f-0e8dd98dd93e"
   },
   "outputs": [
    {
     "data": {
      "text/html": [
       "<div>\n",
       "<style scoped>\n",
       "    .dataframe tbody tr th:only-of-type {\n",
       "        vertical-align: middle;\n",
       "    }\n",
       "\n",
       "    .dataframe tbody tr th {\n",
       "        vertical-align: top;\n",
       "    }\n",
       "\n",
       "    .dataframe thead th {\n",
       "        text-align: right;\n",
       "    }\n",
       "</style>\n",
       "<table border=\"1\" class=\"dataframe\">\n",
       "  <thead>\n",
       "    <tr style=\"text-align: right;\">\n",
       "      <th></th>\n",
       "      <th>Quantity</th>\n",
       "      <th>Price</th>\n",
       "    </tr>\n",
       "  </thead>\n",
       "  <tbody>\n",
       "    <tr>\n",
       "      <th>count</th>\n",
       "      <td>397925.000000</td>\n",
       "      <td>397925.000000</td>\n",
       "    </tr>\n",
       "    <tr>\n",
       "      <th>mean</th>\n",
       "      <td>13.021793</td>\n",
       "      <td>3.116212</td>\n",
       "    </tr>\n",
       "    <tr>\n",
       "      <th>std</th>\n",
       "      <td>180.419984</td>\n",
       "      <td>22.096773</td>\n",
       "    </tr>\n",
       "    <tr>\n",
       "      <th>min</th>\n",
       "      <td>1.000000</td>\n",
       "      <td>0.000000</td>\n",
       "    </tr>\n",
       "    <tr>\n",
       "      <th>25%</th>\n",
       "      <td>2.000000</td>\n",
       "      <td>1.250000</td>\n",
       "    </tr>\n",
       "    <tr>\n",
       "      <th>50%</th>\n",
       "      <td>6.000000</td>\n",
       "      <td>1.950000</td>\n",
       "    </tr>\n",
       "    <tr>\n",
       "      <th>75%</th>\n",
       "      <td>12.000000</td>\n",
       "      <td>3.750000</td>\n",
       "    </tr>\n",
       "    <tr>\n",
       "      <th>max</th>\n",
       "      <td>80995.000000</td>\n",
       "      <td>8142.750000</td>\n",
       "    </tr>\n",
       "  </tbody>\n",
       "</table>\n",
       "</div>"
      ],
      "text/plain": [
       "            Quantity          Price\n",
       "count  397925.000000  397925.000000\n",
       "mean       13.021793       3.116212\n",
       "std       180.419984      22.096773\n",
       "min         1.000000       0.000000\n",
       "25%         2.000000       1.250000\n",
       "50%         6.000000       1.950000\n",
       "75%        12.000000       3.750000\n",
       "max     80995.000000    8142.750000"
      ]
     },
     "execution_count": 31,
     "metadata": {
      "tags": []
     },
     "output_type": "execute_result"
    }
   ],
   "source": [
    "# Another handy way to look at numerical data, is to use the describe function\n",
    "\n",
    "online_retail_history.describe()"
   ]
  },
  {
   "cell_type": "code",
   "execution_count": null,
   "metadata": {
    "colab": {
     "base_uri": "https://localhost:8080/"
    },
    "id": "SpJ5YYGaT2PQ",
    "outputId": "447eceb0-f7a4-4d00-8429-a84949a191d6"
   },
   "outputs": [
    {
     "data": {
      "text/plain": [
       "United Kingdom          354345\n",
       "Germany                   9042\n",
       "France                    8343\n",
       "EIRE                      7238\n",
       "Spain                     2485\n",
       "Netherlands               2363\n",
       "Belgium                   2031\n",
       "Switzerland               1842\n",
       "Portugal                  1462\n",
       "Australia                 1185\n",
       "Norway                    1072\n",
       "Italy                      758\n",
       "Channel Islands            748\n",
       "Finland                    685\n",
       "Cyprus                     614\n",
       "Sweden                     451\n",
       "Austria                    398\n",
       "Denmark                    380\n",
       "Poland                     330\n",
       "Japan                      321\n",
       "Israel                     248\n",
       "Unspecified                244\n",
       "Singapore                  222\n",
       "Iceland                    182\n",
       "USA                        179\n",
       "Canada                     151\n",
       "Greece                     145\n",
       "Malta                      112\n",
       "United Arab Emirates        68\n",
       "European Community          60\n",
       "RSA                         58\n",
       "Lebanon                     45\n",
       "Lithuania                   35\n",
       "Brazil                      32\n",
       "Czech Republic              25\n",
       "Bahrain                     17\n",
       "Saudi Arabia                 9\n",
       "Name: Country, dtype: int64"
      ]
     },
     "execution_count": 32,
     "metadata": {
      "tags": []
     },
     "output_type": "execute_result"
    }
   ],
   "source": [
    "online_retail_history.Country.value_counts()"
   ]
  },
  {
   "cell_type": "code",
   "execution_count": null,
   "metadata": {
    "colab": {
     "base_uri": "https://localhost:8080/"
    },
    "id": "7l_I1LBi0U02",
    "outputId": "874fdf66-c5e7-4ec2-ef68-443f67cd46c0"
   },
   "outputs": [
    {
     "data": {
      "text/plain": [
       "United Kingdom          354345\n",
       "Germany                   9042\n",
       "France                    8343\n",
       "EIRE                      7238\n",
       "Spain                     2485\n",
       "Netherlands               2363\n",
       "Belgium                   2031\n",
       "Switzerland               1842\n",
       "Portugal                  1462\n",
       "Australia                 1185\n",
       "Norway                    1072\n",
       "Italy                      758\n",
       "Channel Islands            748\n",
       "Finland                    685\n",
       "Cyprus                     614\n",
       "Sweden                     451\n",
       "Austria                    398\n",
       "Denmark                    380\n",
       "Poland                     330\n",
       "Japan                      321\n",
       "Israel                     248\n",
       "Unspecified                244\n",
       "Singapore                  222\n",
       "Iceland                    182\n",
       "USA                        179\n",
       "Canada                     151\n",
       "Greece                     145\n",
       "Malta                      112\n",
       "United Arab Emirates        68\n",
       "European Community          60\n",
       "RSA                         58\n",
       "Lebanon                     45\n",
       "Lithuania                   35\n",
       "Brazil                      32\n",
       "Czech Republic              25\n",
       "Bahrain                     17\n",
       "Saudi Arabia                 9\n",
       "Name: Country, dtype: int64"
      ]
     },
     "execution_count": 214,
     "metadata": {
      "tags": []
     },
     "output_type": "execute_result"
    }
   ],
   "source": [
    "# Q1. What is the geographical distribution of orders (based on invoices)?\n",
    "# We could also do this in sql, but we let's use python for this task \n",
    "\n",
    "online_retail_history.Country.value_counts()"
   ]
  },
  {
   "cell_type": "code",
   "execution_count": null,
   "metadata": {
    "colab": {
     "base_uri": "https://localhost:8080/"
    },
    "id": "DIzTArmjURuv",
    "outputId": "5dc2a4ba-d074-41c4-eaeb-54ae0301a771"
   },
   "outputs": [
    {
     "data": {
      "text/plain": [
       "United Kingdom    354345\n",
       "Germany             9042\n",
       "France              8343\n",
       "EIRE                7238\n",
       "Spain               2485\n",
       "Netherlands         2363\n",
       "Belgium             2031\n",
       "Switzerland         1842\n",
       "Portugal            1462\n",
       "Australia           1185\n",
       "Name: Country, dtype: int64"
      ]
     },
     "execution_count": 33,
     "metadata": {
      "tags": []
     },
     "output_type": "execute_result"
    }
   ],
   "source": [
    "online_retail_history.Country.value_counts().nlargest(n = 10)"
   ]
  },
  {
   "cell_type": "code",
   "execution_count": null,
   "metadata": {
    "id": "IeVSnV_A0xQp"
   },
   "outputs": [],
   "source": [
    "# Q2. What are the top ten most popular geographical locations?\n",
    "\n",
    "online_retail_history.Country.value_counts().nlargest(n = 10);"
   ]
  },
  {
   "cell_type": "code",
   "execution_count": null,
   "metadata": {
    "colab": {
     "base_uri": "https://localhost:8080/",
     "height": 336
    },
    "id": "aahTgZMlUf4I",
    "outputId": "12732a25-008d-4c77-f3a2-5f28536897d2"
   },
   "outputs": [
    {
     "data": {
      "image/png": "[encoded data removed]",
      "text/plain": [
       "<Figure size 432x288 with 1 Axes>"
      ]
     },
     "metadata": {
      "tags": []
     },
     "output_type": "display_data"
    }
   ],
   "source": [
    "online_retail_history.Country.value_counts().nlargest(n = 10).plot(kind = 'bar');"
   ]
  },
  {
   "cell_type": "code",
   "execution_count": null,
   "metadata": {
    "colab": {
     "base_uri": "https://localhost:8080/",
     "height": 331
    },
    "id": "i5sP1rz_Ur0U",
    "outputId": "ba1ebeef-b33f-4ea5-a147-59d44ca6525e"
   },
   "outputs": [
    {
     "data": {
      "image/png": "[encoded data removed]",
      "text/plain": [
       "<Figure size 432x288 with 1 Axes>"
      ]
     },
     "metadata": {
      "tags": []
     },
     "output_type": "display_data"
    }
   ],
   "source": [
    "online_retail_history.Country.value_counts().nsmallest(n = 5).plot(kind = 'bar');"
   ]
  },
  {
   "cell_type": "code",
   "execution_count": null,
   "metadata": {
    "colab": {
     "base_uri": "https://localhost:8080/",
     "height": 336
    },
    "id": "XKq2rzDA4Y-P",
    "outputId": "0fc17ff3-1cfd-4363-c5e9-e4c1467df6dd"
   },
   "outputs": [
    {
     "data": {
      "image/png": "[encoded data removed]",
      "text/plain": [
       "<Figure size 432x288 with 1 Axes>"
      ]
     },
     "metadata": {
      "tags": []
     },
     "output_type": "display_data"
    }
   ],
   "source": [
    "# Q2.1 Plot the top ten most popular geographical locations?\n",
    "\n",
    "online_retail_history.Country.value_counts().nlargest(n = 10).plot(kind = 'bar');"
   ]
  },
  {
   "cell_type": "code",
   "execution_count": null,
   "metadata": {
    "colab": {
     "base_uri": "https://localhost:8080/",
     "height": 368
    },
    "id": "BA_W5xOm2WWF",
    "outputId": "27f91e42-7caa-485d-edfd-7021a322fa4a"
   },
   "outputs": [
    {
     "data": {
      "image/png": "[encoded data removed]",
      "text/plain": [
       "<Figure size 432x288 with 1 Axes>"
      ]
     },
     "metadata": {
      "tags": []
     },
     "output_type": "display_data"
    }
   ],
   "source": [
    "# Tidy up the plot\n",
    "\n",
    "online_retail_history.Country.value_counts().nlargest(n = 10).plot(kind = 'bar', color = 'green', alpha = 0.5)\n",
    "plt.title(\"Top 10 Geographical Locations\", size = 15)\n",
    "plt.xlabel(\"Country\")\n",
    "plt.ylabel(\"Number of invoices\")\n",
    "# plt.xticks(rotation = 90, size = 11)\n",
    "plt.show();"
   ]
  },
  {
   "cell_type": "code",
   "execution_count": null,
   "metadata": {
    "colab": {
     "base_uri": "https://localhost:8080/"
    },
    "id": "ONry4mpm1Ogs",
    "outputId": "71fae596-51d2-4b43-ffc6-31a7bad95827"
   },
   "outputs": [
    {
     "data": {
      "text/plain": [
       "Saudi Arabia              9\n",
       "Bahrain                  17\n",
       "Czech Republic           25\n",
       "Brazil                   32\n",
       "Lithuania                35\n",
       "Lebanon                  45\n",
       "RSA                      58\n",
       "European Community       60\n",
       "United Arab Emirates     68\n",
       "Malta                   112\n",
       "Name: Country, dtype: int64"
      ]
     },
     "execution_count": 218,
     "metadata": {
      "tags": []
     },
     "output_type": "execute_result"
    }
   ],
   "source": [
    "# Q3. What are the top ten least popular geographical locations?\n",
    "\n",
    "online_retail_history.Country.value_counts().nsmallest(n = 10)"
   ]
  },
  {
   "cell_type": "code",
   "execution_count": null,
   "metadata": {
    "colab": {
     "base_uri": "https://localhost:8080/",
     "height": 363
    },
    "id": "spNOwzja2lpW",
    "outputId": "3ef97113-8ba7-42cc-8d06-88ef08d39d05"
   },
   "outputs": [
    {
     "data": {
      "image/png": "[encoded data removed]",
      "text/plain": [
       "<Figure size 432x288 with 1 Axes>"
      ]
     },
     "metadata": {
      "tags": []
     },
     "output_type": "display_data"
    }
   ],
   "source": [
    "# Q3.1 Visualize the top 10 least popular geographical locations\n",
    "\n",
    "online_retail_history.Country.value_counts().nsmallest(n = 10).plot(kind = 'bar');"
   ]
  },
  {
   "cell_type": "code",
   "execution_count": null,
   "metadata": {
    "colab": {
     "base_uri": "https://localhost:8080/"
    },
    "id": "Nas23kIf2Km5",
    "outputId": "1b0c0e3d-6a80-47c6-fed9-7f584d93afb4"
   },
   "outputs": [
    {
     "data": {
      "text/plain": [
       "Country\n",
       "United Kingdom          4269472\n",
       "Netherlands              200937\n",
       "EIRE                     140525\n",
       "Germany                  119263\n",
       "France                   111473\n",
       "Australia                 84209\n",
       "Sweden                    36083\n",
       "Switzerland               30083\n",
       "Spain                     27951\n",
       "Japan                     26016\n",
       "Belgium                   23237\n",
       "Norway                    19338\n",
       "Portugal                  16122\n",
       "Finland                   10704\n",
       "Channel Islands            9491\n",
       "Denmark                    8235\n",
       "Italy                      8112\n",
       "Cyprus                     6361\n",
       "Singapore                  5241\n",
       "Austria                    4881\n",
       "Israel                     4046\n",
       "Poland                     3684\n",
       "Canada                     2763\n",
       "Iceland                    2458\n",
       "USA                        2458\n",
       "Unspecified                1789\n",
       "Greece                     1557\n",
       "United Arab Emirates        982\n",
       "Malta                       970\n",
       "Czech Republic              671\n",
       "Lithuania                   652\n",
       "European Community          499\n",
       "Lebanon                     386\n",
       "Brazil                      356\n",
       "RSA                         352\n",
       "Bahrain                     260\n",
       "Saudi Arabia                 80\n",
       "Name: Quantity, dtype: int64"
      ]
     },
     "execution_count": 220,
     "metadata": {
      "tags": []
     },
     "output_type": "execute_result"
    }
   ],
   "source": [
    "# Q4. What is the distribution of total quantity of stock by country?\n",
    "# Is it the same as the number of invoice?\n",
    "\n",
    "online_retail_history.groupby(\"Country\").sum()[\"Quantity\"].sort_values(ascending = False)"
   ]
  },
  {
   "cell_type": "code",
   "execution_count": null,
   "metadata": {
    "colab": {
     "base_uri": "https://localhost:8080/"
    },
    "id": "ac52vD4Z2250",
    "outputId": "0b1d5078-63d3-4c74-aae1-d7f5001c45ac"
   },
   "outputs": [
    {
     "data": {
      "text/plain": [
       "Country\n",
       "United Kingdom    4269472\n",
       "Netherlands        200937\n",
       "EIRE               140525\n",
       "Germany            119263\n",
       "France             111473\n",
       "Australia           84209\n",
       "Sweden              36083\n",
       "Switzerland         30083\n",
       "Spain               27951\n",
       "Japan               26016\n",
       "Name: Quantity, dtype: int64"
      ]
     },
     "execution_count": 221,
     "metadata": {
      "tags": []
     },
     "output_type": "execute_result"
    }
   ],
   "source": [
    "# Q4.1 Top 10 Countries by Quantity\n",
    "\n",
    "online_retail_history.groupby(\"Country\").sum()[\"Quantity\"].sort_values(ascending = False).head(n = 10)"
   ]
  },
  {
   "cell_type": "code",
   "execution_count": null,
   "metadata": {
    "colab": {
     "base_uri": "https://localhost:8080/",
     "height": 361
    },
    "id": "nVgwg-Ff3zxY",
    "outputId": "396a2011-6a0f-4a14-a919-6c04256825f1"
   },
   "outputs": [
    {
     "data": {
      "image/png": "[encoded data removed]",
      "text/plain": [
       "<Figure size 432x288 with 1 Axes>"
      ]
     },
     "metadata": {
      "tags": []
     },
     "output_type": "display_data"
    }
   ],
   "source": [
    "# Visualizing the top 10 Countries by Quantity\n",
    "\n",
    "online_retail_history.groupby(\"Country\").sum()[\"Quantity\"].sort_values(ascending = False).head(n = 10).plot(kind = 'bar');"
   ]
  },
  {
   "cell_type": "code",
   "execution_count": null,
   "metadata": {
    "colab": {
     "base_uri": "https://localhost:8080/",
     "height": 377
    },
    "id": "nF7W-2Jm3jLr",
    "outputId": "74e0cce0-8eb7-4eec-ba16-83a6b046965d"
   },
   "outputs": [
    {
     "data": {
      "image/png": "[encoded data removed]",
      "text/plain": [
       "<Figure size 432x288 with 1 Axes>"
      ]
     },
     "metadata": {
      "tags": []
     },
     "output_type": "display_data"
    }
   ],
   "source": [
    "# Q4.2  Visualizing the lowest 10 Countries by Quantity\n",
    "\n",
    "online_retail_history.groupby(\"Country\").sum()[\"Quantity\"].sort_values(ascending = False).tail(n = 10).plot(kind = 'bar');"
   ]
  },
  {
   "cell_type": "code",
   "execution_count": null,
   "metadata": {
    "colab": {
     "base_uri": "https://localhost:8080/"
    },
    "id": "_tSh4AMfWuA1",
    "outputId": "10be9ac8-b5c1-4cfb-b6fb-a5edceb55b27"
   },
   "outputs": [
    {
     "data": {
      "text/plain": [
       "Country\n",
       "Singapore               58.333288\n",
       "Canada                   6.030331\n",
       "Portugal                 5.925472\n",
       "Cyprus                   5.710391\n",
       "Lebanon                  5.387556\n",
       "Finland                  5.296993\n",
       "Norway                   5.282155\n",
       "Malta                    4.867768\n",
       "European Community       4.830000\n",
       "Italy                    4.717955\n",
       "Bahrain                  4.644118\n",
       "Greece                   4.574414\n",
       "Channel Islands          4.531618\n",
       "Brazil                   4.456250\n",
       "EIRE                     4.445880\n",
       "France                   4.416881\n",
       "RSA                      4.277586\n",
       "Austria                  4.256030\n",
       "Poland                   4.173364\n",
       "Spain                    3.824684\n",
       "Sweden                   3.760067\n",
       "Germany                  3.708487\n",
       "Israel                   3.646935\n",
       "Belgium                  3.630158\n",
       "Switzerland              3.468659\n",
       "United Arab Emirates     3.380735\n",
       "Unspecified              3.200820\n",
       "Denmark                  3.146184\n",
       "Czech Republic           3.130800\n",
       "Australia                3.048523\n",
       "United Kingdom           2.963793\n",
       "Lithuania                2.841143\n",
       "Iceland                  2.644011\n",
       "Netherlands              2.643982\n",
       "Saudi Arabia             2.351111\n",
       "USA                      2.308939\n",
       "Japan                    2.047383\n",
       "Name: Price, dtype: float64"
      ]
     },
     "execution_count": 44,
     "metadata": {
      "tags": []
     },
     "output_type": "execute_result"
    }
   ],
   "source": [
    "online_retail_history.groupby(\"Country\").mean()['Price'].sort_values(ascending = False)"
   ]
  },
  {
   "cell_type": "code",
   "execution_count": null,
   "metadata": {
    "colab": {
     "base_uri": "https://localhost:8080/"
    },
    "id": "9gtUAqVh6eic",
    "outputId": "d2836e28-bbf0-42b5-ae32-f7bf29dfb72a"
   },
   "outputs": [
    {
     "data": {
      "text/plain": [
       "Country\n",
       "Singapore               58.333288\n",
       "Canada                   6.030331\n",
       "Portugal                 5.925472\n",
       "Cyprus                   5.710391\n",
       "Lebanon                  5.387556\n",
       "Finland                  5.296993\n",
       "Norway                   5.282155\n",
       "Malta                    4.867768\n",
       "European Community       4.830000\n",
       "Italy                    4.717955\n",
       "Bahrain                  4.644118\n",
       "Greece                   4.574414\n",
       "Channel Islands          4.531618\n",
       "Brazil                   4.456250\n",
       "EIRE                     4.445880\n",
       "France                   4.416881\n",
       "RSA                      4.277586\n",
       "Austria                  4.256030\n",
       "Poland                   4.173364\n",
       "Spain                    3.824684\n",
       "Sweden                   3.760067\n",
       "Germany                  3.708487\n",
       "Israel                   3.646935\n",
       "Belgium                  3.630158\n",
       "Switzerland              3.468659\n",
       "United Arab Emirates     3.380735\n",
       "Unspecified              3.200820\n",
       "Denmark                  3.146184\n",
       "Czech Republic           3.130800\n",
       "Australia                3.048523\n",
       "United Kingdom           2.963793\n",
       "Lithuania                2.841143\n",
       "Iceland                  2.644011\n",
       "Netherlands              2.643982\n",
       "Saudi Arabia             2.351111\n",
       "USA                      2.308939\n",
       "Japan                    2.047383\n",
       "Name: Price, dtype: float64"
      ]
     },
     "execution_count": 224,
     "metadata": {
      "tags": []
     },
     "output_type": "execute_result"
    }
   ],
   "source": [
    "# Q5. What is average price of Stock by country?\n",
    "\n",
    "online_retail_history.groupby(\"Country\").mean()[\"Price\"].sort_values(ascending = False)"
   ]
  },
  {
   "cell_type": "code",
   "execution_count": null,
   "metadata": {
    "colab": {
     "base_uri": "https://localhost:8080/",
     "height": 377
    },
    "id": "PJ1jy6s-8NV3",
    "outputId": "7fbbd73a-a745-4fb4-ae14-0ee185458ddf"
   },
   "outputs": [
    {
     "data": {
      "image/png": "[encoded data removed]",
      "text/plain": [
       "<Figure size 432x288 with 1 Axes>"
      ]
     },
     "metadata": {
      "tags": []
     },
     "output_type": "display_data"
    }
   ],
   "source": [
    "# Q6. Visualize the top 10 Countries by average price?\n",
    "\n",
    "online_retail_history.groupby(\"Country\").mean()[\"Price\"].sort_values(ascending = False).head(n = 10).plot(kind = 'bar');\n",
    "\n",
    "# Discussion: Why is Singapore so much more expensive than other countries?\n",
    "# Is this a data error? Is there an issue with the currency?"
   ]
  },
  {
   "cell_type": "code",
   "execution_count": null,
   "metadata": {
    "colab": {
     "base_uri": "https://localhost:8080/",
     "height": 279
    },
    "id": "8QzHM9HVXgil",
    "outputId": "ee3eee94-3149-4f1b-c379-0b9b8ba3b671"
   },
   "outputs": [
    {
     "data": {
      "image/png": "[encoded data removed]",
      "text/plain": [
       "<Figure size 432x288 with 1 Axes>"
      ]
     },
     "metadata": {
      "tags": []
     },
     "output_type": "display_data"
    }
   ],
   "source": [
    "singapore_data = online_retail_history[online_retail_history.Country == 'Singapore']\n",
    "sns.boxplot(x = singapore_data['Price']);"
   ]
  },
  {
   "cell_type": "code",
   "execution_count": null,
   "metadata": {
    "colab": {
     "base_uri": "https://localhost:8080/",
     "height": 279
    },
    "id": "-xxWS6-IX2ID",
    "outputId": "ce5d80d3-6e7a-4ee4-ae03-3e26ef157524"
   },
   "outputs": [
    {
     "data": {
      "image/png": "[encoded data removed]",
      "text/plain": [
       "<Figure size 432x288 with 1 Axes>"
      ]
     },
     "metadata": {
      "tags": []
     },
     "output_type": "display_data"
    }
   ],
   "source": [
    "sns.violinplot(x = singapore_data['Price']);"
   ]
  },
  {
   "cell_type": "code",
   "execution_count": null,
   "metadata": {
    "colab": {
     "base_uri": "https://localhost:8080/"
    },
    "id": "T7SEVnDPYEIB",
    "outputId": "03ccb04d-0c3d-49bb-fc01-5857f7c40630"
   },
   "outputs": [
    {
     "data": {
      "text/plain": [
       "count     222.000000\n",
       "mean       58.333288\n",
       "std       373.926856\n",
       "min         0.190000\n",
       "25%         1.250000\n",
       "50%         2.100000\n",
       "75%         4.150000\n",
       "max      3949.320000\n",
       "Name: Price, dtype: float64"
      ]
     },
     "execution_count": 50,
     "metadata": {
      "tags": []
     },
     "output_type": "execute_result"
    }
   ],
   "source": [
    "singapore_data['Price'].describe()"
   ]
  },
  {
   "cell_type": "code",
   "execution_count": null,
   "metadata": {
    "colab": {
     "base_uri": "https://localhost:8080/",
     "height": 279
    },
    "id": "8jkxD-GG-uqD",
    "outputId": "a6f6b094-d9cc-4f5a-ce58-6ec462eb3d9d"
   },
   "outputs": [
    {
     "data": {
      "image/png": "[encoded data removed]",
      "text/plain": [
       "<Figure size 432x288 with 1 Axes>"
      ]
     },
     "metadata": {
      "tags": []
     },
     "output_type": "display_data"
    }
   ],
   "source": [
    "# Q7. Go deeper into the data; what is the distribution of the Price in Singapore?\n",
    "# I am sure we are all getting bored of plotting bar charts by this point\n",
    "\n",
    "# Option 1: Using a Violinplot. Violin plots are great ways of summarizing the distribution of the data - we can see the range of the data \n",
    "# and where the majority values lie.\n",
    "\n",
    "sns.violinplot(x = online_retail_history[online_retail_history.Country == 'Singapore']['Price']);"
   ]
  },
  {
   "cell_type": "code",
   "execution_count": null,
   "metadata": {
    "colab": {
     "base_uri": "https://localhost:8080/"
    },
    "id": "qiEjAyXn_MD8",
    "outputId": "bb0a4a7e-dc2a-4f61-9300-2f04e7383413"
   },
   "outputs": [
    {
     "data": {
      "text/plain": [
       "count     222.000000\n",
       "mean       58.333288\n",
       "std       373.926856\n",
       "min         0.190000\n",
       "25%         1.250000\n",
       "50%         2.100000\n",
       "75%         4.150000\n",
       "max      3949.320000\n",
       "Name: Price, dtype: float64"
      ]
     },
     "execution_count": 227,
     "metadata": {
      "tags": []
     },
     "output_type": "execute_result"
    }
   ],
   "source": [
    "# Option 2: Use the describe function. Sometime easier to read than a plot. \n",
    "# Compre mean and median.\n",
    "\n",
    "online_retail_history[online_retail_history.Country == 'Singapore']['Price'].describe()\n",
    "\n",
    "# Question: How is this comparable to other countries?"
   ]
  },
  {
   "cell_type": "code",
   "execution_count": null,
   "metadata": {
    "colab": {
     "base_uri": "https://localhost:8080/"
    },
    "id": "e8QYIN5j8ojo",
    "outputId": "a12136bd-237e-4726-c7f1-69890a034a30"
   },
   "outputs": [
    {
     "data": {
      "image/png": "[encoded data removed]",
      "text/plain": [
       "<Figure size 1296x1440 with 40 Axes>"
      ]
     },
     "metadata": {
      "tags": []
     },
     "output_type": "display_data"
    }
   ],
   "source": [
    "# Q8. What is the distribution of Price per country?\n",
    "\n",
    "# Don't be afraid by the code, easy way of looking at all the countries in \n",
    "\n",
    "countries = online_retail_history[\"Country\"].unique() # extracting unique country names\n",
    "\n",
    "# plotting the violin plot for the data\n",
    "fig, ax = plt.subplots(10, 4, figsize=(18,20))\n",
    "axes_ = [axes_row for axes in ax for axes_row in axes]\n",
    "\n",
    "for i, c in enumerate(countries):\n",
    "    sns.violinplot(x = \"Price\", data = online_retail_history[online_retail_history[\"Country\"] == c], ax = axes_[i], inner = \"point\", palette = \"pastel\")\n",
    "    axes_[i].set_title(c + ' ' + \"Price Distribution\")\n",
    "    plt.tight_layout()"
   ]
  },
  {
   "cell_type": "code",
   "execution_count": null,
   "metadata": {
    "colab": {
     "base_uri": "https://localhost:8080/"
    },
    "id": "PVCUmAm-_zgR",
    "outputId": "1c79ad37-6e48-45fd-8ffe-0427a21ec507"
   },
   "outputs": [
    {
     "data": {
      "text/plain": [
       "count    354345.000000\n",
       "mean          2.963793\n",
       "std          17.862067\n",
       "min           0.000000\n",
       "25%           1.250000\n",
       "50%           1.950000\n",
       "75%           3.750000\n",
       "max        8142.750000\n",
       "Name: Price, dtype: float64"
      ]
     },
     "execution_count": 229,
     "metadata": {
      "tags": []
     },
     "output_type": "execute_result"
    }
   ],
   "source": [
    "# check the distribution of UK - 360k invoices vs 210 invoices. \n",
    "# The average price for Singapore is influenced by extreme values.\n",
    "\n",
    "online_retail_history[online_retail_history.Country == 'United Kingdom']['Price'].describe()\n",
    "\n",
    "# Question: What would be a better way to calculate average price?"
   ]
  },
  {
   "cell_type": "markdown",
   "metadata": {
    "id": "SFIOKnL8BISB"
   },
   "source": [
    "Observations:\n",
    "* UK has the highest prices, why is the average so low?\n",
    "\n",
    "* We also spot there's a country called Unspecified.\n",
    "\n",
    "* Anything else?"
   ]
  },
  {
   "cell_type": "code",
   "execution_count": null,
   "metadata": {
    "colab": {
     "base_uri": "https://localhost:8080/"
    },
    "id": "DzxNErPHBhct",
    "outputId": "06d665c9-a2c1-4a09-8cb6-d56f15f46c4f"
   },
   "outputs": [
    {
     "data": {
      "text/plain": [
       "244"
      ]
     },
     "execution_count": 230,
     "metadata": {
      "tags": []
     },
     "output_type": "execute_result"
    }
   ],
   "source": [
    "# how many Unspecied countries do we have?\n",
    "\n",
    "online_retail_history[online_retail_history.Country == 'Unspecified'].shape[0]"
   ]
  },
  {
   "cell_type": "code",
   "execution_count": null,
   "metadata": {
    "colab": {
     "base_uri": "https://localhost:8080/"
    },
    "id": "zovMQ1c9B42W",
    "outputId": "bd2a0203-4dda-4e67-f779-8cb18b50a5ae"
   },
   "outputs": [
    {
     "data": {
      "text/plain": [
       "Description\n",
       " 4 PURPLE FLOCK DINNER CANDLES       2.324359\n",
       " DOLLY GIRL BEAKER                   1.243841\n",
       " I LOVE LONDON MINI RUCKSACK         4.138732\n",
       " NINE DRAWER OFFICE TIDY            14.791935\n",
       " OVAL WALL MIRROR DIAMANTE           9.684167\n",
       "                                      ...    \n",
       "ZINC T-LIGHT HOLDER STARS SMALL      0.836975\n",
       "ZINC TOP  2 DOOR WOODEN SHELF       16.950000\n",
       "ZINC WILLIE WINKIE  CANDLE STICK     0.872344\n",
       "ZINC WIRE KITCHEN ORGANISER          7.175000\n",
       "ZINC WIRE SWEETHEART LETTER TRAY     3.454000\n",
       "Name: Price, Length: 3628, dtype: float64"
      ]
     },
     "execution_count": 231,
     "metadata": {
      "tags": []
     },
     "output_type": "execute_result"
    }
   ],
   "source": [
    "# Q9. What are the Top 15 Invoices with average prices sorted from high to low\n",
    "\n",
    "online_retail_history.groupby(\"Description\").mean()['Price']"
   ]
  },
  {
   "cell_type": "code",
   "execution_count": null,
   "metadata": {
    "colab": {
     "base_uri": "https://localhost:8080/"
    },
    "id": "ns8PLjGOGghw",
    "outputId": "3bdf1cbd-b80f-4122-8990-d5b25abe5c94"
   },
   "outputs": [
    {
     "data": {
      "text/plain": [
       "Description\n",
       "DOTCOM POSTAGE                        744.147500\n",
       "RUSTIC  SEVENTEEN DRAWER SIDEBOARD    158.076923\n",
       "REGENCY MIRROR WITH SHUTTERS          156.428571\n",
       "VINTAGE BLUE KITCHEN CABINET          146.750000\n",
       "VINTAGE RED KITCHEN CABINET           143.421053\n",
       "CHEST NATURAL WOOD 20 DRAWERS         118.076923\n",
       "LOVE SEAT ANTIQUE WHITE METAL         114.024390\n",
       "VINTAGE POST OFFICE CABINET            66.360000\n",
       "SCHOOL DESK AND CHAIR                  63.915385\n",
       "DECORATIVE HANGING SHELVING UNIT       59.950000\n",
       "CARRIAGE                               50.135338\n",
       "BLUE PAINTED KASHMIRI CHAIR            49.950000\n",
       "HALL CABINET WITH 3 DRAWERS            45.635000\n",
       "CINDERELLA CHANDELIER                  43.011364\n",
       "PINK PAINTED KASHMIRI CHAIR            42.950000\n",
       "Name: Price, dtype: float64"
      ]
     },
     "execution_count": 232,
     "metadata": {
      "tags": []
     },
     "output_type": "execute_result"
    }
   ],
   "source": [
    "online_retail_history.groupby(\"Description\").mean().sort_values(by = \"Price\", ascending = False).head(15)['Price']"
   ]
  },
  {
   "cell_type": "code",
   "execution_count": null,
   "metadata": {
    "colab": {
     "base_uri": "https://localhost:8080/"
    },
    "id": "xLL08UoIbV52",
    "outputId": "3de88076-5bf8-4ebc-a8d5-f289b584a017"
   },
   "outputs": [
    {
     "data": {
      "text/plain": [
       "CREAM HANGING HEART T-LIGHT HOLDER    2035\n",
       "REGENCY CAKESTAND 3 TIER              1724\n",
       "JUMBO BAG RED RETROSPOT               1618\n",
       "Unknown Stock                         1457\n",
       "ASSORTED COLOUR BIRD ORNAMENT         1408\n",
       "                                      ... \n",
       "PINK CHRISTMAS FLOCK DROPLET             1\n",
       "AMBER GLASS/SHELL/PEARL NECKLACE         1\n",
       "WHITE ANEMONE ARTIFICIAL FLOWER          1\n",
       "PINK DAISY BAG CHARM                     1\n",
       "FUNKY MONKEY MUG                         1\n",
       "Name: Description, Length: 3628, dtype: int64"
      ]
     },
     "execution_count": 51,
     "metadata": {
      "tags": []
     },
     "output_type": "execute_result"
    }
   ],
   "source": [
    "online_retail_history.Description.value_counts()"
   ]
  },
  {
   "cell_type": "code",
   "execution_count": null,
   "metadata": {
    "colab": {
     "base_uri": "https://localhost:8080/"
    },
    "id": "s54nE2kqbj9d",
    "outputId": "cc79fdeb-3cf3-4cdc-8885-07ec2c465702"
   },
   "outputs": [
    {
     "data": {
      "text/plain": [
       "Description\n",
       "PAPER CRAFT , LITTLE BIRDIE          80995\n",
       "MEDIUM CERAMIC TOP STORAGE JAR       77916\n",
       "WORLD WAR 2 GLIDERS ASSTD DESIGNS    54415\n",
       "POPCORN HOLDER                       49183\n",
       "JUMBO BAG RED RETROSPOT              46181\n",
       "                                     ...  \n",
       "PURPLE CHUNKY GLASS+BEAD NECKLACE        1\n",
       "CRACKED GLAZE EARRINGS BROWN             1\n",
       "CAPIZ CHANDELIER                         1\n",
       "POTTING SHED SOW 'N' GROW SET            1\n",
       "BLACK DROP EARRINGS W LONG BEADS         1\n",
       "Name: Quantity, Length: 3628, dtype: int64"
      ]
     },
     "execution_count": 54,
     "metadata": {
      "tags": []
     },
     "output_type": "execute_result"
    }
   ],
   "source": [
    "online_retail_history.groupby(\"Description\").sum()['Quantity'].sort_values(ascending = False)"
   ]
  },
  {
   "cell_type": "code",
   "execution_count": null,
   "metadata": {
    "colab": {
     "base_uri": "https://localhost:8080/"
    },
    "id": "A5C3LQ_LEGNf",
    "outputId": "73853519-be3c-4537-8b09-975b5da02c0e"
   },
   "outputs": [
    {
     "data": {
      "text/plain": [
       "Description\n",
       " 4 PURPLE FLOCK DINNER CANDLES       140\n",
       " DOLLY GIRL BEAKER                  2398\n",
       " I LOVE LONDON MINI RUCKSACK         361\n",
       " NINE DRAWER OFFICE TIDY              55\n",
       " OVAL WALL MIRROR DIAMANTE           122\n",
       "                                    ... \n",
       "ZINC T-LIGHT HOLDER STARS SMALL     4894\n",
       "ZINC TOP  2 DOOR WOODEN SHELF         10\n",
       "ZINC WILLIE WINKIE  CANDLE STICK    2607\n",
       "ZINC WIRE KITCHEN ORGANISER           25\n",
       "ZINC WIRE SWEETHEART LETTER TRAY      80\n",
       "Name: Quantity, Length: 3628, dtype: int64"
      ]
     },
     "execution_count": 233,
     "metadata": {
      "tags": []
     },
     "output_type": "execute_result"
    }
   ],
   "source": [
    "# Q10. What is the most popular product that has been purchased so far?\n",
    "\n",
    "online_retail_history.groupby(\"Description\").sum()['Quantity']"
   ]
  },
  {
   "cell_type": "code",
   "execution_count": null,
   "metadata": {
    "colab": {
     "base_uri": "https://localhost:8080/"
    },
    "id": "KkUp1BvjE0oW",
    "outputId": "3d7992b2-afdc-43dc-be6f-16e498e04e7e"
   },
   "outputs": [
    {
     "data": {
      "image/png": "[encoded data removed]",
      "text/plain": [
       "<Figure size 432x288 with 1 Axes>"
      ]
     },
     "metadata": {
      "tags": []
     },
     "output_type": "display_data"
    }
   ],
   "source": [
    "online_retail_history.groupby(\"Description\").sum().sort_values(by = \"Quantity\", ascending = False).head(10)[\"Quantity\"].plot(kind = \"bar\", color = 'mediumseagreen')\n",
    "plt.xticks(size = 8)\n",
    "plt.ylabel(\"Quantity\");"
   ]
  },
  {
   "cell_type": "code",
   "execution_count": null,
   "metadata": {
    "colab": {
     "base_uri": "https://localhost:8080/",
     "height": 1000
    },
    "id": "yu8c-dYLqKbv",
    "outputId": "2e2cd024-26b6-4a4d-dd76-28736a20bf11"
   },
   "outputs": [
    {
     "data": {
      "text/html": [
       "<div>\n",
       "<style scoped>\n",
       "    .dataframe tbody tr th:only-of-type {\n",
       "        vertical-align: middle;\n",
       "    }\n",
       "\n",
       "    .dataframe tbody tr th {\n",
       "        vertical-align: top;\n",
       "    }\n",
       "\n",
       "    .dataframe thead th {\n",
       "        text-align: right;\n",
       "    }\n",
       "</style>\n",
       "<table border=\"1\" class=\"dataframe\">\n",
       "  <thead>\n",
       "    <tr style=\"text-align: right;\">\n",
       "      <th></th>\n",
       "      <th>Invoice</th>\n",
       "      <th>StockCode</th>\n",
       "      <th>Quantity</th>\n",
       "      <th>InvoiceDate</th>\n",
       "      <th>Price</th>\n",
       "      <th>CustomerID</th>\n",
       "      <th>Country</th>\n",
       "      <th>Description</th>\n",
       "      <th>Day</th>\n",
       "      <th>DayOfWeek</th>\n",
       "      <th>Year</th>\n",
       "      <th>Month</th>\n",
       "    </tr>\n",
       "  </thead>\n",
       "  <tbody>\n",
       "    <tr>\n",
       "      <th>19775</th>\n",
       "      <td>538009</td>\n",
       "      <td>22197</td>\n",
       "      <td>36</td>\n",
       "      <td>2010-12-09 12:17:00</td>\n",
       "      <td>0.85</td>\n",
       "      <td>u14911</td>\n",
       "      <td>EIRE</td>\n",
       "      <td>POPCORN HOLDER</td>\n",
       "      <td>9</td>\n",
       "      <td>Thursday</td>\n",
       "      <td>2010</td>\n",
       "      <td>12</td>\n",
       "    </tr>\n",
       "    <tr>\n",
       "      <th>39297</th>\n",
       "      <td>539722</td>\n",
       "      <td>22197</td>\n",
       "      <td>24</td>\n",
       "      <td>2010-12-21 13:45:00</td>\n",
       "      <td>0.85</td>\n",
       "      <td>u14911</td>\n",
       "      <td>EIRE</td>\n",
       "      <td>POPCORN HOLDER</td>\n",
       "      <td>21</td>\n",
       "      <td>Tuesday</td>\n",
       "      <td>2010</td>\n",
       "      <td>12</td>\n",
       "    </tr>\n",
       "    <tr>\n",
       "      <th>96894</th>\n",
       "      <td>544690</td>\n",
       "      <td>22197</td>\n",
       "      <td>400</td>\n",
       "      <td>2011-02-23 08:48:00</td>\n",
       "      <td>0.72</td>\n",
       "      <td>u14156</td>\n",
       "      <td>EIRE</td>\n",
       "      <td>POPCORN HOLDER</td>\n",
       "      <td>23</td>\n",
       "      <td>Wednesday</td>\n",
       "      <td>2011</td>\n",
       "      <td>2</td>\n",
       "    </tr>\n",
       "    <tr>\n",
       "      <th>107442</th>\n",
       "      <td>545657</td>\n",
       "      <td>22197</td>\n",
       "      <td>12</td>\n",
       "      <td>2011-03-04 14:02:00</td>\n",
       "      <td>0.85</td>\n",
       "      <td>u14911</td>\n",
       "      <td>EIRE</td>\n",
       "      <td>POPCORN HOLDER</td>\n",
       "      <td>4</td>\n",
       "      <td>Friday</td>\n",
       "      <td>2011</td>\n",
       "      <td>3</td>\n",
       "    </tr>\n",
       "    <tr>\n",
       "      <th>116587</th>\n",
       "      <td>546520</td>\n",
       "      <td>22197</td>\n",
       "      <td>100</td>\n",
       "      <td>2011-03-14 12:28:00</td>\n",
       "      <td>0.72</td>\n",
       "      <td>u14911</td>\n",
       "      <td>EIRE</td>\n",
       "      <td>POPCORN HOLDER</td>\n",
       "      <td>14</td>\n",
       "      <td>Monday</td>\n",
       "      <td>2011</td>\n",
       "      <td>3</td>\n",
       "    </tr>\n",
       "    <tr>\n",
       "      <th>130947</th>\n",
       "      <td>547789</td>\n",
       "      <td>22197</td>\n",
       "      <td>12</td>\n",
       "      <td>2011-03-25 12:04:00</td>\n",
       "      <td>0.85</td>\n",
       "      <td>u14911</td>\n",
       "      <td>EIRE</td>\n",
       "      <td>POPCORN HOLDER</td>\n",
       "      <td>25</td>\n",
       "      <td>Friday</td>\n",
       "      <td>2011</td>\n",
       "      <td>3</td>\n",
       "    </tr>\n",
       "    <tr>\n",
       "      <th>140086</th>\n",
       "      <td>548664</td>\n",
       "      <td>22197</td>\n",
       "      <td>12</td>\n",
       "      <td>2011-04-01 14:45:00</td>\n",
       "      <td>0.85</td>\n",
       "      <td>u14911</td>\n",
       "      <td>EIRE</td>\n",
       "      <td>POPCORN HOLDER</td>\n",
       "      <td>1</td>\n",
       "      <td>Friday</td>\n",
       "      <td>2011</td>\n",
       "      <td>4</td>\n",
       "    </tr>\n",
       "    <tr>\n",
       "      <th>149340</th>\n",
       "      <td>549667</td>\n",
       "      <td>22197</td>\n",
       "      <td>12</td>\n",
       "      <td>2011-04-11 12:20:00</td>\n",
       "      <td>0.85</td>\n",
       "      <td>u14911</td>\n",
       "      <td>EIRE</td>\n",
       "      <td>POPCORN HOLDER</td>\n",
       "      <td>11</td>\n",
       "      <td>Monday</td>\n",
       "      <td>2011</td>\n",
       "      <td>4</td>\n",
       "    </tr>\n",
       "    <tr>\n",
       "      <th>190941</th>\n",
       "      <td>553686</td>\n",
       "      <td>22197</td>\n",
       "      <td>72</td>\n",
       "      <td>2011-05-18 13:58:00</td>\n",
       "      <td>0.85</td>\n",
       "      <td>u14911</td>\n",
       "      <td>EIRE</td>\n",
       "      <td>POPCORN HOLDER</td>\n",
       "      <td>18</td>\n",
       "      <td>Wednesday</td>\n",
       "      <td>2011</td>\n",
       "      <td>5</td>\n",
       "    </tr>\n",
       "    <tr>\n",
       "      <th>200894</th>\n",
       "      <td>554770</td>\n",
       "      <td>22197</td>\n",
       "      <td>24</td>\n",
       "      <td>2011-05-26 11:40:00</td>\n",
       "      <td>0.85</td>\n",
       "      <td>u14911</td>\n",
       "      <td>EIRE</td>\n",
       "      <td>POPCORN HOLDER</td>\n",
       "      <td>26</td>\n",
       "      <td>Thursday</td>\n",
       "      <td>2011</td>\n",
       "      <td>5</td>\n",
       "    </tr>\n",
       "    <tr>\n",
       "      <th>225436</th>\n",
       "      <td>557136</td>\n",
       "      <td>22197</td>\n",
       "      <td>24</td>\n",
       "      <td>2011-06-17 09:23:00</td>\n",
       "      <td>0.85</td>\n",
       "      <td>u14911</td>\n",
       "      <td>EIRE</td>\n",
       "      <td>POPCORN HOLDER</td>\n",
       "      <td>17</td>\n",
       "      <td>Friday</td>\n",
       "      <td>2011</td>\n",
       "      <td>6</td>\n",
       "    </tr>\n",
       "    <tr>\n",
       "      <th>235580</th>\n",
       "      <td>558113</td>\n",
       "      <td>22197</td>\n",
       "      <td>12</td>\n",
       "      <td>2011-06-27 08:48:00</td>\n",
       "      <td>0.85</td>\n",
       "      <td>u14911</td>\n",
       "      <td>EIRE</td>\n",
       "      <td>POPCORN HOLDER</td>\n",
       "      <td>27</td>\n",
       "      <td>Monday</td>\n",
       "      <td>2011</td>\n",
       "      <td>6</td>\n",
       "    </tr>\n",
       "    <tr>\n",
       "      <th>258261</th>\n",
       "      <td>560036</td>\n",
       "      <td>22197</td>\n",
       "      <td>48</td>\n",
       "      <td>2011-07-14 13:51:00</td>\n",
       "      <td>0.85</td>\n",
       "      <td>u14911</td>\n",
       "      <td>EIRE</td>\n",
       "      <td>POPCORN HOLDER</td>\n",
       "      <td>14</td>\n",
       "      <td>Thursday</td>\n",
       "      <td>2011</td>\n",
       "      <td>7</td>\n",
       "    </tr>\n",
       "    <tr>\n",
       "      <th>264266</th>\n",
       "      <td>560534</td>\n",
       "      <td>22197</td>\n",
       "      <td>12</td>\n",
       "      <td>2011-07-19 12:10:00</td>\n",
       "      <td>0.85</td>\n",
       "      <td>u14911</td>\n",
       "      <td>EIRE</td>\n",
       "      <td>POPCORN HOLDER</td>\n",
       "      <td>19</td>\n",
       "      <td>Tuesday</td>\n",
       "      <td>2011</td>\n",
       "      <td>7</td>\n",
       "    </tr>\n",
       "    <tr>\n",
       "      <th>274612</th>\n",
       "      <td>561471</td>\n",
       "      <td>22197</td>\n",
       "      <td>48</td>\n",
       "      <td>2011-07-27 13:14:00</td>\n",
       "      <td>0.85</td>\n",
       "      <td>u14911</td>\n",
       "      <td>EIRE</td>\n",
       "      <td>POPCORN HOLDER</td>\n",
       "      <td>27</td>\n",
       "      <td>Wednesday</td>\n",
       "      <td>2011</td>\n",
       "      <td>7</td>\n",
       "    </tr>\n",
       "    <tr>\n",
       "      <th>291572</th>\n",
       "      <td>562960</td>\n",
       "      <td>22197</td>\n",
       "      <td>24</td>\n",
       "      <td>2011-08-11 10:22:00</td>\n",
       "      <td>0.85</td>\n",
       "      <td>u14911</td>\n",
       "      <td>EIRE</td>\n",
       "      <td>POPCORN HOLDER</td>\n",
       "      <td>11</td>\n",
       "      <td>Thursday</td>\n",
       "      <td>2011</td>\n",
       "      <td>8</td>\n",
       "    </tr>\n",
       "    <tr>\n",
       "      <th>293402</th>\n",
       "      <td>563169</td>\n",
       "      <td>22197</td>\n",
       "      <td>48</td>\n",
       "      <td>2011-08-12 12:42:00</td>\n",
       "      <td>0.85</td>\n",
       "      <td>u14911</td>\n",
       "      <td>EIRE</td>\n",
       "      <td>POPCORN HOLDER</td>\n",
       "      <td>12</td>\n",
       "      <td>Friday</td>\n",
       "      <td>2011</td>\n",
       "      <td>8</td>\n",
       "    </tr>\n",
       "    <tr>\n",
       "      <th>300390</th>\n",
       "      <td>563848</td>\n",
       "      <td>22197</td>\n",
       "      <td>48</td>\n",
       "      <td>2011-08-19 14:57:00</td>\n",
       "      <td>0.85</td>\n",
       "      <td>u14911</td>\n",
       "      <td>EIRE</td>\n",
       "      <td>POPCORN HOLDER</td>\n",
       "      <td>19</td>\n",
       "      <td>Friday</td>\n",
       "      <td>2011</td>\n",
       "      <td>8</td>\n",
       "    </tr>\n",
       "    <tr>\n",
       "      <th>307523</th>\n",
       "      <td>564565</td>\n",
       "      <td>22197</td>\n",
       "      <td>12</td>\n",
       "      <td>2011-08-26 10:50:00</td>\n",
       "      <td>0.85</td>\n",
       "      <td>u14911</td>\n",
       "      <td>EIRE</td>\n",
       "      <td>POPCORN HOLDER</td>\n",
       "      <td>26</td>\n",
       "      <td>Friday</td>\n",
       "      <td>2011</td>\n",
       "      <td>8</td>\n",
       "    </tr>\n",
       "    <tr>\n",
       "      <th>321787</th>\n",
       "      <td>565800</td>\n",
       "      <td>22197</td>\n",
       "      <td>24</td>\n",
       "      <td>2011-09-07 10:23:00</td>\n",
       "      <td>0.85</td>\n",
       "      <td>u14911</td>\n",
       "      <td>EIRE</td>\n",
       "      <td>POPCORN HOLDER</td>\n",
       "      <td>7</td>\n",
       "      <td>Wednesday</td>\n",
       "      <td>2011</td>\n",
       "      <td>9</td>\n",
       "    </tr>\n",
       "    <tr>\n",
       "      <th>323023</th>\n",
       "      <td>565857</td>\n",
       "      <td>22197</td>\n",
       "      <td>12</td>\n",
       "      <td>2011-09-07 14:13:00</td>\n",
       "      <td>0.85</td>\n",
       "      <td>u14911</td>\n",
       "      <td>EIRE</td>\n",
       "      <td>POPCORN HOLDER</td>\n",
       "      <td>7</td>\n",
       "      <td>Wednesday</td>\n",
       "      <td>2011</td>\n",
       "      <td>9</td>\n",
       "    </tr>\n",
       "    <tr>\n",
       "      <th>334610</th>\n",
       "      <td>566776</td>\n",
       "      <td>22197</td>\n",
       "      <td>24</td>\n",
       "      <td>2011-09-15 09:53:00</td>\n",
       "      <td>0.85</td>\n",
       "      <td>u14911</td>\n",
       "      <td>EIRE</td>\n",
       "      <td>POPCORN HOLDER</td>\n",
       "      <td>15</td>\n",
       "      <td>Thursday</td>\n",
       "      <td>2011</td>\n",
       "      <td>9</td>\n",
       "    </tr>\n",
       "    <tr>\n",
       "      <th>348826</th>\n",
       "      <td>568048</td>\n",
       "      <td>22197</td>\n",
       "      <td>24</td>\n",
       "      <td>2011-09-23 12:36:00</td>\n",
       "      <td>0.85</td>\n",
       "      <td>u14911</td>\n",
       "      <td>EIRE</td>\n",
       "      <td>POPCORN HOLDER</td>\n",
       "      <td>23</td>\n",
       "      <td>Friday</td>\n",
       "      <td>2011</td>\n",
       "      <td>9</td>\n",
       "    </tr>\n",
       "    <tr>\n",
       "      <th>384381</th>\n",
       "      <td>570703</td>\n",
       "      <td>22197</td>\n",
       "      <td>24</td>\n",
       "      <td>2011-10-12 09:50:00</td>\n",
       "      <td>0.85</td>\n",
       "      <td>u14911</td>\n",
       "      <td>EIRE</td>\n",
       "      <td>POPCORN HOLDER</td>\n",
       "      <td>12</td>\n",
       "      <td>Wednesday</td>\n",
       "      <td>2011</td>\n",
       "      <td>10</td>\n",
       "    </tr>\n",
       "    <tr>\n",
       "      <th>391942</th>\n",
       "      <td>571313</td>\n",
       "      <td>22197</td>\n",
       "      <td>500</td>\n",
       "      <td>2011-10-17 10:42:00</td>\n",
       "      <td>0.72</td>\n",
       "      <td>u14156</td>\n",
       "      <td>EIRE</td>\n",
       "      <td>POPCORN HOLDER</td>\n",
       "      <td>17</td>\n",
       "      <td>Monday</td>\n",
       "      <td>2011</td>\n",
       "      <td>10</td>\n",
       "    </tr>\n",
       "    <tr>\n",
       "      <th>402006</th>\n",
       "      <td>572127</td>\n",
       "      <td>22197</td>\n",
       "      <td>36</td>\n",
       "      <td>2011-10-21 09:20:00</td>\n",
       "      <td>0.85</td>\n",
       "      <td>u14911</td>\n",
       "      <td>EIRE</td>\n",
       "      <td>POPCORN HOLDER</td>\n",
       "      <td>21</td>\n",
       "      <td>Friday</td>\n",
       "      <td>2011</td>\n",
       "      <td>10</td>\n",
       "    </tr>\n",
       "    <tr>\n",
       "      <th>421128</th>\n",
       "      <td>573581</td>\n",
       "      <td>22197</td>\n",
       "      <td>12</td>\n",
       "      <td>2011-10-31 14:22:00</td>\n",
       "      <td>0.85</td>\n",
       "      <td>u14911</td>\n",
       "      <td>EIRE</td>\n",
       "      <td>POPCORN HOLDER</td>\n",
       "      <td>31</td>\n",
       "      <td>Monday</td>\n",
       "      <td>2011</td>\n",
       "      <td>10</td>\n",
       "    </tr>\n",
       "    <tr>\n",
       "      <th>422744</th>\n",
       "      <td>573748</td>\n",
       "      <td>22197</td>\n",
       "      <td>36</td>\n",
       "      <td>2011-11-01 09:24:00</td>\n",
       "      <td>0.85</td>\n",
       "      <td>u14911</td>\n",
       "      <td>EIRE</td>\n",
       "      <td>POPCORN HOLDER</td>\n",
       "      <td>1</td>\n",
       "      <td>Tuesday</td>\n",
       "      <td>2011</td>\n",
       "      <td>11</td>\n",
       "    </tr>\n",
       "    <tr>\n",
       "      <th>423771</th>\n",
       "      <td>573892</td>\n",
       "      <td>22197</td>\n",
       "      <td>12</td>\n",
       "      <td>2011-11-01 13:57:00</td>\n",
       "      <td>0.85</td>\n",
       "      <td>u14911</td>\n",
       "      <td>EIRE</td>\n",
       "      <td>POPCORN HOLDER</td>\n",
       "      <td>1</td>\n",
       "      <td>Tuesday</td>\n",
       "      <td>2011</td>\n",
       "      <td>11</td>\n",
       "    </tr>\n",
       "    <tr>\n",
       "      <th>449742</th>\n",
       "      <td>575871</td>\n",
       "      <td>22197</td>\n",
       "      <td>24</td>\n",
       "      <td>2011-11-11 12:52:00</td>\n",
       "      <td>0.85</td>\n",
       "      <td>u14911</td>\n",
       "      <td>EIRE</td>\n",
       "      <td>POPCORN HOLDER</td>\n",
       "      <td>11</td>\n",
       "      <td>Friday</td>\n",
       "      <td>2011</td>\n",
       "      <td>11</td>\n",
       "    </tr>\n",
       "    <tr>\n",
       "      <th>472754</th>\n",
       "      <td>577479</td>\n",
       "      <td>22197</td>\n",
       "      <td>12</td>\n",
       "      <td>2011-11-20 11:34:00</td>\n",
       "      <td>0.85</td>\n",
       "      <td>u14911</td>\n",
       "      <td>EIRE</td>\n",
       "      <td>POPCORN HOLDER</td>\n",
       "      <td>20</td>\n",
       "      <td>Sunday</td>\n",
       "      <td>2011</td>\n",
       "      <td>11</td>\n",
       "    </tr>\n",
       "    <tr>\n",
       "      <th>495768</th>\n",
       "      <td>579102</td>\n",
       "      <td>22197</td>\n",
       "      <td>12</td>\n",
       "      <td>2011-11-28 11:33:00</td>\n",
       "      <td>0.85</td>\n",
       "      <td>u14911</td>\n",
       "      <td>EIRE</td>\n",
       "      <td>POPCORN HOLDER</td>\n",
       "      <td>28</td>\n",
       "      <td>Monday</td>\n",
       "      <td>2011</td>\n",
       "      <td>11</td>\n",
       "    </tr>\n",
       "    <tr>\n",
       "      <th>522449</th>\n",
       "      <td>581003</td>\n",
       "      <td>22197</td>\n",
       "      <td>48</td>\n",
       "      <td>2011-12-07 08:38:00</td>\n",
       "      <td>0.85</td>\n",
       "      <td>u14911</td>\n",
       "      <td>EIRE</td>\n",
       "      <td>POPCORN HOLDER</td>\n",
       "      <td>7</td>\n",
       "      <td>Wednesday</td>\n",
       "      <td>2011</td>\n",
       "      <td>12</td>\n",
       "    </tr>\n",
       "    <tr>\n",
       "      <th>522543</th>\n",
       "      <td>581006</td>\n",
       "      <td>22197</td>\n",
       "      <td>48</td>\n",
       "      <td>2011-12-07 08:45:00</td>\n",
       "      <td>0.85</td>\n",
       "      <td>u14911</td>\n",
       "      <td>EIRE</td>\n",
       "      <td>POPCORN HOLDER</td>\n",
       "      <td>7</td>\n",
       "      <td>Wednesday</td>\n",
       "      <td>2011</td>\n",
       "      <td>12</td>\n",
       "    </tr>\n",
       "  </tbody>\n",
       "</table>\n",
       "</div>"
      ],
      "text/plain": [
       "       Invoice StockCode  Quantity  ...  DayOfWeek  Year Month\n",
       "19775   538009     22197        36  ...   Thursday  2010    12\n",
       "39297   539722     22197        24  ...    Tuesday  2010    12\n",
       "96894   544690     22197       400  ...  Wednesday  2011     2\n",
       "107442  545657     22197        12  ...     Friday  2011     3\n",
       "116587  546520     22197       100  ...     Monday  2011     3\n",
       "130947  547789     22197        12  ...     Friday  2011     3\n",
       "140086  548664     22197        12  ...     Friday  2011     4\n",
       "149340  549667     22197        12  ...     Monday  2011     4\n",
       "190941  553686     22197        72  ...  Wednesday  2011     5\n",
       "200894  554770     22197        24  ...   Thursday  2011     5\n",
       "225436  557136     22197        24  ...     Friday  2011     6\n",
       "235580  558113     22197        12  ...     Monday  2011     6\n",
       "258261  560036     22197        48  ...   Thursday  2011     7\n",
       "264266  560534     22197        12  ...    Tuesday  2011     7\n",
       "274612  561471     22197        48  ...  Wednesday  2011     7\n",
       "291572  562960     22197        24  ...   Thursday  2011     8\n",
       "293402  563169     22197        48  ...     Friday  2011     8\n",
       "300390  563848     22197        48  ...     Friday  2011     8\n",
       "307523  564565     22197        12  ...     Friday  2011     8\n",
       "321787  565800     22197        24  ...  Wednesday  2011     9\n",
       "323023  565857     22197        12  ...  Wednesday  2011     9\n",
       "334610  566776     22197        24  ...   Thursday  2011     9\n",
       "348826  568048     22197        24  ...     Friday  2011     9\n",
       "384381  570703     22197        24  ...  Wednesday  2011    10\n",
       "391942  571313     22197       500  ...     Monday  2011    10\n",
       "402006  572127     22197        36  ...     Friday  2011    10\n",
       "421128  573581     22197        12  ...     Monday  2011    10\n",
       "422744  573748     22197        36  ...    Tuesday  2011    11\n",
       "423771  573892     22197        12  ...    Tuesday  2011    11\n",
       "449742  575871     22197        24  ...     Friday  2011    11\n",
       "472754  577479     22197        12  ...     Sunday  2011    11\n",
       "495768  579102     22197        12  ...     Monday  2011    11\n",
       "522449  581003     22197        48  ...  Wednesday  2011    12\n",
       "522543  581006     22197        48  ...  Wednesday  2011    12\n",
       "\n",
       "[34 rows x 12 columns]"
      ]
     },
     "execution_count": 101,
     "metadata": {
      "tags": []
     },
     "output_type": "execute_result"
    }
   ],
   "source": [
    "popcorn_holder_UK_EIRE = online_retail_history[(online_retail_history.Country.isin(['UK', 'EIRE'])) & (online_retail_history.Description == 'POPCORN HOLDER')]\n",
    "popcorn_holder_UK_EIRE"
   ]
  },
  {
   "cell_type": "code",
   "execution_count": null,
   "metadata": {
    "colab": {
     "base_uri": "https://localhost:8080/",
     "height": 1000
    },
    "id": "yeE1AEU2as_s",
    "outputId": "ac61e5d4-58dd-441b-fe56-e0dfe63b9063"
   },
   "outputs": [
    {
     "data": {
      "image/png": "[encoded data removed]",
      "text/plain": [
       "<Figure size 864x1728 with 6 Axes>"
      ]
     },
     "metadata": {
      "tags": []
     },
     "output_type": "display_data"
    }
   ],
   "source": [
    "# Bonus. Most popular product by country\n",
    "\n",
    "countries_of_interest = [\"United Kingdom\", \"Germany\", \"France\", \"EIRE\", \"Spain\", \"Netherlands\"] # list of countries interested in\n",
    "temp = pd.DataFrame(online_retail_history.groupby([\"Country\", \"Description\"]).sum()[\"Quantity\"])\n",
    "\n",
    "x = 1\n",
    "plt.figure(figsize=(12,24))\n",
    "for x, c in enumerate(countries_of_interest):\n",
    "    ax = plt.subplot(4, 2, x + 1)\n",
    "    plt.title(c + ' '+ \"Top 5 Most Selling Products\")\n",
    "    temp.loc[c].sort_values(by = \"Quantity\", ascending = False)[\"Quantity\"].head(5).plot(kind = \"bar\", ax = ax, color = \"teal\", alpha = 0.6)\n",
    "    plt.tight_layout()"
   ]
  },
  {
   "cell_type": "code",
   "execution_count": null,
   "metadata": {
    "colab": {
     "base_uri": "https://localhost:8080/"
    },
    "id": "odZVC8D7eM-7",
    "outputId": "45991947-3b09-40c2-c1ab-4dac85bae95c"
   },
   "outputs": [
    {
     "data": {
      "image/png": "[encoded data removed]",
      "text/plain": [
       "<Figure size 432x288 with 1 Axes>"
      ]
     },
     "metadata": {
      "tags": []
     },
     "output_type": "display_data"
    }
   ],
   "source": [
    "# Q11. How many invoices does the user have on average?\n",
    "\n",
    "customer_invoices = pd.DataFrame(online_retail_history.groupby(['CustomerID']).nunique()['Invoice'])\n",
    "sns.boxplot(x = customer_invoices['Invoice']);"
   ]
  },
  {
   "cell_type": "code",
   "execution_count": null,
   "metadata": {
    "colab": {
     "base_uri": "https://localhost:8080/"
    },
    "id": "KXYsP3ZYfpL0",
    "outputId": "9397f35c-1d05-49d7-afda-d6441a117783"
   },
   "outputs": [
    {
     "data": {
      "text/plain": [
       "count    4339.000000\n",
       "mean        4.271952\n",
       "std         7.705493\n",
       "min         1.000000\n",
       "25%         1.000000\n",
       "50%         2.000000\n",
       "75%         5.000000\n",
       "max       210.000000\n",
       "Name: Invoice, dtype: float64"
      ]
     },
     "execution_count": 237,
     "metadata": {
      "tags": []
     },
     "output_type": "execute_result"
    }
   ],
   "source": [
    "customer_invoices['Invoice'].describe()"
   ]
  },
  {
   "cell_type": "code",
   "execution_count": null,
   "metadata": {
    "colab": {
     "base_uri": "https://localhost:8080/"
    },
    "id": "WIIsqi4_gPXH",
    "outputId": "128c611d-755f-4706-a2bb-e17ec609a39b"
   },
   "outputs": [
    {
     "name": "stdout",
     "output_type": "stream",
     "text": [
      "On average  4.27\n"
     ]
    }
   ],
   "source": [
    "print(\"On average \", round(customer_invoices['Invoice'].mean(), 2))"
   ]
  },
  {
   "cell_type": "code",
   "execution_count": null,
   "metadata": {
    "colab": {
     "base_uri": "https://localhost:8080/"
    },
    "id": "u6AZGFzKEAG8",
    "outputId": "3f1c05ec-1388-4b00-e8dc-d6debff82188"
   },
   "outputs": [
    {
     "data": {
      "text/html": [
       "<div>\n",
       "<style scoped>\n",
       "    .dataframe tbody tr th:only-of-type {\n",
       "        vertical-align: middle;\n",
       "    }\n",
       "\n",
       "    .dataframe tbody tr th {\n",
       "        vertical-align: top;\n",
       "    }\n",
       "\n",
       "    .dataframe thead th {\n",
       "        text-align: right;\n",
       "    }\n",
       "</style>\n",
       "<table border=\"1\" class=\"dataframe\">\n",
       "  <thead>\n",
       "    <tr style=\"text-align: right;\">\n",
       "      <th></th>\n",
       "      <th>Invoice</th>\n",
       "      <th>StockCode</th>\n",
       "      <th>Quantity</th>\n",
       "      <th>InvoiceDate</th>\n",
       "      <th>Price</th>\n",
       "      <th>CustomerID</th>\n",
       "      <th>Country</th>\n",
       "      <th>Description</th>\n",
       "    </tr>\n",
       "  </thead>\n",
       "  <tbody>\n",
       "    <tr>\n",
       "      <th>0</th>\n",
       "      <td>536365</td>\n",
       "      <td>85123A</td>\n",
       "      <td>6</td>\n",
       "      <td>2010-12-01 08:26:00</td>\n",
       "      <td>2.55</td>\n",
       "      <td>u1785</td>\n",
       "      <td>United Kingdom</td>\n",
       "      <td>CREAM HANGING HEART T-LIGHT HOLDER</td>\n",
       "    </tr>\n",
       "    <tr>\n",
       "      <th>1</th>\n",
       "      <td>536365</td>\n",
       "      <td>71053</td>\n",
       "      <td>6</td>\n",
       "      <td>2010-12-01 08:26:00</td>\n",
       "      <td>3.39</td>\n",
       "      <td>u1785</td>\n",
       "      <td>United Kingdom</td>\n",
       "      <td>WHITE MOROCCAN METAL LANTERN</td>\n",
       "    </tr>\n",
       "    <tr>\n",
       "      <th>2</th>\n",
       "      <td>536365</td>\n",
       "      <td>84406B</td>\n",
       "      <td>8</td>\n",
       "      <td>2010-12-01 08:26:00</td>\n",
       "      <td>2.75</td>\n",
       "      <td>u1785</td>\n",
       "      <td>United Kingdom</td>\n",
       "      <td>CREAM CUPID HEARTS COAT HANGER</td>\n",
       "    </tr>\n",
       "    <tr>\n",
       "      <th>3</th>\n",
       "      <td>536365</td>\n",
       "      <td>84029G</td>\n",
       "      <td>6</td>\n",
       "      <td>2010-12-01 08:26:00</td>\n",
       "      <td>3.39</td>\n",
       "      <td>u1785</td>\n",
       "      <td>United Kingdom</td>\n",
       "      <td>KNITTED UNION FLAG HOT WATER BOTTLE</td>\n",
       "    </tr>\n",
       "    <tr>\n",
       "      <th>4</th>\n",
       "      <td>536365</td>\n",
       "      <td>84029E</td>\n",
       "      <td>6</td>\n",
       "      <td>2010-12-01 08:26:00</td>\n",
       "      <td>3.39</td>\n",
       "      <td>u1785</td>\n",
       "      <td>United Kingdom</td>\n",
       "      <td>RED WOOLLY HOTTIE WHITE HEART.</td>\n",
       "    </tr>\n",
       "  </tbody>\n",
       "</table>\n",
       "</div>"
      ],
      "text/plain": [
       "  Invoice StockCode  ...         Country                          Description\n",
       "0  536365    85123A  ...  United Kingdom   CREAM HANGING HEART T-LIGHT HOLDER\n",
       "1  536365     71053  ...  United Kingdom         WHITE MOROCCAN METAL LANTERN\n",
       "2  536365    84406B  ...  United Kingdom       CREAM CUPID HEARTS COAT HANGER\n",
       "3  536365    84029G  ...  United Kingdom  KNITTED UNION FLAG HOT WATER BOTTLE\n",
       "4  536365    84029E  ...  United Kingdom       RED WOOLLY HOTTIE WHITE HEART.\n",
       "\n",
       "[5 rows x 8 columns]"
      ]
     },
     "execution_count": 239,
     "metadata": {
      "tags": []
     },
     "output_type": "execute_result"
    }
   ],
   "source": [
    "# refresh ourselves, what does the data look like\n",
    "\n",
    "online_retail_history.head()\n"
   ]
  },
  {
   "cell_type": "code",
   "execution_count": null,
   "metadata": {
    "colab": {
     "base_uri": "https://localhost:8080/"
    },
    "id": "Jucuy-XtgMsS",
    "outputId": "778b69e8-df86-4461-82fd-67be8b72f6a4"
   },
   "outputs": [
    {
     "data": {
      "text/plain": [
       "Month\n",
       "1      987\n",
       "2      998\n",
       "3     1321\n",
       "4     1149\n",
       "5     1555\n",
       "6     1393\n",
       "7     1331\n",
       "8     1281\n",
       "9     1756\n",
       "10    1929\n",
       "11    2658\n",
       "12    2178\n",
       "Name: Invoice, dtype: int64"
      ]
     },
     "execution_count": 83,
     "metadata": {
      "tags": []
     },
     "output_type": "execute_result"
    }
   ],
   "source": [
    "# Q12. How many invoices per month do we have? \n",
    "# Do you remember this questions from the first section?\n",
    "\n",
    "# Create a month variable\n",
    "online_retail_history['Month'] = online_retail_history.InvoiceDate.dt.month\n",
    "\n",
    "# Use the groupby function to count the number of unique invoices per month\n",
    "online_retail_history.groupby(['Month']).nunique()['Invoice']\n"
   ]
  },
  {
   "cell_type": "code",
   "execution_count": null,
   "metadata": {
    "colab": {
     "base_uri": "https://localhost:8080/",
     "height": 298
    },
    "id": "a5uslPY4hxQk",
    "outputId": "2b01559c-2e31-417b-cc3e-a149806ac6ab"
   },
   "outputs": [
    {
     "data": {
      "image/png": "[encoded data removed]",
      "text/plain": [
       "<Figure size 432x288 with 1 Axes>"
      ]
     },
     "metadata": {
      "tags": []
     },
     "output_type": "display_data"
    }
   ],
   "source": [
    "# we can also plot this\n",
    "\n",
    "online_retail_history.groupby(['Month']).nunique()['Invoice'].plot(kind = 'bar', color = 'blue')\n",
    "plt.title(\"Number of Invoices per month\");\n",
    "\n",
    "# seems to be a spike towards the end of the year - does this tie in with xmas shopping?"
   ]
  },
  {
   "cell_type": "code",
   "execution_count": null,
   "metadata": {
    "colab": {
     "base_uri": "https://localhost:8080/",
     "height": 295
    },
    "id": "v71LRmn7iD7-",
    "outputId": "af2717de-d3ce-4959-a03b-54c55cdd3853"
   },
   "outputs": [
    {
     "data": {
      "image/png": "[encoded data removed]",
      "text/plain": [
       "<Figure size 432x288 with 1 Axes>"
      ]
     },
     "metadata": {
      "tags": []
     },
     "output_type": "display_data"
    }
   ],
   "source": [
    "# Q13. How many transactions do we have per month?\n",
    "\n",
    "# Use the groupby function to sum the quantity and group by invoices per month\n",
    "trans_per_month = pd.DataFrame(online_retail_history.groupby(['Month']).sum()['Quantity'])\n",
    "\n",
    "sns.lineplot(x = \"Month\", y = \"Quantity\", data = trans_per_month, marker = \"o\", color = \"lightseagreen\")\n",
    "plt.title(\"Number of transactions per month\");\n",
    "\n",
    "# Question. Is there a difference in the distribution?"
   ]
  },
  {
   "cell_type": "code",
   "execution_count": null,
   "metadata": {
    "colab": {
     "base_uri": "https://localhost:8080/"
    },
    "id": "1nnef6Z3kYX0",
    "outputId": "551e5419-6d12-43f7-ba9d-9c20b6376288"
   },
   "outputs": [
    {
     "data": {
      "image/png": "[encoded data removed]",
      "text/plain": [
       "<Figure size 432x288 with 1 Axes>"
      ]
     },
     "metadata": {
      "tags": []
     },
     "output_type": "display_data"
    }
   ],
   "source": [
    "# we could even add a marker to show which month has the highest number\n",
    "\n",
    "# plt.figure(figsize=(7 , 5))\n",
    "sns.lineplot(x = \"Month\", y = \"Quantity\", data = trans_per_month, marker = \"o\", color = \"lightseagreen\")\n",
    "plt.title(\"Number of transactions per month\");\n",
    "plt.axvline(11, color = \"k\", linestyle = '--', alpha = 0.3)\n",
    "plt.text(9.5, 675000, \"Most Transactions\", size = 8, color = 'red');\n"
   ]
  },
  {
   "cell_type": "code",
   "execution_count": null,
   "metadata": {
    "colab": {
     "base_uri": "https://localhost:8080/",
     "height": 419
    },
    "id": "7mA_9GCTrbNQ",
    "outputId": "2e041e79-9b32-4949-865b-67f5c7cd8efd"
   },
   "outputs": [
    {
     "data": {
      "text/html": [
       "<div>\n",
       "<style scoped>\n",
       "    .dataframe tbody tr th:only-of-type {\n",
       "        vertical-align: middle;\n",
       "    }\n",
       "\n",
       "    .dataframe tbody tr th {\n",
       "        vertical-align: top;\n",
       "    }\n",
       "\n",
       "    .dataframe thead th {\n",
       "        text-align: right;\n",
       "    }\n",
       "</style>\n",
       "<table border=\"1\" class=\"dataframe\">\n",
       "  <thead>\n",
       "    <tr style=\"text-align: right;\">\n",
       "      <th></th>\n",
       "      <th>Invoice</th>\n",
       "      <th>StockCode</th>\n",
       "      <th>Quantity</th>\n",
       "      <th>InvoiceDate</th>\n",
       "      <th>Price</th>\n",
       "      <th>CustomerID</th>\n",
       "      <th>Country</th>\n",
       "      <th>Description</th>\n",
       "      <th>Day</th>\n",
       "      <th>DayOfWeek</th>\n",
       "      <th>Year</th>\n",
       "      <th>Month</th>\n",
       "    </tr>\n",
       "  </thead>\n",
       "  <tbody>\n",
       "    <tr>\n",
       "      <th>219</th>\n",
       "      <td>536390</td>\n",
       "      <td>22197</td>\n",
       "      <td>100</td>\n",
       "      <td>2010-12-01 10:19:00</td>\n",
       "      <td>0.72</td>\n",
       "      <td>u17511</td>\n",
       "      <td>United Kingdom</td>\n",
       "      <td>POPCORN HOLDER</td>\n",
       "      <td>1</td>\n",
       "      <td>Wednesday</td>\n",
       "      <td>2010</td>\n",
       "      <td>12</td>\n",
       "    </tr>\n",
       "    <tr>\n",
       "      <th>384</th>\n",
       "      <td>536404</td>\n",
       "      <td>22197</td>\n",
       "      <td>36</td>\n",
       "      <td>2010-12-01 11:29:00</td>\n",
       "      <td>0.85</td>\n",
       "      <td>u16218</td>\n",
       "      <td>United Kingdom</td>\n",
       "      <td>POPCORN HOLDER</td>\n",
       "      <td>1</td>\n",
       "      <td>Wednesday</td>\n",
       "      <td>2010</td>\n",
       "      <td>12</td>\n",
       "    </tr>\n",
       "    <tr>\n",
       "      <th>523</th>\n",
       "      <td>536409</td>\n",
       "      <td>22197</td>\n",
       "      <td>2</td>\n",
       "      <td>2010-12-01 11:45:00</td>\n",
       "      <td>0.85</td>\n",
       "      <td>u17908</td>\n",
       "      <td>United Kingdom</td>\n",
       "      <td>POPCORN HOLDER</td>\n",
       "      <td>1</td>\n",
       "      <td>Wednesday</td>\n",
       "      <td>2010</td>\n",
       "      <td>12</td>\n",
       "    </tr>\n",
       "    <tr>\n",
       "      <th>601</th>\n",
       "      <td>536412</td>\n",
       "      <td>22197</td>\n",
       "      <td>5</td>\n",
       "      <td>2010-12-01 11:49:00</td>\n",
       "      <td>0.85</td>\n",
       "      <td>u1792</td>\n",
       "      <td>United Kingdom</td>\n",
       "      <td>POPCORN HOLDER</td>\n",
       "      <td>1</td>\n",
       "      <td>Wednesday</td>\n",
       "      <td>2010</td>\n",
       "      <td>12</td>\n",
       "    </tr>\n",
       "    <tr>\n",
       "      <th>795</th>\n",
       "      <td>536464</td>\n",
       "      <td>22197</td>\n",
       "      <td>5</td>\n",
       "      <td>2010-12-01 12:23:00</td>\n",
       "      <td>0.85</td>\n",
       "      <td>u17968</td>\n",
       "      <td>United Kingdom</td>\n",
       "      <td>POPCORN HOLDER</td>\n",
       "      <td>1</td>\n",
       "      <td>Wednesday</td>\n",
       "      <td>2010</td>\n",
       "      <td>12</td>\n",
       "    </tr>\n",
       "    <tr>\n",
       "      <th>...</th>\n",
       "      <td>...</td>\n",
       "      <td>...</td>\n",
       "      <td>...</td>\n",
       "      <td>...</td>\n",
       "      <td>...</td>\n",
       "      <td>...</td>\n",
       "      <td>...</td>\n",
       "      <td>...</td>\n",
       "      <td>...</td>\n",
       "      <td>...</td>\n",
       "      <td>...</td>\n",
       "      <td>...</td>\n",
       "    </tr>\n",
       "    <tr>\n",
       "      <th>529386</th>\n",
       "      <td>581453</td>\n",
       "      <td>22197</td>\n",
       "      <td>100</td>\n",
       "      <td>2011-12-08 18:15:00</td>\n",
       "      <td>0.72</td>\n",
       "      <td>u16401</td>\n",
       "      <td>United Kingdom</td>\n",
       "      <td>POPCORN HOLDER</td>\n",
       "      <td>8</td>\n",
       "      <td>Thursday</td>\n",
       "      <td>2011</td>\n",
       "      <td>12</td>\n",
       "    </tr>\n",
       "    <tr>\n",
       "      <th>529472</th>\n",
       "      <td>581458</td>\n",
       "      <td>22197</td>\n",
       "      <td>1500</td>\n",
       "      <td>2011-12-08 18:45:00</td>\n",
       "      <td>0.72</td>\n",
       "      <td>u17949</td>\n",
       "      <td>United Kingdom</td>\n",
       "      <td>POPCORN HOLDER</td>\n",
       "      <td>8</td>\n",
       "      <td>Thursday</td>\n",
       "      <td>2011</td>\n",
       "      <td>12</td>\n",
       "    </tr>\n",
       "    <tr>\n",
       "      <th>529473</th>\n",
       "      <td>581459</td>\n",
       "      <td>22197</td>\n",
       "      <td>1200</td>\n",
       "      <td>2011-12-08 18:46:00</td>\n",
       "      <td>0.72</td>\n",
       "      <td>u17949</td>\n",
       "      <td>United Kingdom</td>\n",
       "      <td>POPCORN HOLDER</td>\n",
       "      <td>8</td>\n",
       "      <td>Thursday</td>\n",
       "      <td>2011</td>\n",
       "      <td>12</td>\n",
       "    </tr>\n",
       "    <tr>\n",
       "      <th>531057</th>\n",
       "      <td>581538</td>\n",
       "      <td>22197</td>\n",
       "      <td>4</td>\n",
       "      <td>2011-12-09 11:34:00</td>\n",
       "      <td>0.85</td>\n",
       "      <td>u14446</td>\n",
       "      <td>United Kingdom</td>\n",
       "      <td>POPCORN HOLDER</td>\n",
       "      <td>9</td>\n",
       "      <td>Friday</td>\n",
       "      <td>2011</td>\n",
       "      <td>12</td>\n",
       "    </tr>\n",
       "    <tr>\n",
       "      <th>531201</th>\n",
       "      <td>581579</td>\n",
       "      <td>22197</td>\n",
       "      <td>24</td>\n",
       "      <td>2011-12-09 12:19:00</td>\n",
       "      <td>0.85</td>\n",
       "      <td>u17581</td>\n",
       "      <td>United Kingdom</td>\n",
       "      <td>POPCORN HOLDER</td>\n",
       "      <td>9</td>\n",
       "      <td>Friday</td>\n",
       "      <td>2011</td>\n",
       "      <td>12</td>\n",
       "    </tr>\n",
       "  </tbody>\n",
       "</table>\n",
       "<p>1007 rows × 12 columns</p>\n",
       "</div>"
      ],
      "text/plain": [
       "       Invoice StockCode  Quantity  ...  DayOfWeek  Year Month\n",
       "219     536390     22197       100  ...  Wednesday  2010    12\n",
       "384     536404     22197        36  ...  Wednesday  2010    12\n",
       "523     536409     22197         2  ...  Wednesday  2010    12\n",
       "601     536412     22197         5  ...  Wednesday  2010    12\n",
       "795     536464     22197         5  ...  Wednesday  2010    12\n",
       "...        ...       ...       ...  ...        ...   ...   ...\n",
       "529386  581453     22197       100  ...   Thursday  2011    12\n",
       "529472  581458     22197      1500  ...   Thursday  2011    12\n",
       "529473  581459     22197      1200  ...   Thursday  2011    12\n",
       "531057  581538     22197         4  ...     Friday  2011    12\n",
       "531201  581579     22197        24  ...     Friday  2011    12\n",
       "\n",
       "[1007 rows x 12 columns]"
      ]
     },
     "execution_count": 110,
     "metadata": {
      "tags": []
     },
     "output_type": "execute_result"
    }
   ],
   "source": [
    "popcorn_holder_UK_EIRE = online_retail_history[(online_retail_history.Country.isin(['United Kingdom', 'EIRE'])) & (online_retail_history.Description == 'POPCORN HOLDER')]\n",
    "popcorn_holder_UK_EIRE\n"
   ]
  },
  {
   "cell_type": "code",
   "execution_count": null,
   "metadata": {
    "colab": {
     "background_save": true,
     "base_uri": "https://localhost:8080/",
     "height": 421
    },
    "id": "18tYgBwFq2eH",
    "outputId": "c37ac5fc-3934-4f70-c551-bbd483b659fa"
   },
   "outputs": [
    {
     "data": {
      "text/html": [
       "<div>\n",
       "<style scoped>\n",
       "    .dataframe tbody tr th:only-of-type {\n",
       "        vertical-align: middle;\n",
       "    }\n",
       "\n",
       "    .dataframe tbody tr th {\n",
       "        vertical-align: top;\n",
       "    }\n",
       "\n",
       "    .dataframe thead th {\n",
       "        text-align: right;\n",
       "    }\n",
       "</style>\n",
       "<table border=\"1\" class=\"dataframe\">\n",
       "  <thead>\n",
       "    <tr style=\"text-align: right;\">\n",
       "      <th></th>\n",
       "      <th></th>\n",
       "      <th>Quantity</th>\n",
       "    </tr>\n",
       "    <tr>\n",
       "      <th>Month</th>\n",
       "      <th>Country</th>\n",
       "      <th></th>\n",
       "    </tr>\n",
       "  </thead>\n",
       "  <tbody>\n",
       "    <tr>\n",
       "      <th>1</th>\n",
       "      <th>United Kingdom</th>\n",
       "      <td>1563</td>\n",
       "    </tr>\n",
       "    <tr>\n",
       "      <th rowspan=\"2\" valign=\"top\">2</th>\n",
       "      <th>EIRE</th>\n",
       "      <td>400</td>\n",
       "    </tr>\n",
       "    <tr>\n",
       "      <th>United Kingdom</th>\n",
       "      <td>2081</td>\n",
       "    </tr>\n",
       "    <tr>\n",
       "      <th rowspan=\"2\" valign=\"top\">3</th>\n",
       "      <th>EIRE</th>\n",
       "      <td>124</td>\n",
       "    </tr>\n",
       "    <tr>\n",
       "      <th>United Kingdom</th>\n",
       "      <td>1742</td>\n",
       "    </tr>\n",
       "    <tr>\n",
       "      <th rowspan=\"2\" valign=\"top\">4</th>\n",
       "      <th>EIRE</th>\n",
       "      <td>24</td>\n",
       "    </tr>\n",
       "    <tr>\n",
       "      <th>United Kingdom</th>\n",
       "      <td>1593</td>\n",
       "    </tr>\n",
       "    <tr>\n",
       "      <th rowspan=\"2\" valign=\"top\">5</th>\n",
       "      <th>EIRE</th>\n",
       "      <td>96</td>\n",
       "    </tr>\n",
       "    <tr>\n",
       "      <th>United Kingdom</th>\n",
       "      <td>6618</td>\n",
       "    </tr>\n",
       "    <tr>\n",
       "      <th rowspan=\"2\" valign=\"top\">6</th>\n",
       "      <th>EIRE</th>\n",
       "      <td>36</td>\n",
       "    </tr>\n",
       "    <tr>\n",
       "      <th>United Kingdom</th>\n",
       "      <td>1883</td>\n",
       "    </tr>\n",
       "    <tr>\n",
       "      <th rowspan=\"2\" valign=\"top\">7</th>\n",
       "      <th>EIRE</th>\n",
       "      <td>108</td>\n",
       "    </tr>\n",
       "    <tr>\n",
       "      <th>United Kingdom</th>\n",
       "      <td>1663</td>\n",
       "    </tr>\n",
       "    <tr>\n",
       "      <th rowspan=\"2\" valign=\"top\">8</th>\n",
       "      <th>EIRE</th>\n",
       "      <td>132</td>\n",
       "    </tr>\n",
       "    <tr>\n",
       "      <th>United Kingdom</th>\n",
       "      <td>5100</td>\n",
       "    </tr>\n",
       "    <tr>\n",
       "      <th rowspan=\"2\" valign=\"top\">9</th>\n",
       "      <th>EIRE</th>\n",
       "      <td>84</td>\n",
       "    </tr>\n",
       "    <tr>\n",
       "      <th>United Kingdom</th>\n",
       "      <td>3432</td>\n",
       "    </tr>\n",
       "    <tr>\n",
       "      <th rowspan=\"2\" valign=\"top\">10</th>\n",
       "      <th>EIRE</th>\n",
       "      <td>572</td>\n",
       "    </tr>\n",
       "    <tr>\n",
       "      <th>United Kingdom</th>\n",
       "      <td>4909</td>\n",
       "    </tr>\n",
       "    <tr>\n",
       "      <th rowspan=\"2\" valign=\"top\">11</th>\n",
       "      <th>EIRE</th>\n",
       "      <td>96</td>\n",
       "    </tr>\n",
       "    <tr>\n",
       "      <th>United Kingdom</th>\n",
       "      <td>8036</td>\n",
       "    </tr>\n",
       "    <tr>\n",
       "      <th rowspan=\"2\" valign=\"top\">12</th>\n",
       "      <th>EIRE</th>\n",
       "      <td>156</td>\n",
       "    </tr>\n",
       "    <tr>\n",
       "      <th>United Kingdom</th>\n",
       "      <td>7012</td>\n",
       "    </tr>\n",
       "  </tbody>\n",
       "</table>\n",
       "</div>"
      ],
      "text/plain": [
       "                      Quantity\n",
       "Month Country                 \n",
       "1     United Kingdom      1563\n",
       "2     EIRE                 400\n",
       "      United Kingdom      2081\n",
       "3     EIRE                 124\n",
       "      United Kingdom      1742\n",
       "4     EIRE                  24\n",
       "      United Kingdom      1593\n",
       "5     EIRE                  96\n",
       "      United Kingdom      6618\n",
       "6     EIRE                  36\n",
       "      United Kingdom      1883\n",
       "7     EIRE                 108\n",
       "      United Kingdom      1663\n",
       "8     EIRE                 132\n",
       "      United Kingdom      5100\n",
       "9     EIRE                  84\n",
       "      United Kingdom      3432\n",
       "10    EIRE                 572\n",
       "      United Kingdom      4909\n",
       "11    EIRE                  96\n",
       "      United Kingdom      8036\n",
       "12    EIRE                 156\n",
       "      United Kingdom      7012"
      ]
     },
     "execution_count": null,
     "metadata": {},
     "output_type": "execute_result"
    }
   ],
   "source": [
    "trans_per_month = pd.DataFrame(popcorn_holder_UK_EIRE.groupby(['Month', 'Country']).sum()['Quantity'])\n",
    "trans_per_month\n",
    "\n",
    "# # plt.figure(figsize=(7 , 5))\n",
    "# sns.lineplot(x = \"Month\", y = \"Quantity\", data = trans_per_month, marker = \"o\", color = \"lightseagreen\")\n",
    "# plt.title(\"Number of transactions per month\");\n",
    "# plt.axvline(11, color = \"k\", linestyle = '--', alpha = 0.3)\n",
    "# plt.text(9.5, 675000, \"Most Transactions\", size = 8, color = 'red');\n",
    "\n",
    "\n"
   ]
  },
  {
   "cell_type": "code",
   "execution_count": null,
   "metadata": {
    "id": "Efvrg2zkrZKP"
   },
   "outputs": [],
   "source": []
  },
  {
   "cell_type": "code",
   "execution_count": null,
   "metadata": {
    "colab": {
     "base_uri": "https://localhost:8080/"
    },
    "id": "rfAovllQrSlp",
    "outputId": "cfb4247c-bd61-42e8-c116-c94b4adbc77b"
   },
   "outputs": [
    {
     "data": {
      "text/plain": [
       "EIRE    34\n",
       "Name: Country, dtype: int64"
      ]
     },
     "execution_count": 106,
     "metadata": {
      "tags": []
     },
     "output_type": "execute_result"
    }
   ],
   "source": [
    "popcorn_holder_UK_EIRE.Country.value_counts()"
   ]
  },
  {
   "cell_type": "code",
   "execution_count": null,
   "metadata": {
    "colab": {
     "base_uri": "https://localhost:8080/",
     "height": 350
    },
    "id": "SK2B4jN4k19a",
    "outputId": "b8c4ba58-7529-4c3c-f52b-512f30833b94"
   },
   "outputs": [
    {
     "data": {
      "image/png": "[encoded data removed]",
      "text/plain": [
       "<Figure size 720x360 with 1 Axes>"
      ]
     },
     "metadata": {
      "tags": []
     },
     "output_type": "display_data"
    }
   ],
   "source": [
    "# Q14. What is the distribution of transactions per day?\n",
    "\n",
    "# Create a day variable\n",
    "online_retail_history['Day'] = online_retail_history.InvoiceDate.dt.day\n",
    "\n",
    "# Use the groupby function to sum the quantity and group by invoices per day\n",
    "trans_per_day = pd.DataFrame(online_retail_history.groupby(['Day']).sum()['Quantity'])\n",
    "\n",
    "plt.figure(figsize=(10 , 5))\n",
    "sns.lineplot(x = \"Day\", y = \"Quantity\", data = trans_per_day, marker = \"o\", color = \"blue\")\n",
    "plt.title(\"Number of transactions per day\");\n",
    "# plt.axvline(5, color = 'k', linestyle = \"dotted\");"
   ]
  },
  {
   "cell_type": "code",
   "execution_count": null,
   "metadata": {
    "colab": {
     "base_uri": "https://localhost:8080/"
    },
    "id": "cHVUXsb4k3kI",
    "outputId": "45e14bbc-291e-45b3-cd68-71bf2cf9d7a3"
   },
   "outputs": [
    {
     "data": {
      "text/plain": [
       "Thursday     80052\n",
       "Wednesday    68888\n",
       "Tuesday      66476\n",
       "Monday       64899\n",
       "Sunday       62775\n",
       "Friday       54835\n",
       "Name: DayOfWeek, dtype: int64"
      ]
     },
     "execution_count": 61,
     "metadata": {
      "tags": []
     },
     "output_type": "execute_result"
    }
   ],
   "source": [
    "# Q15. What is the distribution of transactions per day of week?\n",
    "\n",
    "# Create a day of week variable\n",
    "online_retail_history[\"DayOfWeek\"] = online_retail_history.InvoiceDate.dt.dayofweek\n",
    " \n",
    "# Mapping day of week\n",
    "dayofweek_mapping = dict({0: \"Monday\", \n",
    "                         1: \"Tuesday\", \n",
    "                         2: \"Wednesday\" , \n",
    "                         3: \"Thursday\", \n",
    "                         4: \"Friday\", \n",
    "                         5: \"Saturday\", \n",
    "                         6: \"Sunday\"})\n",
    "\n",
    "online_retail_history[\"DayOfWeek\"] = online_retail_history[\"DayOfWeek\"].map(dayofweek_mapping)\n",
    "\n",
    "online_retail_history[\"DayOfWeek\"].value_counts()"
   ]
  },
  {
   "cell_type": "code",
   "execution_count": null,
   "metadata": {
    "colab": {
     "base_uri": "https://localhost:8080/",
     "height": 343
    },
    "id": "QgyzemRumQPj",
    "outputId": "f1b141b5-17a9-455e-ec09-29dbb4d56ab4"
   },
   "outputs": [
    {
     "data": {
      "image/png": "[encoded data removed]",
      "text/plain": [
       "<Figure size 432x288 with 1 Axes>"
      ]
     },
     "metadata": {
      "tags": []
     },
     "output_type": "display_data"
    }
   ],
   "source": [
    "online_retail_history.groupby(\"DayOfWeek\").sum().sort_values(by = \"Quantity\", ascending = False)[\"Quantity\"].plot(kind = \"bar\", color = \"orange\")\n",
    "plt.title(\"Number of transactions per Day of Week\");"
   ]
  },
  {
   "cell_type": "code",
   "execution_count": null,
   "metadata": {
    "colab": {
     "base_uri": "https://localhost:8080/",
     "height": 419
    },
    "id": "UKP_-Fevk4pL",
    "outputId": "310acd51-3f24-4da6-f775-f9d85af7e612"
   },
   "outputs": [
    {
     "data": {
      "text/html": [
       "<div>\n",
       "<style scoped>\n",
       "    .dataframe tbody tr th:only-of-type {\n",
       "        vertical-align: middle;\n",
       "    }\n",
       "\n",
       "    .dataframe tbody tr th {\n",
       "        vertical-align: top;\n",
       "    }\n",
       "\n",
       "    .dataframe thead th {\n",
       "        text-align: right;\n",
       "    }\n",
       "</style>\n",
       "<table border=\"1\" class=\"dataframe\">\n",
       "  <thead>\n",
       "    <tr style=\"text-align: right;\">\n",
       "      <th></th>\n",
       "      <th>Invoice</th>\n",
       "      <th>StockCode</th>\n",
       "      <th>Quantity</th>\n",
       "      <th>InvoiceDate</th>\n",
       "      <th>Price</th>\n",
       "      <th>CustomerID</th>\n",
       "      <th>Country</th>\n",
       "      <th>Description</th>\n",
       "      <th>Day</th>\n",
       "      <th>DayOfWeek</th>\n",
       "    </tr>\n",
       "  </thead>\n",
       "  <tbody>\n",
       "    <tr>\n",
       "      <th>1099</th>\n",
       "      <td>536527</td>\n",
       "      <td>22809</td>\n",
       "      <td>6</td>\n",
       "      <td>2010-12-01 13:04:00</td>\n",
       "      <td>2.95</td>\n",
       "      <td>u12662</td>\n",
       "      <td>Germany</td>\n",
       "      <td>SET OF 6 T-LIGHTS SANTA</td>\n",
       "      <td>1</td>\n",
       "      <td>Wednesday</td>\n",
       "    </tr>\n",
       "    <tr>\n",
       "      <th>1100</th>\n",
       "      <td>536527</td>\n",
       "      <td>84347</td>\n",
       "      <td>6</td>\n",
       "      <td>2010-12-01 13:04:00</td>\n",
       "      <td>2.55</td>\n",
       "      <td>u12662</td>\n",
       "      <td>Germany</td>\n",
       "      <td>ROTATING SILVER ANGELS T-LIGHT HLDR</td>\n",
       "      <td>1</td>\n",
       "      <td>Wednesday</td>\n",
       "    </tr>\n",
       "    <tr>\n",
       "      <th>1101</th>\n",
       "      <td>536527</td>\n",
       "      <td>84945</td>\n",
       "      <td>12</td>\n",
       "      <td>2010-12-01 13:04:00</td>\n",
       "      <td>0.85</td>\n",
       "      <td>u12662</td>\n",
       "      <td>Germany</td>\n",
       "      <td>MULTI COLOUR SILVER T-LIGHT HOLDER</td>\n",
       "      <td>1</td>\n",
       "      <td>Wednesday</td>\n",
       "    </tr>\n",
       "    <tr>\n",
       "      <th>1102</th>\n",
       "      <td>536527</td>\n",
       "      <td>22242</td>\n",
       "      <td>12</td>\n",
       "      <td>2010-12-01 13:04:00</td>\n",
       "      <td>1.65</td>\n",
       "      <td>u12662</td>\n",
       "      <td>Germany</td>\n",
       "      <td>5 HOOK HANGER MAGIC TOADSTOOL</td>\n",
       "      <td>1</td>\n",
       "      <td>Wednesday</td>\n",
       "    </tr>\n",
       "    <tr>\n",
       "      <th>1103</th>\n",
       "      <td>536527</td>\n",
       "      <td>22244</td>\n",
       "      <td>12</td>\n",
       "      <td>2010-12-01 13:04:00</td>\n",
       "      <td>1.95</td>\n",
       "      <td>u12662</td>\n",
       "      <td>Germany</td>\n",
       "      <td>3 HOOK HANGER MAGIC GARDEN</td>\n",
       "      <td>1</td>\n",
       "      <td>Wednesday</td>\n",
       "    </tr>\n",
       "    <tr>\n",
       "      <th>...</th>\n",
       "      <td>...</td>\n",
       "      <td>...</td>\n",
       "      <td>...</td>\n",
       "      <td>...</td>\n",
       "      <td>...</td>\n",
       "      <td>...</td>\n",
       "      <td>...</td>\n",
       "      <td>...</td>\n",
       "      <td>...</td>\n",
       "      <td>...</td>\n",
       "    </tr>\n",
       "    <tr>\n",
       "      <th>531177</th>\n",
       "      <td>581578</td>\n",
       "      <td>22993</td>\n",
       "      <td>12</td>\n",
       "      <td>2011-12-09 12:16:00</td>\n",
       "      <td>1.25</td>\n",
       "      <td>u12713</td>\n",
       "      <td>Germany</td>\n",
       "      <td>SET OF 4 PANTRY JELLY MOULDS</td>\n",
       "      <td>9</td>\n",
       "      <td>Friday</td>\n",
       "    </tr>\n",
       "    <tr>\n",
       "      <th>531178</th>\n",
       "      <td>581578</td>\n",
       "      <td>22907</td>\n",
       "      <td>12</td>\n",
       "      <td>2011-12-09 12:16:00</td>\n",
       "      <td>0.85</td>\n",
       "      <td>u12713</td>\n",
       "      <td>Germany</td>\n",
       "      <td>PACK OF 20 NAPKINS PANTRY DESIGN</td>\n",
       "      <td>9</td>\n",
       "      <td>Friday</td>\n",
       "    </tr>\n",
       "    <tr>\n",
       "      <th>531179</th>\n",
       "      <td>581578</td>\n",
       "      <td>22908</td>\n",
       "      <td>12</td>\n",
       "      <td>2011-12-09 12:16:00</td>\n",
       "      <td>0.85</td>\n",
       "      <td>u12713</td>\n",
       "      <td>Germany</td>\n",
       "      <td>PACK OF 20 NAPKINS RED APPLES</td>\n",
       "      <td>9</td>\n",
       "      <td>Friday</td>\n",
       "    </tr>\n",
       "    <tr>\n",
       "      <th>531180</th>\n",
       "      <td>581578</td>\n",
       "      <td>23215</td>\n",
       "      <td>12</td>\n",
       "      <td>2011-12-09 12:16:00</td>\n",
       "      <td>2.08</td>\n",
       "      <td>u12713</td>\n",
       "      <td>Germany</td>\n",
       "      <td>JINGLE BELL HEART ANTIQUE SILVER</td>\n",
       "      <td>9</td>\n",
       "      <td>Friday</td>\n",
       "    </tr>\n",
       "    <tr>\n",
       "      <th>531181</th>\n",
       "      <td>581578</td>\n",
       "      <td>22736</td>\n",
       "      <td>10</td>\n",
       "      <td>2011-12-09 12:16:00</td>\n",
       "      <td>1.65</td>\n",
       "      <td>u12713</td>\n",
       "      <td>Germany</td>\n",
       "      <td>RIBBON REEL MAKING SNOWMEN</td>\n",
       "      <td>9</td>\n",
       "      <td>Friday</td>\n",
       "    </tr>\n",
       "  </tbody>\n",
       "</table>\n",
       "<p>9042 rows × 10 columns</p>\n",
       "</div>"
      ],
      "text/plain": [
       "       Invoice StockCode  ...  Day  DayOfWeek\n",
       "1099    536527     22809  ...    1  Wednesday\n",
       "1100    536527     84347  ...    1  Wednesday\n",
       "1101    536527     84945  ...    1  Wednesday\n",
       "1102    536527     22242  ...    1  Wednesday\n",
       "1103    536527     22244  ...    1  Wednesday\n",
       "...        ...       ...  ...  ...        ...\n",
       "531177  581578     22993  ...    9     Friday\n",
       "531178  581578     22907  ...    9     Friday\n",
       "531179  581578     22908  ...    9     Friday\n",
       "531180  581578     23215  ...    9     Friday\n",
       "531181  581578     22736  ...    9     Friday\n",
       "\n",
       "[9042 rows x 10 columns]"
      ]
     },
     "execution_count": 63,
     "metadata": {
      "tags": []
     },
     "output_type": "execute_result"
    }
   ],
   "source": [
    "germany_customers = online_retail_history[online_retail_history.Country == 'Germany']\n",
    "germany_customers\n",
    "\n",
    "# online_retail_history.groupby(\"DayOfWeek\").sum().sort_values(by = \"Quantity\", ascending = False)[\"Quantity\"].plot(kind = \"bar\", color = \"orange\")\n",
    "# plt.title(\"Number of transactions per Day of Week\");"
   ]
  },
  {
   "cell_type": "code",
   "execution_count": null,
   "metadata": {
    "colab": {
     "base_uri": "https://localhost:8080/",
     "height": 295
    },
    "id": "IkZkTTDtlEIs",
    "outputId": "d52c2d02-fe42-4210-d48c-b24e067b6a07"
   },
   "outputs": [
    {
     "data": {
      "image/png": "[encoded data removed]",
      "text/plain": [
       "<Figure size 432x288 with 1 Axes>"
      ]
     },
     "metadata": {
      "tags": []
     },
     "output_type": "display_data"
    }
   ],
   "source": [
    "sns.violinplot(x = germany_customers.Price)\n",
    "plt.title(\"Distribution of Price\");"
   ]
  },
  {
   "cell_type": "code",
   "execution_count": null,
   "metadata": {
    "colab": {
     "base_uri": "https://localhost:8080/",
     "height": 295
    },
    "id": "hitVolrjlL0L",
    "outputId": "97aee731-0fd8-419b-dde6-901bb9411e4d"
   },
   "outputs": [
    {
     "data": {
      "image/png": "[encoded data removed]",
      "text/plain": [
       "<Figure size 432x288 with 1 Axes>"
      ]
     },
     "metadata": {
      "tags": []
     },
     "output_type": "display_data"
    }
   ],
   "source": [
    "sns.violinplot(x = germany_customers.Quantity);\n",
    "plt.title(\"Distribution of Quantity\");"
   ]
  },
  {
   "cell_type": "code",
   "execution_count": null,
   "metadata": {
    "colab": {
     "base_uri": "https://localhost:8080/",
     "height": 343
    },
    "id": "mNgwtPtzlRLy",
    "outputId": "fd7df8e8-eb5f-4815-9a57-470b07f4e5df"
   },
   "outputs": [
    {
     "data": {
      "image/png": "[encoded data removed]",
      "text/plain": [
       "<Figure size 432x288 with 1 Axes>"
      ]
     },
     "metadata": {
      "tags": []
     },
     "output_type": "display_data"
    }
   ],
   "source": [
    "germany_customers.groupby(\"DayOfWeek\").sum().sort_values(by = \"Quantity\", ascending = False)[\"Quantity\"].plot(kind = \"bar\", color = \"orange\")\n",
    "plt.title(\"Germany Day of Week sales\");"
   ]
  },
  {
   "cell_type": "code",
   "execution_count": null,
   "metadata": {
    "id": "hU1-DhlKhsez"
   },
   "outputs": [],
   "source": [
    "# Hint: Create a time and/or quarter variable and plot.\n"
   ]
  },
  {
   "cell_type": "markdown",
   "metadata": {
    "id": "cE3Z6s707S94"
   },
   "source": [
    "**Activity**:\n",
    "* It's your turn to explore the data. You can use this and the previous notebook, or you can slice and dice the data yourself using SQL and python.\n",
    "* Feel free to split into groups, or individually, write and present a short report on the exploration of the data so far.\n",
    "* What trends have we spotted so far? Which country has the most orders? Which day of week has the most number of transactions? What else could you explore?"
   ]
  },
  {
   "cell_type": "code",
   "execution_count": null,
   "metadata": {
    "colab": {
     "base_uri": "https://localhost:8080/",
     "height": 285
    },
    "id": "XcpinD5WoEHs",
    "outputId": "7f8b4f34-85e1-4b04-ea65-15ec761b0f49"
   },
   "outputs": [
    {
     "data": {
      "text/html": [
       "<div>\n",
       "<style scoped>\n",
       "    .dataframe tbody tr th:only-of-type {\n",
       "        vertical-align: middle;\n",
       "    }\n",
       "\n",
       "    .dataframe tbody tr th {\n",
       "        vertical-align: top;\n",
       "    }\n",
       "\n",
       "    .dataframe thead th {\n",
       "        text-align: right;\n",
       "    }\n",
       "</style>\n",
       "<table border=\"1\" class=\"dataframe\">\n",
       "  <thead>\n",
       "    <tr style=\"text-align: right;\">\n",
       "      <th></th>\n",
       "      <th>Invoice</th>\n",
       "      <th>StockCode</th>\n",
       "      <th>Quantity</th>\n",
       "      <th>InvoiceDate</th>\n",
       "      <th>Price</th>\n",
       "      <th>CustomerID</th>\n",
       "      <th>Country</th>\n",
       "      <th>Description</th>\n",
       "      <th>Invoice_month</th>\n",
       "      <th>Month</th>\n",
       "      <th>Day</th>\n",
       "      <th>DayOfWeek</th>\n",
       "    </tr>\n",
       "  </thead>\n",
       "  <tbody>\n",
       "    <tr>\n",
       "      <th>0</th>\n",
       "      <td>536365</td>\n",
       "      <td>85123A</td>\n",
       "      <td>6</td>\n",
       "      <td>2010-12-01 08:26:00</td>\n",
       "      <td>2.55</td>\n",
       "      <td>u1785</td>\n",
       "      <td>United Kingdom</td>\n",
       "      <td>CREAM HANGING HEART T-LIGHT HOLDER</td>\n",
       "      <td>12</td>\n",
       "      <td>12</td>\n",
       "      <td>1</td>\n",
       "      <td>Wednesday</td>\n",
       "    </tr>\n",
       "    <tr>\n",
       "      <th>1</th>\n",
       "      <td>536365</td>\n",
       "      <td>71053</td>\n",
       "      <td>6</td>\n",
       "      <td>2010-12-01 08:26:00</td>\n",
       "      <td>3.39</td>\n",
       "      <td>u1785</td>\n",
       "      <td>United Kingdom</td>\n",
       "      <td>WHITE MOROCCAN METAL LANTERN</td>\n",
       "      <td>12</td>\n",
       "      <td>12</td>\n",
       "      <td>1</td>\n",
       "      <td>Wednesday</td>\n",
       "    </tr>\n",
       "    <tr>\n",
       "      <th>2</th>\n",
       "      <td>536365</td>\n",
       "      <td>84406B</td>\n",
       "      <td>8</td>\n",
       "      <td>2010-12-01 08:26:00</td>\n",
       "      <td>2.75</td>\n",
       "      <td>u1785</td>\n",
       "      <td>United Kingdom</td>\n",
       "      <td>CREAM CUPID HEARTS COAT HANGER</td>\n",
       "      <td>12</td>\n",
       "      <td>12</td>\n",
       "      <td>1</td>\n",
       "      <td>Wednesday</td>\n",
       "    </tr>\n",
       "    <tr>\n",
       "      <th>3</th>\n",
       "      <td>536365</td>\n",
       "      <td>84029G</td>\n",
       "      <td>6</td>\n",
       "      <td>2010-12-01 08:26:00</td>\n",
       "      <td>3.39</td>\n",
       "      <td>u1785</td>\n",
       "      <td>United Kingdom</td>\n",
       "      <td>KNITTED UNION FLAG HOT WATER BOTTLE</td>\n",
       "      <td>12</td>\n",
       "      <td>12</td>\n",
       "      <td>1</td>\n",
       "      <td>Wednesday</td>\n",
       "    </tr>\n",
       "    <tr>\n",
       "      <th>4</th>\n",
       "      <td>536365</td>\n",
       "      <td>84029E</td>\n",
       "      <td>6</td>\n",
       "      <td>2010-12-01 08:26:00</td>\n",
       "      <td>3.39</td>\n",
       "      <td>u1785</td>\n",
       "      <td>United Kingdom</td>\n",
       "      <td>RED WOOLLY HOTTIE WHITE HEART.</td>\n",
       "      <td>12</td>\n",
       "      <td>12</td>\n",
       "      <td>1</td>\n",
       "      <td>Wednesday</td>\n",
       "    </tr>\n",
       "  </tbody>\n",
       "</table>\n",
       "</div>"
      ],
      "text/plain": [
       "  Invoice StockCode  Quantity  ... Month  Day  DayOfWeek\n",
       "0  536365    85123A         6  ...    12    1  Wednesday\n",
       "1  536365     71053         6  ...    12    1  Wednesday\n",
       "2  536365    84406B         8  ...    12    1  Wednesday\n",
       "3  536365    84029G         6  ...    12    1  Wednesday\n",
       "4  536365    84029E         6  ...    12    1  Wednesday\n",
       "\n",
       "[5 rows x 12 columns]"
      ]
     },
     "execution_count": 206,
     "metadata": {
      "tags": []
     },
     "output_type": "execute_result"
    }
   ],
   "source": [
    "# Reminder what the dataset looks like\n",
    "# We have some new columns now\n",
    "\n",
    "online_retail_history.head(n = 5)\n"
   ]
  },
  {
   "cell_type": "code",
   "execution_count": null,
   "metadata": {
    "colab": {
     "base_uri": "https://localhost:8080/"
    },
    "id": "8VxkQ4R0mlTI",
    "outputId": "61493d57-fce3-445e-dffb-b3a2120016db"
   },
   "outputs": [
    {
     "data": {
      "text/plain": [
       "2011    371765\n",
       "2010     26160\n",
       "Name: Year, dtype: int64"
      ]
     },
     "execution_count": 81,
     "metadata": {
      "tags": []
     },
     "output_type": "execute_result"
    }
   ],
   "source": [
    "# How many items were purchased in 2010\n",
    "\n",
    "import datetime\n",
    "\n",
    "online_retail_history['Year'] = online_retail_history.InvoiceDate.dt.year\n",
    "online_retail_history['Year'].value_counts()\n"
   ]
  },
  {
   "cell_type": "code",
   "execution_count": null,
   "metadata": {
    "colab": {
     "base_uri": "https://localhost:8080/"
    },
    "id": "EAitVyK4noYZ",
    "outputId": "699fb6ea-2c4f-4b6a-bab4-759c1eda4bc7"
   },
   "outputs": [
    {
     "data": {
      "text/plain": [
       "Timestamp('2010-12-01 08:26:00')"
      ]
     },
     "execution_count": 78,
     "metadata": {
      "tags": []
     },
     "output_type": "execute_result"
    }
   ],
   "source": [
    "online_retail_history.InvoiceDate.min()"
   ]
  },
  {
   "cell_type": "code",
   "execution_count": null,
   "metadata": {
    "colab": {
     "base_uri": "https://localhost:8080/",
     "height": 204
    },
    "id": "z9glCPamooQB",
    "outputId": "4d6a9b07-6f4d-459f-81ac-f67d9536c171"
   },
   "outputs": [
    {
     "data": {
      "text/html": [
       "<div>\n",
       "<style scoped>\n",
       "    .dataframe tbody tr th:only-of-type {\n",
       "        vertical-align: middle;\n",
       "    }\n",
       "\n",
       "    .dataframe tbody tr th {\n",
       "        vertical-align: top;\n",
       "    }\n",
       "\n",
       "    .dataframe thead th {\n",
       "        text-align: right;\n",
       "    }\n",
       "</style>\n",
       "<table border=\"1\" class=\"dataframe\">\n",
       "  <thead>\n",
       "    <tr style=\"text-align: right;\">\n",
       "      <th></th>\n",
       "      <th>Invoice</th>\n",
       "      <th>StockCode</th>\n",
       "      <th>Quantity</th>\n",
       "      <th>InvoiceDate</th>\n",
       "      <th>Price</th>\n",
       "      <th>CustomerID</th>\n",
       "      <th>Country</th>\n",
       "      <th>Description</th>\n",
       "      <th>Day</th>\n",
       "      <th>DayOfWeek</th>\n",
       "      <th>Year</th>\n",
       "      <th>Month</th>\n",
       "    </tr>\n",
       "  </thead>\n",
       "  <tbody>\n",
       "    <tr>\n",
       "      <th>0</th>\n",
       "      <td>536365</td>\n",
       "      <td>85123A</td>\n",
       "      <td>6</td>\n",
       "      <td>2010-12-01 08:26:00</td>\n",
       "      <td>2.55</td>\n",
       "      <td>u1785</td>\n",
       "      <td>United Kingdom</td>\n",
       "      <td>CREAM HANGING HEART T-LIGHT HOLDER</td>\n",
       "      <td>1</td>\n",
       "      <td>Wednesday</td>\n",
       "      <td>2010</td>\n",
       "      <td>12</td>\n",
       "    </tr>\n",
       "    <tr>\n",
       "      <th>1</th>\n",
       "      <td>536365</td>\n",
       "      <td>71053</td>\n",
       "      <td>6</td>\n",
       "      <td>2010-12-01 08:26:00</td>\n",
       "      <td>3.39</td>\n",
       "      <td>u1785</td>\n",
       "      <td>United Kingdom</td>\n",
       "      <td>WHITE MOROCCAN METAL LANTERN</td>\n",
       "      <td>1</td>\n",
       "      <td>Wednesday</td>\n",
       "      <td>2010</td>\n",
       "      <td>12</td>\n",
       "    </tr>\n",
       "    <tr>\n",
       "      <th>2</th>\n",
       "      <td>536365</td>\n",
       "      <td>84406B</td>\n",
       "      <td>8</td>\n",
       "      <td>2010-12-01 08:26:00</td>\n",
       "      <td>2.75</td>\n",
       "      <td>u1785</td>\n",
       "      <td>United Kingdom</td>\n",
       "      <td>CREAM CUPID HEARTS COAT HANGER</td>\n",
       "      <td>1</td>\n",
       "      <td>Wednesday</td>\n",
       "      <td>2010</td>\n",
       "      <td>12</td>\n",
       "    </tr>\n",
       "    <tr>\n",
       "      <th>3</th>\n",
       "      <td>536365</td>\n",
       "      <td>84029G</td>\n",
       "      <td>6</td>\n",
       "      <td>2010-12-01 08:26:00</td>\n",
       "      <td>3.39</td>\n",
       "      <td>u1785</td>\n",
       "      <td>United Kingdom</td>\n",
       "      <td>KNITTED UNION FLAG HOT WATER BOTTLE</td>\n",
       "      <td>1</td>\n",
       "      <td>Wednesday</td>\n",
       "      <td>2010</td>\n",
       "      <td>12</td>\n",
       "    </tr>\n",
       "    <tr>\n",
       "      <th>4</th>\n",
       "      <td>536365</td>\n",
       "      <td>84029E</td>\n",
       "      <td>6</td>\n",
       "      <td>2010-12-01 08:26:00</td>\n",
       "      <td>3.39</td>\n",
       "      <td>u1785</td>\n",
       "      <td>United Kingdom</td>\n",
       "      <td>RED WOOLLY HOTTIE WHITE HEART.</td>\n",
       "      <td>1</td>\n",
       "      <td>Wednesday</td>\n",
       "      <td>2010</td>\n",
       "      <td>12</td>\n",
       "    </tr>\n",
       "  </tbody>\n",
       "</table>\n",
       "</div>"
      ],
      "text/plain": [
       "  Invoice StockCode  Quantity         InvoiceDate  ...  Day  DayOfWeek  Year Month\n",
       "0  536365    85123A         6 2010-12-01 08:26:00  ...    1  Wednesday  2010    12\n",
       "1  536365     71053         6 2010-12-01 08:26:00  ...    1  Wednesday  2010    12\n",
       "2  536365    84406B         8 2010-12-01 08:26:00  ...    1  Wednesday  2010    12\n",
       "3  536365    84029G         6 2010-12-01 08:26:00  ...    1  Wednesday  2010    12\n",
       "4  536365    84029E         6 2010-12-01 08:26:00  ...    1  Wednesday  2010    12\n",
       "\n",
       "[5 rows x 12 columns]"
      ]
     },
     "execution_count": 88,
     "metadata": {
      "tags": []
     },
     "output_type": "execute_result"
    }
   ],
   "source": [
    "dec = online_retail_history[(online_retail_history['Month'] == 12)]\n",
    "dec.head()"
   ]
  },
  {
   "cell_type": "code",
   "execution_count": null,
   "metadata": {
    "colab": {
     "base_uri": "https://localhost:8080/",
     "height": 309
    },
    "id": "TIxKe2DXoxF8",
    "outputId": "874b6ba1-b054-4621-ce41-214ebf05e0ca"
   },
   "outputs": [
    {
     "data": {
      "image/png": "[encoded data removed]",
      "text/plain": [
       "<Figure size 432x288 with 1 Axes>"
      ]
     },
     "metadata": {
      "tags": []
     },
     "output_type": "display_data"
    }
   ],
   "source": [
    "online_retail_history.groupby(['Year']).sum()['Quantity'].plot(kind = 'bar', color = 'green', alpha = 0.9)\n",
    "plt.title(\"Year 2010 December Sales vs Year 11 December 2011\", size = 10)\n",
    "plt.ylabel(\"Quantity in 1000s\");"
   ]
  },
  {
   "cell_type": "code",
   "execution_count": null,
   "metadata": {
    "id": "Wp4gO7cAoQWY"
   },
   "outputs": [],
   "source": [
    "# save the dataset for the next notebooks\n",
    "\n",
    "online_retail_history.to_pickle(\"../data/online_history_w_new_columns.pkl\")"
   ]
  },
  {
   "cell_type": "markdown",
   "metadata": {
    "id": "878ZKyXDCOEz"
   },
   "source": [
    "**Don't Cheat**\n",
    "\n",
    "Some initial insights...\n",
    "\n",
    "1) Most of the customers are from the United Kingdom followed by the Germany, France & EIRE.\n",
    "\n",
    "2) If we check the average price sale by countries, what we have observed is that Singapore has the highest averge price sale.\n",
    "\n",
    "3) Most of the countries data is skewed when it comes to the Price feature with lots of higher extreme values.\n",
    "\n",
    "4) Our Top 3 Best Selling Products are World War 2 Gliders, Popcorn Holder, Jumbo Red Bag.\n",
    "\n",
    "5) Most Transactions happened in the month of Novemeber which is evident due to festive seasons.\n",
    "\n",
    "6) It also observed that in the end of the 1st week, people tends to buy more.\n",
    "\n",
    "7) People loves to shop on Thursday followed by Wednesday and Tuesday.\n",
    "\n"
   ]
  },
  {
   "cell_type": "code",
   "execution_count": null,
   "metadata": {
    "id": "nbkPT8-WFU6y"
   },
   "outputs": [],
   "source": [
    "# Took inspiration from the following repo: https://github.com/mukulsinghal001/customer-lifetime-prediction-using-python/blob/main/Customer%20Lifetime%20Prediction%20Using%20Probabilistic%20Models%20-%20Midway%20Report.ipynb\n"
   ]
  },
  {
   "cell_type": "code",
   "execution_count": null,
   "metadata": {
    "id": "Kn59hIvAnxyV"
   },
   "outputs": [],
   "source": []
  }
 ],
 "metadata": {
  "colab": {
   "provenance": []
  },
  "kernelspec": {
   "display_name": "Python 3",
   "language": "python",
   "name": "python3"
  },
  "language_info": {
   "codemirror_mode": {
    "name": "ipython",
    "version": 3
   },
   "file_extension": ".py",
   "mimetype": "text/x-python",
   "name": "python",
   "nbconvert_exporter": "python",
   "pygments_lexer": "ipython3",
   "version": "3.8.10"
  }
 },
 "nbformat": 4,
 "nbformat_minor": 1
}
